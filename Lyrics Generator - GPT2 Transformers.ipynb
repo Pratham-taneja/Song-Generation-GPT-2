{
 "cells": [
  {
   "cell_type": "markdown",
   "metadata": {},
   "source": [
    "# Instructions\n",
    "\n",
    "Run the cells in sequential order\n",
    "\n",
    "Dataset - https://huggingface.co/datasets/huggingartists/taylor-swift\n",
    "\n",
    "The Taylor Swift dataset on Hugging Face is a collection of lyrics from Taylor Swift's songs, which have been curated and tokenized for use with Hugging Face's natural language processing tools. The dataset includes lyrics from all of Taylor Swift's albums, including deluxe editions and bonus tracks. The dataset is provided in JSON format and includes a list of dictionaries, where each dictionary represents a song and includes the album, song name, lyrics, and the year of release. Additionally, each song's lyrics have been tokenized into individual words or subwords, which makes it easy to use with Hugging Face's transformers, a popular framework for training and deploying state-of-the-art language models\n",
    "\n",
    "Steps performed -\n",
    "\n",
    "1) Dataset parsing\n",
    "\n",
    "2) Tokenization, removal of special charactors, nan removal, \n",
    "\n",
    "3) Loading GPT2 model\n",
    "\n",
    "4) Word embedding creation\n",
    "\n",
    "5) Training \n",
    "\n",
    "6) Generation\n",
    "\n",
    "7) Rogue Score\n",
    "\n",
    "## To get started\n",
    "Download the dataset and place in same directory. \n",
    "Run the cells sequentially\n",
    "(training takes a long time, so use GPU)\n",
    "\n",
    "--------------\n",
    "Contributed by - Tannistha Mandal"
   ]
  },
  {
   "cell_type": "code",
   "execution_count": 48,
   "metadata": {
    "colab": {
     "base_uri": "https://localhost:8080/"
    },
    "id": "J-1KQxaQ94ra",
    "outputId": "b888ecf2-5ec7-42f5-d46e-182485f049bf"
   },
   "outputs": [
    {
     "name": "stdout",
     "output_type": "stream",
     "text": [
      "Looking in indexes: https://pypi.org/simple, https://us-python.pkg.dev/colab-wheels/public/simple/\n",
      "Requirement already satisfied: datasets in /usr/local/lib/python3.9/dist-packages (2.11.0)\n",
      "Requirement already satisfied: tqdm>=4.62.1 in /usr/local/lib/python3.9/dist-packages (from datasets) (4.65.0)\n",
      "Requirement already satisfied: packaging in /usr/local/lib/python3.9/dist-packages (from datasets) (23.0)\n",
      "Requirement already satisfied: pyyaml>=5.1 in /usr/local/lib/python3.9/dist-packages (from datasets) (6.0)\n",
      "Requirement already satisfied: numpy>=1.17 in /usr/local/lib/python3.9/dist-packages (from datasets) (1.22.4)\n",
      "Requirement already satisfied: dill<0.3.7,>=0.3.0 in /usr/local/lib/python3.9/dist-packages (from datasets) (0.3.6)\n",
      "Requirement already satisfied: pandas in /usr/local/lib/python3.9/dist-packages (from datasets) (1.5.3)\n",
      "Requirement already satisfied: xxhash in /usr/local/lib/python3.9/dist-packages (from datasets) (3.2.0)\n",
      "Requirement already satisfied: pyarrow>=8.0.0 in /usr/local/lib/python3.9/dist-packages (from datasets) (9.0.0)\n",
      "Requirement already satisfied: fsspec[http]>=2021.11.1 in /usr/local/lib/python3.9/dist-packages (from datasets) (2023.4.0)\n",
      "Requirement already satisfied: aiohttp in /usr/local/lib/python3.9/dist-packages (from datasets) (3.8.4)\n",
      "Requirement already satisfied: responses<0.19 in /usr/local/lib/python3.9/dist-packages (from datasets) (0.18.0)\n",
      "Requirement already satisfied: huggingface-hub<1.0.0,>=0.11.0 in /usr/local/lib/python3.9/dist-packages (from datasets) (0.13.4)\n",
      "Requirement already satisfied: requests>=2.19.0 in /usr/local/lib/python3.9/dist-packages (from datasets) (2.27.1)\n",
      "Requirement already satisfied: multiprocess in /usr/local/lib/python3.9/dist-packages (from datasets) (0.70.14)\n",
      "Requirement already satisfied: charset-normalizer<4.0,>=2.0 in /usr/local/lib/python3.9/dist-packages (from aiohttp->datasets) (2.0.12)\n",
      "Requirement already satisfied: async-timeout<5.0,>=4.0.0a3 in /usr/local/lib/python3.9/dist-packages (from aiohttp->datasets) (4.0.2)\n",
      "Requirement already satisfied: aiosignal>=1.1.2 in /usr/local/lib/python3.9/dist-packages (from aiohttp->datasets) (1.3.1)\n",
      "Requirement already satisfied: attrs>=17.3.0 in /usr/local/lib/python3.9/dist-packages (from aiohttp->datasets) (22.2.0)\n",
      "Requirement already satisfied: frozenlist>=1.1.1 in /usr/local/lib/python3.9/dist-packages (from aiohttp->datasets) (1.3.3)\n",
      "Requirement already satisfied: yarl<2.0,>=1.0 in /usr/local/lib/python3.9/dist-packages (from aiohttp->datasets) (1.8.2)\n",
      "Requirement already satisfied: multidict<7.0,>=4.5 in /usr/local/lib/python3.9/dist-packages (from aiohttp->datasets) (6.0.4)\n",
      "Requirement already satisfied: typing-extensions>=3.7.4.3 in /usr/local/lib/python3.9/dist-packages (from huggingface-hub<1.0.0,>=0.11.0->datasets) (4.5.0)\n",
      "Requirement already satisfied: filelock in /usr/local/lib/python3.9/dist-packages (from huggingface-hub<1.0.0,>=0.11.0->datasets) (3.11.0)\n",
      "Requirement already satisfied: certifi>=2017.4.17 in /usr/local/lib/python3.9/dist-packages (from requests>=2.19.0->datasets) (2022.12.7)\n",
      "Requirement already satisfied: urllib3<1.27,>=1.21.1 in /usr/local/lib/python3.9/dist-packages (from requests>=2.19.0->datasets) (1.26.15)\n",
      "Requirement already satisfied: idna<4,>=2.5 in /usr/local/lib/python3.9/dist-packages (from requests>=2.19.0->datasets) (3.4)\n",
      "Requirement already satisfied: pytz>=2020.1 in /usr/local/lib/python3.9/dist-packages (from pandas->datasets) (2022.7.1)\n",
      "Requirement already satisfied: python-dateutil>=2.8.1 in /usr/local/lib/python3.9/dist-packages (from pandas->datasets) (2.8.2)\n",
      "Requirement already satisfied: six>=1.5 in /usr/local/lib/python3.9/dist-packages (from python-dateutil>=2.8.1->pandas->datasets) (1.16.0)\n"
     ]
    }
   ],
   "source": [
    "!pip install datasets"
   ]
  },
  {
   "cell_type": "code",
   "execution_count": 49,
   "metadata": {
    "colab": {
     "base_uri": "https://localhost:8080/"
    },
    "id": "hjH3RckW-m-i",
    "outputId": "111ef07d-f27b-4bae-a4b2-37a3e706588a"
   },
   "outputs": [
    {
     "name": "stdout",
     "output_type": "stream",
     "text": [
      "Looking in indexes: https://pypi.org/simple, https://us-python.pkg.dev/colab-wheels/public/simple/\n",
      "Requirement already satisfied: torch in /usr/local/lib/python3.9/dist-packages (2.0.0+cu118)\n",
      "Requirement already satisfied: jinja2 in /usr/local/lib/python3.9/dist-packages (from torch) (3.1.2)\n",
      "Requirement already satisfied: filelock in /usr/local/lib/python3.9/dist-packages (from torch) (3.11.0)\n",
      "Requirement already satisfied: typing-extensions in /usr/local/lib/python3.9/dist-packages (from torch) (4.5.0)\n",
      "Requirement already satisfied: sympy in /usr/local/lib/python3.9/dist-packages (from torch) (1.11.1)\n",
      "Requirement already satisfied: networkx in /usr/local/lib/python3.9/dist-packages (from torch) (3.1)\n",
      "Requirement already satisfied: triton==2.0.0 in /usr/local/lib/python3.9/dist-packages (from torch) (2.0.0)\n",
      "Requirement already satisfied: cmake in /usr/local/lib/python3.9/dist-packages (from triton==2.0.0->torch) (3.25.2)\n",
      "Requirement already satisfied: lit in /usr/local/lib/python3.9/dist-packages (from triton==2.0.0->torch) (16.0.1)\n",
      "Requirement already satisfied: MarkupSafe>=2.0 in /usr/local/lib/python3.9/dist-packages (from jinja2->torch) (2.1.2)\n",
      "Requirement already satisfied: mpmath>=0.19 in /usr/local/lib/python3.9/dist-packages (from sympy->torch) (1.3.0)\n"
     ]
    }
   ],
   "source": [
    "!pip install torch"
   ]
  },
  {
   "cell_type": "markdown",
   "metadata": {
    "id": "Z93tkWSlGIut"
   },
   "source": [
    "## Importing Required Libraries"
   ]
  },
  {
   "cell_type": "code",
   "execution_count": 50,
   "metadata": {
    "id": "Bpd31JM-95Nd"
   },
   "outputs": [],
   "source": [
    "import pandas as pd\n",
    "import numpy as np\n",
    "from datasets import load_dataset, Dataset, DatasetDict"
   ]
  },
  {
   "cell_type": "markdown",
   "metadata": {
    "id": "I1PBxAeJGLiN"
   },
   "source": [
    "## Loading Data"
   ]
  },
  {
   "cell_type": "code",
   "execution_count": 51,
   "metadata": {
    "colab": {
     "base_uri": "https://localhost:8080/",
     "height": 86,
     "referenced_widgets": [
      "454cfcc34a724393bcbc8b378e99c51c",
      "4c23c79ba8bc47be887cc15d304dc3d4",
      "d7ee0c3a7e26474b97fb3ca9ba9e3f14",
      "db1806e0b2254280809e9283466dfdfc",
      "244ec3777ab942699df4ad59054644a7",
      "946f31fd8b554b06ae80d95d828035ec",
      "1bf058a79d5e40a498c14458f86bfeaf",
      "221a57d6208b4e98a3953c13db97ff58",
      "bccbcf263824438f9587428232145793",
      "af7b865cfbc9487ca90280c92ae0f8f4",
      "9481fcc48bfd4b038e6b7e088575d8a4"
     ]
    },
    "id": "YRDoEk349-Bq",
    "outputId": "a15c314e-9d39-4769-903b-5753c4dd2cd3"
   },
   "outputs": [
    {
     "name": "stderr",
     "output_type": "stream",
     "text": [
      "WARNING:datasets.builder:Found cached dataset taylor-swift (/root/.cache/huggingface/datasets/huggingartists___taylor-swift/default/1.0.0/210524e42643c737ed17d053c85803a6ab0b11210b1219e820ed4fccf3c6d793)\n"
     ]
    },
    {
     "data": {
      "application/vnd.jupyter.widget-view+json": {
       "model_id": "454cfcc34a724393bcbc8b378e99c51c",
       "version_major": 2,
       "version_minor": 0
      },
      "text/plain": [
       "  0%|          | 0/1 [00:00<?, ?it/s]"
      ]
     },
     "metadata": {},
     "output_type": "display_data"
    }
   ],
   "source": [
    "data = load_dataset(\"huggingartists/taylor-swift\")\n"
   ]
  },
  {
   "cell_type": "markdown",
   "metadata": {
    "id": "Bq1qc0LBGOl_"
   },
   "source": [
    "## Splitting into Training and Test Data"
   ]
  },
  {
   "cell_type": "code",
   "execution_count": 52,
   "metadata": {
    "id": "01giE9ZiAXc1"
   },
   "outputs": [],
   "source": [
    "train_percentage = 1\n",
    "validation_percentage = 0\n",
    "test_percentage = 0\n",
    "\n",
    "train, validation, test = np.split(data['train']['text'], [int(len(data['train']['text'])*train_percentage), int(len(data['train']['text'])*(train_percentage + validation_percentage))])\n",
    "\n",
    "data = DatasetDict(\n",
    "    {\n",
    "        'train': Dataset.from_dict({'text': list(train)}),\n",
    "        'validation': Dataset.from_dict({'text': list(validation)}),\n",
    "        'test': Dataset.from_dict({'text': list(test)})\n",
    "    }\n",
    ")\n",
    "\n",
    "train_data = data['train']['text']"
   ]
  },
  {
   "cell_type": "markdown",
   "metadata": {
    "id": "wjzcD3m7GjnR"
   },
   "source": [
    "## Preprocessing of Data"
   ]
  },
  {
   "cell_type": "code",
   "execution_count": 53,
   "metadata": {
    "id": "T4eTIqP7-2HZ"
   },
   "outputs": [],
   "source": [
    "\"\"\"\n",
    "Clean and recreate the dataset:\n",
    "a. Remove special characters\n",
    "b. Substitute multiple spaces with single spaces\n",
    "c. Convert to lower case\n",
    "\"\"\"\n",
    "\n",
    "import re\n",
    "def eda(sentences):\n",
    "    processed_sentences = []\n",
    "\n",
    "    for s in sentences:\n",
    "        # Remove all the special characters\n",
    "        processed_sentence = re.sub(r'\\W', ' ', str(s))\n",
    "\n",
    "        # Substituting multiple spaces with single space\n",
    "        processed_sentence = re.sub(r'\\s+', ' ', processed_sentence, flags=re.I)\n",
    "        \n",
    "        # Converting to Lowercase\n",
    "        processed_sentence = processed_sentence.lower()\n",
    "\n",
    "        processed_sentences.append(processed_sentence)\n",
    "        \n",
    "    return processed_sentences\n",
    "\n"
   ]
  },
  {
   "cell_type": "code",
   "execution_count": 54,
   "metadata": {
    "colab": {
     "base_uri": "https://localhost:8080/"
    },
    "id": "LGGmj34t_PV9",
    "outputId": "73739d72-c157-4099-88c2-7b6b6a08fa56"
   },
   "outputs": [
    {
     "name": "stdout",
     "output_type": "stream",
     "text": [
      "Length of song_data : 762\n"
     ]
    }
   ],
   "source": [
    "# Printing number of songs in the dataset\n",
    "song_data = eda(data['train']['text'])\n",
    "print(\"Length of song_data :\", len(song_data))\n"
   ]
  },
  {
   "cell_type": "code",
   "execution_count": 55,
   "metadata": {
    "colab": {
     "base_uri": "https://localhost:8080/",
     "height": 123
    },
    "id": "4ck3HCax_d6R",
    "outputId": "2507b5a8-2c0f-4bd2-e244-5c9c5f300973"
   },
   "outputs": [
    {
     "data": {
      "application/vnd.google.colaboratory.intrinsic+json": {
       "type": "string"
      },
      "text/plain": [
       "'car rides to malibu strawberry ice cream one spoon for two and tradin jackets laughin bout how small it looks on you watching reruns of glee bein annoying singin in harmony i bet shes braggin to all her friends sayin youre so unique hmm so when you gonna tell her that we did that too she thinks its special but its all reused that was our place i found it first i made the jokes you tell to her when shes with you do you get déjà vu when she s with you do you get déjà vu hmm do you get déjà vu huh do you call her almost say my name cause lets be honest we kinda do sound the same another actress i hate to think that i was just your type and i bet that she knows billy joel cause you played her uptown girl youre singin it together now i bet you even tell her how you love her in between the chorus and the verse so when you gonna tell her that we did that too she thinks its special but it s all reused that was the show we talked about played you the songs shes singing now when shes with you do you get déjà vu when shes with you do you get déjà vu do you get déjà vu strawberry ice cream in malibu dont act like we didnt do that shit too youre tradin jackets like we used to do play her piano but she doesnt know that i was the one who taught you billy joel a different girl now but theres nothing new i know you get déjà vu i know you get déjà vu i know you get déjà vu'"
      ]
     },
     "execution_count": 55,
     "metadata": {},
     "output_type": "execute_result"
    }
   ],
   "source": [
    "# Printing first song lyrics\n",
    "song_data[0]"
   ]
  },
  {
   "cell_type": "markdown",
   "metadata": {
    "id": "KIQdWad8GprC"
   },
   "source": [
    "## Saving Data into Dataframe"
   ]
  },
  {
   "cell_type": "code",
   "execution_count": 56,
   "metadata": {
    "colab": {
     "base_uri": "https://localhost:8080/",
     "height": 206
    },
    "id": "9Rm9Gv7w_iFw",
    "outputId": "bf03b3bf-a4b7-4956-d4aa-ee4e999f6b08"
   },
   "outputs": [
    {
     "data": {
      "text/html": [
       "\n",
       "  <div id=\"df-db155e2d-f269-4667-bf17-c2fd14518471\">\n",
       "    <div class=\"colab-df-container\">\n",
       "      <div>\n",
       "<style scoped>\n",
       "    .dataframe tbody tr th:only-of-type {\n",
       "        vertical-align: middle;\n",
       "    }\n",
       "\n",
       "    .dataframe tbody tr th {\n",
       "        vertical-align: top;\n",
       "    }\n",
       "\n",
       "    .dataframe thead th {\n",
       "        text-align: right;\n",
       "    }\n",
       "</style>\n",
       "<table border=\"1\" class=\"dataframe\">\n",
       "  <thead>\n",
       "    <tr style=\"text-align: right;\">\n",
       "      <th></th>\n",
       "      <th>All_Songs</th>\n",
       "    </tr>\n",
       "  </thead>\n",
       "  <tbody>\n",
       "    <tr>\n",
       "      <th>0</th>\n",
       "      <td>car rides to malibu strawberry ice cream one s...</td>\n",
       "    </tr>\n",
       "    <tr>\n",
       "      <th>1</th>\n",
       "      <td>vintage tee brand new phone high heels on cobb...</td>\n",
       "    </tr>\n",
       "    <tr>\n",
       "      <th>2</th>\n",
       "      <td>i can see you standing honey with his arms aro...</td>\n",
       "    </tr>\n",
       "    <tr>\n",
       "      <th>3</th>\n",
       "      <td>we could leave the christmas lights up til jan...</td>\n",
       "    </tr>\n",
       "    <tr>\n",
       "      <th>4</th>\n",
       "      <td>im doing good im on some new shit been saying ...</td>\n",
       "    </tr>\n",
       "  </tbody>\n",
       "</table>\n",
       "</div>\n",
       "      <button class=\"colab-df-convert\" onclick=\"convertToInteractive('df-db155e2d-f269-4667-bf17-c2fd14518471')\"\n",
       "              title=\"Convert this dataframe to an interactive table.\"\n",
       "              style=\"display:none;\">\n",
       "        \n",
       "  <svg xmlns=\"http://www.w3.org/2000/svg\" height=\"24px\"viewBox=\"0 0 24 24\"\n",
       "       width=\"24px\">\n",
       "    <path d=\"M0 0h24v24H0V0z\" fill=\"none\"/>\n",
       "    <path d=\"M18.56 5.44l.94 2.06.94-2.06 2.06-.94-2.06-.94-.94-2.06-.94 2.06-2.06.94zm-11 1L8.5 8.5l.94-2.06 2.06-.94-2.06-.94L8.5 2.5l-.94 2.06-2.06.94zm10 10l.94 2.06.94-2.06 2.06-.94-2.06-.94-.94-2.06-.94 2.06-2.06.94z\"/><path d=\"M17.41 7.96l-1.37-1.37c-.4-.4-.92-.59-1.43-.59-.52 0-1.04.2-1.43.59L10.3 9.45l-7.72 7.72c-.78.78-.78 2.05 0 2.83L4 21.41c.39.39.9.59 1.41.59.51 0 1.02-.2 1.41-.59l7.78-7.78 2.81-2.81c.8-.78.8-2.07 0-2.86zM5.41 20L4 18.59l7.72-7.72 1.47 1.35L5.41 20z\"/>\n",
       "  </svg>\n",
       "      </button>\n",
       "      \n",
       "  <style>\n",
       "    .colab-df-container {\n",
       "      display:flex;\n",
       "      flex-wrap:wrap;\n",
       "      gap: 12px;\n",
       "    }\n",
       "\n",
       "    .colab-df-convert {\n",
       "      background-color: #E8F0FE;\n",
       "      border: none;\n",
       "      border-radius: 50%;\n",
       "      cursor: pointer;\n",
       "      display: none;\n",
       "      fill: #1967D2;\n",
       "      height: 32px;\n",
       "      padding: 0 0 0 0;\n",
       "      width: 32px;\n",
       "    }\n",
       "\n",
       "    .colab-df-convert:hover {\n",
       "      background-color: #E2EBFA;\n",
       "      box-shadow: 0px 1px 2px rgba(60, 64, 67, 0.3), 0px 1px 3px 1px rgba(60, 64, 67, 0.15);\n",
       "      fill: #174EA6;\n",
       "    }\n",
       "\n",
       "    [theme=dark] .colab-df-convert {\n",
       "      background-color: #3B4455;\n",
       "      fill: #D2E3FC;\n",
       "    }\n",
       "\n",
       "    [theme=dark] .colab-df-convert:hover {\n",
       "      background-color: #434B5C;\n",
       "      box-shadow: 0px 1px 3px 1px rgba(0, 0, 0, 0.15);\n",
       "      filter: drop-shadow(0px 1px 2px rgba(0, 0, 0, 0.3));\n",
       "      fill: #FFFFFF;\n",
       "    }\n",
       "  </style>\n",
       "\n",
       "      <script>\n",
       "        const buttonEl =\n",
       "          document.querySelector('#df-db155e2d-f269-4667-bf17-c2fd14518471 button.colab-df-convert');\n",
       "        buttonEl.style.display =\n",
       "          google.colab.kernel.accessAllowed ? 'block' : 'none';\n",
       "\n",
       "        async function convertToInteractive(key) {\n",
       "          const element = document.querySelector('#df-db155e2d-f269-4667-bf17-c2fd14518471');\n",
       "          const dataTable =\n",
       "            await google.colab.kernel.invokeFunction('convertToInteractive',\n",
       "                                                     [key], {});\n",
       "          if (!dataTable) return;\n",
       "\n",
       "          const docLinkHtml = 'Like what you see? Visit the ' +\n",
       "            '<a target=\"_blank\" href=https://colab.research.google.com/notebooks/data_table.ipynb>data table notebook</a>'\n",
       "            + ' to learn more about interactive tables.';\n",
       "          element.innerHTML = '';\n",
       "          dataTable['output_type'] = 'display_data';\n",
       "          await google.colab.output.renderOutput(dataTable, element);\n",
       "          const docLink = document.createElement('div');\n",
       "          docLink.innerHTML = docLinkHtml;\n",
       "          element.appendChild(docLink);\n",
       "        }\n",
       "      </script>\n",
       "    </div>\n",
       "  </div>\n",
       "  "
      ],
      "text/plain": [
       "                                           All_Songs\n",
       "0  car rides to malibu strawberry ice cream one s...\n",
       "1  vintage tee brand new phone high heels on cobb...\n",
       "2  i can see you standing honey with his arms aro...\n",
       "3  we could leave the christmas lights up til jan...\n",
       "4  im doing good im on some new shit been saying ..."
      ]
     },
     "execution_count": 56,
     "metadata": {},
     "output_type": "execute_result"
    }
   ],
   "source": [
    "#DATAFRAME FOR SONGS\n",
    "taylorswift_songs = pd.DataFrame([item for sublist in [i.split('\\n') for i in song_data] for item in sublist])\n",
    "taylorswift_songs.columns = [\"All_Songs\"]\n",
    "taylorswift_songs.head(5)"
   ]
  },
  {
   "cell_type": "code",
   "execution_count": 57,
   "metadata": {
    "colab": {
     "base_uri": "https://localhost:8080/",
     "height": 206
    },
    "id": "Xng8GBvA_kVR",
    "outputId": "90e02a3f-877e-454c-9da9-dc28ac12bbaf"
   },
   "outputs": [
    {
     "data": {
      "text/html": [
       "\n",
       "  <div id=\"df-6aa34016-8dc0-4a8c-95bf-3be8943ef03d\">\n",
       "    <div class=\"colab-df-container\">\n",
       "      <div>\n",
       "<style scoped>\n",
       "    .dataframe tbody tr th:only-of-type {\n",
       "        vertical-align: middle;\n",
       "    }\n",
       "\n",
       "    .dataframe tbody tr th {\n",
       "        vertical-align: top;\n",
       "    }\n",
       "\n",
       "    .dataframe thead th {\n",
       "        text-align: right;\n",
       "    }\n",
       "</style>\n",
       "<table border=\"1\" class=\"dataframe\">\n",
       "  <thead>\n",
       "    <tr style=\"text-align: right;\">\n",
       "      <th></th>\n",
       "      <th>All_Songs</th>\n",
       "    </tr>\n",
       "  </thead>\n",
       "  <tbody>\n",
       "    <tr>\n",
       "      <th>0</th>\n",
       "      <td>car rides to malibu strawberry ice cream one s...</td>\n",
       "    </tr>\n",
       "    <tr>\n",
       "      <th>1</th>\n",
       "      <td>vintage tee brand new phone high heels on cobb...</td>\n",
       "    </tr>\n",
       "    <tr>\n",
       "      <th>3</th>\n",
       "      <td>we could leave the christmas lights up til jan...</td>\n",
       "    </tr>\n",
       "    <tr>\n",
       "      <th>4</th>\n",
       "      <td>im doing good im on some new shit been saying ...</td>\n",
       "    </tr>\n",
       "    <tr>\n",
       "      <th>7</th>\n",
       "      <td>salt air and the rust on your door i never nee...</td>\n",
       "    </tr>\n",
       "  </tbody>\n",
       "</table>\n",
       "</div>\n",
       "      <button class=\"colab-df-convert\" onclick=\"convertToInteractive('df-6aa34016-8dc0-4a8c-95bf-3be8943ef03d')\"\n",
       "              title=\"Convert this dataframe to an interactive table.\"\n",
       "              style=\"display:none;\">\n",
       "        \n",
       "  <svg xmlns=\"http://www.w3.org/2000/svg\" height=\"24px\"viewBox=\"0 0 24 24\"\n",
       "       width=\"24px\">\n",
       "    <path d=\"M0 0h24v24H0V0z\" fill=\"none\"/>\n",
       "    <path d=\"M18.56 5.44l.94 2.06.94-2.06 2.06-.94-2.06-.94-.94-2.06-.94 2.06-2.06.94zm-11 1L8.5 8.5l.94-2.06 2.06-.94-2.06-.94L8.5 2.5l-.94 2.06-2.06.94zm10 10l.94 2.06.94-2.06 2.06-.94-2.06-.94-.94-2.06-.94 2.06-2.06.94z\"/><path d=\"M17.41 7.96l-1.37-1.37c-.4-.4-.92-.59-1.43-.59-.52 0-1.04.2-1.43.59L10.3 9.45l-7.72 7.72c-.78.78-.78 2.05 0 2.83L4 21.41c.39.39.9.59 1.41.59.51 0 1.02-.2 1.41-.59l7.78-7.78 2.81-2.81c.8-.78.8-2.07 0-2.86zM5.41 20L4 18.59l7.72-7.72 1.47 1.35L5.41 20z\"/>\n",
       "  </svg>\n",
       "      </button>\n",
       "      \n",
       "  <style>\n",
       "    .colab-df-container {\n",
       "      display:flex;\n",
       "      flex-wrap:wrap;\n",
       "      gap: 12px;\n",
       "    }\n",
       "\n",
       "    .colab-df-convert {\n",
       "      background-color: #E8F0FE;\n",
       "      border: none;\n",
       "      border-radius: 50%;\n",
       "      cursor: pointer;\n",
       "      display: none;\n",
       "      fill: #1967D2;\n",
       "      height: 32px;\n",
       "      padding: 0 0 0 0;\n",
       "      width: 32px;\n",
       "    }\n",
       "\n",
       "    .colab-df-convert:hover {\n",
       "      background-color: #E2EBFA;\n",
       "      box-shadow: 0px 1px 2px rgba(60, 64, 67, 0.3), 0px 1px 3px 1px rgba(60, 64, 67, 0.15);\n",
       "      fill: #174EA6;\n",
       "    }\n",
       "\n",
       "    [theme=dark] .colab-df-convert {\n",
       "      background-color: #3B4455;\n",
       "      fill: #D2E3FC;\n",
       "    }\n",
       "\n",
       "    [theme=dark] .colab-df-convert:hover {\n",
       "      background-color: #434B5C;\n",
       "      box-shadow: 0px 1px 3px 1px rgba(0, 0, 0, 0.15);\n",
       "      filter: drop-shadow(0px 1px 2px rgba(0, 0, 0, 0.3));\n",
       "      fill: #FFFFFF;\n",
       "    }\n",
       "  </style>\n",
       "\n",
       "      <script>\n",
       "        const buttonEl =\n",
       "          document.querySelector('#df-6aa34016-8dc0-4a8c-95bf-3be8943ef03d button.colab-df-convert');\n",
       "        buttonEl.style.display =\n",
       "          google.colab.kernel.accessAllowed ? 'block' : 'none';\n",
       "\n",
       "        async function convertToInteractive(key) {\n",
       "          const element = document.querySelector('#df-6aa34016-8dc0-4a8c-95bf-3be8943ef03d');\n",
       "          const dataTable =\n",
       "            await google.colab.kernel.invokeFunction('convertToInteractive',\n",
       "                                                     [key], {});\n",
       "          if (!dataTable) return;\n",
       "\n",
       "          const docLinkHtml = 'Like what you see? Visit the ' +\n",
       "            '<a target=\"_blank\" href=https://colab.research.google.com/notebooks/data_table.ipynb>data table notebook</a>'\n",
       "            + ' to learn more about interactive tables.';\n",
       "          element.innerHTML = '';\n",
       "          dataTable['output_type'] = 'display_data';\n",
       "          await google.colab.output.renderOutput(dataTable, element);\n",
       "          const docLink = document.createElement('div');\n",
       "          docLink.innerHTML = docLinkHtml;\n",
       "          element.appendChild(docLink);\n",
       "        }\n",
       "      </script>\n",
       "    </div>\n",
       "  </div>\n",
       "  "
      ],
      "text/plain": [
       "                                           All_Songs\n",
       "0  car rides to malibu strawberry ice cream one s...\n",
       "1  vintage tee brand new phone high heels on cobb...\n",
       "3  we could leave the christmas lights up til jan...\n",
       "4  im doing good im on some new shit been saying ...\n",
       "7  salt air and the rust on your door i never nee..."
      ]
     },
     "execution_count": 57,
     "metadata": {},
     "output_type": "execute_result"
    }
   ],
   "source": [
    "#Drop the songs with lyrics too long (after more than 1024 tokens, does not work)\n",
    "taylorswift_songs = taylorswift_songs[taylorswift_songs['All_Songs'].apply(lambda x: len(x.split(' ')) < 350)]\n",
    "taylorswift_songs.head()"
   ]
  },
  {
   "cell_type": "markdown",
   "metadata": {
    "id": "CWI7ZFtBG-WM"
   },
   "source": [
    "## Removing NAN values"
   ]
  },
  {
   "cell_type": "code",
   "execution_count": 58,
   "metadata": {
    "id": "JQVVN03OA9s4"
   },
   "outputs": [],
   "source": [
    "df = taylorswift_songs\n",
    "(df=='').any()\n",
    "df.replace('', pd.NA, inplace=True)\n",
    "\n",
    "# Drop rows with NaN values\n",
    "df.dropna(inplace=True)\n"
   ]
  },
  {
   "cell_type": "code",
   "execution_count": 59,
   "metadata": {
    "id": "67LcRzablCm9"
   },
   "outputs": [],
   "source": [
    "df.to_csv('taylor_songs_1.csv', index=False)\n"
   ]
  },
  {
   "cell_type": "markdown",
   "metadata": {
    "id": "L3XtL07GHKoK"
   },
   "source": [
    "## Creating Validation / Testing Data"
   ]
  },
  {
   "cell_type": "code",
   "execution_count": 60,
   "metadata": {
    "id": "m4_ITZGn_961"
   },
   "outputs": [],
   "source": [
    "#Create a very small test set to compare generated text with the reality\n",
    "test_set = df.sample(n = 100)\n",
    "df = df.loc[~df.index.isin(test_set.index)]\n",
    "\n",
    "#Reset the indexes\n",
    "test_set = test_set.reset_index()\n",
    "df = df.reset_index()"
   ]
  },
  {
   "cell_type": "code",
   "execution_count": 61,
   "metadata": {
    "colab": {
     "base_uri": "https://localhost:8080/",
     "height": 206
    },
    "id": "kCdORT5hBNCU",
    "outputId": "e7e81e3d-6e42-4d95-c6e1-1eb7b353d7f2"
   },
   "outputs": [
    {
     "data": {
      "text/html": [
       "\n",
       "  <div id=\"df-d0970f80-9d19-4af3-b76d-88b0b9391f57\">\n",
       "    <div class=\"colab-df-container\">\n",
       "      <div>\n",
       "<style scoped>\n",
       "    .dataframe tbody tr th:only-of-type {\n",
       "        vertical-align: middle;\n",
       "    }\n",
       "\n",
       "    .dataframe tbody tr th {\n",
       "        vertical-align: top;\n",
       "    }\n",
       "\n",
       "    .dataframe thead th {\n",
       "        text-align: right;\n",
       "    }\n",
       "</style>\n",
       "<table border=\"1\" class=\"dataframe\">\n",
       "  <thead>\n",
       "    <tr style=\"text-align: right;\">\n",
       "      <th></th>\n",
       "      <th>index</th>\n",
       "      <th>All_Songs</th>\n",
       "    </tr>\n",
       "  </thead>\n",
       "  <tbody>\n",
       "    <tr>\n",
       "      <th>0</th>\n",
       "      <td>292</td>\n",
       "      <td>ready for it i did something bad gorgeous sty...</td>\n",
       "    </tr>\n",
       "    <tr>\n",
       "      <th>1</th>\n",
       "      <td>406</td>\n",
       "      <td>there is some unbelievable music that has come...</td>\n",
       "    </tr>\n",
       "    <tr>\n",
       "      <th>2</th>\n",
       "      <td>568</td>\n",
       "      <td>1 ready for it 2 gorgeous 3 look what you made...</td>\n",
       "    </tr>\n",
       "    <tr>\n",
       "      <th>3</th>\n",
       "      <td>689</td>\n",
       "      <td>what a shame didnt wanna be the one that got a...</td>\n",
       "    </tr>\n",
       "    <tr>\n",
       "      <th>4</th>\n",
       "      <td>193</td>\n",
       "      <td>loving him is like driving a new maserati down...</td>\n",
       "    </tr>\n",
       "  </tbody>\n",
       "</table>\n",
       "</div>\n",
       "      <button class=\"colab-df-convert\" onclick=\"convertToInteractive('df-d0970f80-9d19-4af3-b76d-88b0b9391f57')\"\n",
       "              title=\"Convert this dataframe to an interactive table.\"\n",
       "              style=\"display:none;\">\n",
       "        \n",
       "  <svg xmlns=\"http://www.w3.org/2000/svg\" height=\"24px\"viewBox=\"0 0 24 24\"\n",
       "       width=\"24px\">\n",
       "    <path d=\"M0 0h24v24H0V0z\" fill=\"none\"/>\n",
       "    <path d=\"M18.56 5.44l.94 2.06.94-2.06 2.06-.94-2.06-.94-.94-2.06-.94 2.06-2.06.94zm-11 1L8.5 8.5l.94-2.06 2.06-.94-2.06-.94L8.5 2.5l-.94 2.06-2.06.94zm10 10l.94 2.06.94-2.06 2.06-.94-2.06-.94-.94-2.06-.94 2.06-2.06.94z\"/><path d=\"M17.41 7.96l-1.37-1.37c-.4-.4-.92-.59-1.43-.59-.52 0-1.04.2-1.43.59L10.3 9.45l-7.72 7.72c-.78.78-.78 2.05 0 2.83L4 21.41c.39.39.9.59 1.41.59.51 0 1.02-.2 1.41-.59l7.78-7.78 2.81-2.81c.8-.78.8-2.07 0-2.86zM5.41 20L4 18.59l7.72-7.72 1.47 1.35L5.41 20z\"/>\n",
       "  </svg>\n",
       "      </button>\n",
       "      \n",
       "  <style>\n",
       "    .colab-df-container {\n",
       "      display:flex;\n",
       "      flex-wrap:wrap;\n",
       "      gap: 12px;\n",
       "    }\n",
       "\n",
       "    .colab-df-convert {\n",
       "      background-color: #E8F0FE;\n",
       "      border: none;\n",
       "      border-radius: 50%;\n",
       "      cursor: pointer;\n",
       "      display: none;\n",
       "      fill: #1967D2;\n",
       "      height: 32px;\n",
       "      padding: 0 0 0 0;\n",
       "      width: 32px;\n",
       "    }\n",
       "\n",
       "    .colab-df-convert:hover {\n",
       "      background-color: #E2EBFA;\n",
       "      box-shadow: 0px 1px 2px rgba(60, 64, 67, 0.3), 0px 1px 3px 1px rgba(60, 64, 67, 0.15);\n",
       "      fill: #174EA6;\n",
       "    }\n",
       "\n",
       "    [theme=dark] .colab-df-convert {\n",
       "      background-color: #3B4455;\n",
       "      fill: #D2E3FC;\n",
       "    }\n",
       "\n",
       "    [theme=dark] .colab-df-convert:hover {\n",
       "      background-color: #434B5C;\n",
       "      box-shadow: 0px 1px 3px 1px rgba(0, 0, 0, 0.15);\n",
       "      filter: drop-shadow(0px 1px 2px rgba(0, 0, 0, 0.3));\n",
       "      fill: #FFFFFF;\n",
       "    }\n",
       "  </style>\n",
       "\n",
       "      <script>\n",
       "        const buttonEl =\n",
       "          document.querySelector('#df-d0970f80-9d19-4af3-b76d-88b0b9391f57 button.colab-df-convert');\n",
       "        buttonEl.style.display =\n",
       "          google.colab.kernel.accessAllowed ? 'block' : 'none';\n",
       "\n",
       "        async function convertToInteractive(key) {\n",
       "          const element = document.querySelector('#df-d0970f80-9d19-4af3-b76d-88b0b9391f57');\n",
       "          const dataTable =\n",
       "            await google.colab.kernel.invokeFunction('convertToInteractive',\n",
       "                                                     [key], {});\n",
       "          if (!dataTable) return;\n",
       "\n",
       "          const docLinkHtml = 'Like what you see? Visit the ' +\n",
       "            '<a target=\"_blank\" href=https://colab.research.google.com/notebooks/data_table.ipynb>data table notebook</a>'\n",
       "            + ' to learn more about interactive tables.';\n",
       "          element.innerHTML = '';\n",
       "          dataTable['output_type'] = 'display_data';\n",
       "          await google.colab.output.renderOutput(dataTable, element);\n",
       "          const docLink = document.createElement('div');\n",
       "          docLink.innerHTML = docLinkHtml;\n",
       "          element.appendChild(docLink);\n",
       "        }\n",
       "      </script>\n",
       "    </div>\n",
       "  </div>\n",
       "  "
      ],
      "text/plain": [
       "   index                                          All_Songs\n",
       "0    292   ready for it i did something bad gorgeous sty...\n",
       "1    406  there is some unbelievable music that has come...\n",
       "2    568  1 ready for it 2 gorgeous 3 look what you made...\n",
       "3    689  what a shame didnt wanna be the one that got a...\n",
       "4    193  loving him is like driving a new maserati down..."
      ]
     },
     "execution_count": 61,
     "metadata": {},
     "output_type": "execute_result"
    }
   ],
   "source": [
    "test_set.head(5)"
   ]
  },
  {
   "cell_type": "markdown",
   "metadata": {
    "id": "i00vC7xwHft2"
   },
   "source": [
    "### Saving last 20 words in a new column. To be used later for comparing Quality of Lyrics generated"
   ]
  },
  {
   "cell_type": "code",
   "execution_count": 62,
   "metadata": {
    "id": "p1VOkFrJBABT"
   },
   "outputs": [],
   "source": [
    "#For the test set only, keep last 20 words in a new column, then remove them from original column\n",
    "test_set['True_end_lyrics'] = test_set['All_Songs'].str.split().str[-20:].apply(' '.join)\n",
    "test_set['Lyrics'] = test_set['All_Songs'].str.split().str[:-20].apply(' '.join)\n"
   ]
  },
  {
   "cell_type": "code",
   "execution_count": 63,
   "metadata": {
    "colab": {
     "base_uri": "https://localhost:8080/",
     "height": 206
    },
    "id": "3t327dzXBKXR",
    "outputId": "dc5e796e-2d76-4312-b40d-751c3ace34f7"
   },
   "outputs": [
    {
     "data": {
      "text/html": [
       "\n",
       "  <div id=\"df-9e1b4fa0-1308-492f-a628-7d6f806f321a\">\n",
       "    <div class=\"colab-df-container\">\n",
       "      <div>\n",
       "<style scoped>\n",
       "    .dataframe tbody tr th:only-of-type {\n",
       "        vertical-align: middle;\n",
       "    }\n",
       "\n",
       "    .dataframe tbody tr th {\n",
       "        vertical-align: top;\n",
       "    }\n",
       "\n",
       "    .dataframe thead th {\n",
       "        text-align: right;\n",
       "    }\n",
       "</style>\n",
       "<table border=\"1\" class=\"dataframe\">\n",
       "  <thead>\n",
       "    <tr style=\"text-align: right;\">\n",
       "      <th></th>\n",
       "      <th>index</th>\n",
       "      <th>All_Songs</th>\n",
       "      <th>True_end_lyrics</th>\n",
       "      <th>Lyrics</th>\n",
       "    </tr>\n",
       "  </thead>\n",
       "  <tbody>\n",
       "    <tr>\n",
       "      <th>0</th>\n",
       "      <td>292</td>\n",
       "      <td>ready for it i did something bad gorgeous sty...</td>\n",
       "      <td>long live new years daygetaway carwe are never...</td>\n",
       "      <td>ready for it i did something bad gorgeous styl...</td>\n",
       "    </tr>\n",
       "    <tr>\n",
       "      <th>1</th>\n",
       "      <td>406</td>\n",
       "      <td>there is some unbelievable music that has come...</td>\n",
       "      <td>what it takes to make a pro blush all the boys...</td>\n",
       "      <td>there is some unbelievable music that has come...</td>\n",
       "    </tr>\n",
       "    <tr>\n",
       "      <th>2</th>\n",
       "      <td>568</td>\n",
       "      <td>1 ready for it 2 gorgeous 3 look what you made...</td>\n",
       "      <td>for it 2 gorgeous 3 look what you made me do 4...</td>\n",
       "      <td>1 ready</td>\n",
       "    </tr>\n",
       "    <tr>\n",
       "      <th>3</th>\n",
       "      <td>689</td>\n",
       "      <td>what a shame didnt wanna be the one that got a...</td>\n",
       "      <td>this is the last time you said no one else thi...</td>\n",
       "      <td>what a shame didnt wanna be the one that got a...</td>\n",
       "    </tr>\n",
       "    <tr>\n",
       "      <th>4</th>\n",
       "      <td>193</td>\n",
       "      <td>loving him is like driving a new maserati down...</td>\n",
       "      <td>was red red red red red red loving him is like...</td>\n",
       "      <td>loving him is like driving a new maserati down...</td>\n",
       "    </tr>\n",
       "  </tbody>\n",
       "</table>\n",
       "</div>\n",
       "      <button class=\"colab-df-convert\" onclick=\"convertToInteractive('df-9e1b4fa0-1308-492f-a628-7d6f806f321a')\"\n",
       "              title=\"Convert this dataframe to an interactive table.\"\n",
       "              style=\"display:none;\">\n",
       "        \n",
       "  <svg xmlns=\"http://www.w3.org/2000/svg\" height=\"24px\"viewBox=\"0 0 24 24\"\n",
       "       width=\"24px\">\n",
       "    <path d=\"M0 0h24v24H0V0z\" fill=\"none\"/>\n",
       "    <path d=\"M18.56 5.44l.94 2.06.94-2.06 2.06-.94-2.06-.94-.94-2.06-.94 2.06-2.06.94zm-11 1L8.5 8.5l.94-2.06 2.06-.94-2.06-.94L8.5 2.5l-.94 2.06-2.06.94zm10 10l.94 2.06.94-2.06 2.06-.94-2.06-.94-.94-2.06-.94 2.06-2.06.94z\"/><path d=\"M17.41 7.96l-1.37-1.37c-.4-.4-.92-.59-1.43-.59-.52 0-1.04.2-1.43.59L10.3 9.45l-7.72 7.72c-.78.78-.78 2.05 0 2.83L4 21.41c.39.39.9.59 1.41.59.51 0 1.02-.2 1.41-.59l7.78-7.78 2.81-2.81c.8-.78.8-2.07 0-2.86zM5.41 20L4 18.59l7.72-7.72 1.47 1.35L5.41 20z\"/>\n",
       "  </svg>\n",
       "      </button>\n",
       "      \n",
       "  <style>\n",
       "    .colab-df-container {\n",
       "      display:flex;\n",
       "      flex-wrap:wrap;\n",
       "      gap: 12px;\n",
       "    }\n",
       "\n",
       "    .colab-df-convert {\n",
       "      background-color: #E8F0FE;\n",
       "      border: none;\n",
       "      border-radius: 50%;\n",
       "      cursor: pointer;\n",
       "      display: none;\n",
       "      fill: #1967D2;\n",
       "      height: 32px;\n",
       "      padding: 0 0 0 0;\n",
       "      width: 32px;\n",
       "    }\n",
       "\n",
       "    .colab-df-convert:hover {\n",
       "      background-color: #E2EBFA;\n",
       "      box-shadow: 0px 1px 2px rgba(60, 64, 67, 0.3), 0px 1px 3px 1px rgba(60, 64, 67, 0.15);\n",
       "      fill: #174EA6;\n",
       "    }\n",
       "\n",
       "    [theme=dark] .colab-df-convert {\n",
       "      background-color: #3B4455;\n",
       "      fill: #D2E3FC;\n",
       "    }\n",
       "\n",
       "    [theme=dark] .colab-df-convert:hover {\n",
       "      background-color: #434B5C;\n",
       "      box-shadow: 0px 1px 3px 1px rgba(0, 0, 0, 0.15);\n",
       "      filter: drop-shadow(0px 1px 2px rgba(0, 0, 0, 0.3));\n",
       "      fill: #FFFFFF;\n",
       "    }\n",
       "  </style>\n",
       "\n",
       "      <script>\n",
       "        const buttonEl =\n",
       "          document.querySelector('#df-9e1b4fa0-1308-492f-a628-7d6f806f321a button.colab-df-convert');\n",
       "        buttonEl.style.display =\n",
       "          google.colab.kernel.accessAllowed ? 'block' : 'none';\n",
       "\n",
       "        async function convertToInteractive(key) {\n",
       "          const element = document.querySelector('#df-9e1b4fa0-1308-492f-a628-7d6f806f321a');\n",
       "          const dataTable =\n",
       "            await google.colab.kernel.invokeFunction('convertToInteractive',\n",
       "                                                     [key], {});\n",
       "          if (!dataTable) return;\n",
       "\n",
       "          const docLinkHtml = 'Like what you see? Visit the ' +\n",
       "            '<a target=\"_blank\" href=https://colab.research.google.com/notebooks/data_table.ipynb>data table notebook</a>'\n",
       "            + ' to learn more about interactive tables.';\n",
       "          element.innerHTML = '';\n",
       "          dataTable['output_type'] = 'display_data';\n",
       "          await google.colab.output.renderOutput(dataTable, element);\n",
       "          const docLink = document.createElement('div');\n",
       "          docLink.innerHTML = docLinkHtml;\n",
       "          element.appendChild(docLink);\n",
       "        }\n",
       "      </script>\n",
       "    </div>\n",
       "  </div>\n",
       "  "
      ],
      "text/plain": [
       "   index                                          All_Songs  \\\n",
       "0    292   ready for it i did something bad gorgeous sty...   \n",
       "1    406  there is some unbelievable music that has come...   \n",
       "2    568  1 ready for it 2 gorgeous 3 look what you made...   \n",
       "3    689  what a shame didnt wanna be the one that got a...   \n",
       "4    193  loving him is like driving a new maserati down...   \n",
       "\n",
       "                                     True_end_lyrics  \\\n",
       "0  long live new years daygetaway carwe are never...   \n",
       "1  what it takes to make a pro blush all the boys...   \n",
       "2  for it 2 gorgeous 3 look what you made me do 4...   \n",
       "3  this is the last time you said no one else thi...   \n",
       "4  was red red red red red red loving him is like...   \n",
       "\n",
       "                                              Lyrics  \n",
       "0  ready for it i did something bad gorgeous styl...  \n",
       "1  there is some unbelievable music that has come...  \n",
       "2                                            1 ready  \n",
       "3  what a shame didnt wanna be the one that got a...  \n",
       "4  loving him is like driving a new maserati down...  "
      ]
     },
     "execution_count": 63,
     "metadata": {},
     "output_type": "execute_result"
    }
   ],
   "source": [
    "test_set.head(5)"
   ]
  },
  {
   "cell_type": "markdown",
   "metadata": {
    "id": "IuFZqvspH5Mm"
   },
   "source": [
    "## Removing NA values from newly generated columns"
   ]
  },
  {
   "cell_type": "code",
   "execution_count": 64,
   "metadata": {
    "id": "tLXSLKTQkHtI"
   },
   "outputs": [],
   "source": [
    "(test_set=='').any()\n",
    "test_set.replace('', pd.NA, inplace=True)\n",
    "\n",
    "# Drop rows with NaN values\n",
    "test_set.dropna(inplace=True)\n"
   ]
  },
  {
   "cell_type": "code",
   "execution_count": 65,
   "metadata": {
    "colab": {
     "base_uri": "https://localhost:8080/"
    },
    "id": "N6eMy-g0k8p9",
    "outputId": "bace1baf-06c1-456c-9f74-1bb6ef869ee4"
   },
   "outputs": [
    {
     "data": {
      "text/plain": [
       "index              False\n",
       "All_Songs          False\n",
       "True_end_lyrics    False\n",
       "Lyrics             False\n",
       "dtype: bool"
      ]
     },
     "execution_count": 65,
     "metadata": {},
     "output_type": "execute_result"
    }
   ],
   "source": [
    "(test_set=='').any()\n"
   ]
  },
  {
   "cell_type": "markdown",
   "metadata": {
    "id": "XMqAEJgPIJJY"
   },
   "source": [
    "### Saving new CSV"
   ]
  },
  {
   "cell_type": "code",
   "execution_count": 66,
   "metadata": {
    "id": "b8JrqD-e2yoa"
   },
   "outputs": [],
   "source": [
    "test_set.to_csv('taylor_songs_2.csv', index=False)\n"
   ]
  },
  {
   "cell_type": "code",
   "execution_count": 67,
   "metadata": {
    "colab": {
     "base_uri": "https://localhost:8080/"
    },
    "id": "n9vSUriiBa6Y",
    "outputId": "8ba61920-5c59-4ee6-91b1-9fb44c375ac1"
   },
   "outputs": [
    {
     "name": "stdout",
     "output_type": "stream",
     "text": [
      "Looking in indexes: https://pypi.org/simple, https://us-python.pkg.dev/colab-wheels/public/simple/\n",
      "Requirement already satisfied: transformers in /usr/local/lib/python3.9/dist-packages (4.28.1)\n",
      "Requirement already satisfied: pyyaml>=5.1 in /usr/local/lib/python3.9/dist-packages (from transformers) (6.0)\n",
      "Requirement already satisfied: packaging>=20.0 in /usr/local/lib/python3.9/dist-packages (from transformers) (23.0)\n",
      "Requirement already satisfied: requests in /usr/local/lib/python3.9/dist-packages (from transformers) (2.27.1)\n",
      "Requirement already satisfied: filelock in /usr/local/lib/python3.9/dist-packages (from transformers) (3.11.0)\n",
      "Requirement already satisfied: huggingface-hub<1.0,>=0.11.0 in /usr/local/lib/python3.9/dist-packages (from transformers) (0.13.4)\n",
      "Requirement already satisfied: tokenizers!=0.11.3,<0.14,>=0.11.1 in /usr/local/lib/python3.9/dist-packages (from transformers) (0.13.3)\n",
      "Requirement already satisfied: regex!=2019.12.17 in /usr/local/lib/python3.9/dist-packages (from transformers) (2022.10.31)\n",
      "Requirement already satisfied: numpy>=1.17 in /usr/local/lib/python3.9/dist-packages (from transformers) (1.22.4)\n",
      "Requirement already satisfied: tqdm>=4.27 in /usr/local/lib/python3.9/dist-packages (from transformers) (4.65.0)\n",
      "Requirement already satisfied: typing-extensions>=3.7.4.3 in /usr/local/lib/python3.9/dist-packages (from huggingface-hub<1.0,>=0.11.0->transformers) (4.5.0)\n",
      "Requirement already satisfied: idna<4,>=2.5 in /usr/local/lib/python3.9/dist-packages (from requests->transformers) (3.4)\n",
      "Requirement already satisfied: certifi>=2017.4.17 in /usr/local/lib/python3.9/dist-packages (from requests->transformers) (2022.12.7)\n",
      "Requirement already satisfied: urllib3<1.27,>=1.21.1 in /usr/local/lib/python3.9/dist-packages (from requests->transformers) (1.26.15)\n",
      "Requirement already satisfied: charset-normalizer~=2.0.0 in /usr/local/lib/python3.9/dist-packages (from requests->transformers) (2.0.12)\n"
     ]
    }
   ],
   "source": [
    " !pip install transformers"
   ]
  },
  {
   "cell_type": "markdown",
   "metadata": {
    "id": "Sh4GIuyfITeT"
   },
   "source": [
    "## Importing Required Libraries"
   ]
  },
  {
   "cell_type": "code",
   "execution_count": 68,
   "metadata": {
    "id": "I2aN2Q-pBqec"
   },
   "outputs": [],
   "source": [
    "import pandas as pd\n",
    "from transformers import GPT2LMHeadModel, GPT2Tokenizer\n",
    "import numpy as np\n",
    "import random\n",
    "import torch\n",
    "from torch.utils.data import Dataset, DataLoader\n",
    "from transformers import GPT2Tokenizer, GPT2LMHeadModel, AdamW, get_linear_schedule_with_warmup\n",
    "from tqdm import tqdm, trange\n",
    "import torch.nn.functional as F\n",
    "import csv\n"
   ]
  },
  {
   "cell_type": "markdown",
   "metadata": {
    "id": "KNNPzXFoIiIX"
   },
   "source": [
    "## Feeding Lyrics to Custom  SongLyrics Object"
   ]
  },
  {
   "cell_type": "code",
   "execution_count": 69,
   "metadata": {
    "id": "eC_K4n_qBidE"
   },
   "outputs": [],
   "source": [
    "class SongLyrics(Dataset):\n",
    "    \n",
    "    def __init__(self, control_code, truncate=False, gpt2_type=\"gpt2\", max_length=1024):\n",
    "\n",
    "        self.tokenizer = GPT2Tokenizer.from_pretrained(gpt2_type)\n",
    "        self.lyrics = []\n",
    "\n",
    "        for row in df['All_Songs']:\n",
    "          self.lyrics.append(torch.tensor(\n",
    "                self.tokenizer.encode(f\"<|{control_code}|>{row[:max_length]}<|endoftext|>\")\n",
    "            ))\n",
    "                \n",
    "        if truncate:\n",
    "            self.lyrics = self.lyrics[:20000]\n",
    "        self.lyrics_count = len(self.lyrics)\n",
    "        \n",
    "    def __len__(self):\n",
    "        return self.lyrics_count\n",
    "\n",
    "    def __getitem__(self, item):\n",
    "        return self.lyrics[item]\n"
   ]
  },
  {
   "cell_type": "code",
   "execution_count": 70,
   "metadata": {
    "id": "AtexUZc_B1Vl"
   },
   "outputs": [],
   "source": [
    "dataset = SongLyrics(df['All_Songs'], truncate=True, gpt2_type=\"gpt2\")"
   ]
  },
  {
   "cell_type": "markdown",
   "metadata": {
    "id": "Lo0vf51jIqWX"
   },
   "source": [
    "## Loading GPT2 Models"
   ]
  },
  {
   "cell_type": "code",
   "execution_count": 71,
   "metadata": {
    "id": "rYh1qf8YB9Hr"
   },
   "outputs": [],
   "source": [
    "tokenizer = GPT2Tokenizer.from_pretrained('gpt2')\n",
    "model = GPT2LMHeadModel.from_pretrained('gpt2')"
   ]
  },
  {
   "cell_type": "code",
   "execution_count": 72,
   "metadata": {
    "id": "K6KJMw-2CGVF"
   },
   "outputs": [],
   "source": [
    "#Accumulated batch size (since GPT2 is so big)\n",
    "def pack_tensor(new_tensor, packed_tensor, max_seq_len):\n",
    "    if packed_tensor is None:\n",
    "        return new_tensor, True, None\n",
    "    if new_tensor.size()[1] + packed_tensor.size()[1] > max_seq_len:\n",
    "        return packed_tensor, False, new_tensor\n",
    "    else:\n",
    "        packed_tensor = torch.cat([new_tensor, packed_tensor[:, 1:]], dim=1)\n",
    "        return packed_tensor, True, None"
   ]
  },
  {
   "cell_type": "markdown",
   "metadata": {
    "id": "GRbyLjFqIyQ2"
   },
   "source": [
    "## Training the Model"
   ]
  },
  {
   "cell_type": "code",
   "execution_count": 89,
   "metadata": {
    "id": "4QgLZ8S8CL0L"
   },
   "outputs": [],
   "source": [
    "def train(\n",
    "    dataset, model, tokenizer,\n",
    "    batch_size=16, epochs=10, lr=2e-5,\n",
    "    max_seq_len=400, warmup_steps=200,\n",
    "    gpt2_type=\"gpt2\", output_dir=\".\", output_prefix=\"wreckgar\",\n",
    "    test_mode=False,save_model_on_epoch=False,\n",
    "):\n",
    "\n",
    "    acc_steps = 100\n",
    "    model.train()\n",
    "\n",
    "    optimizer = AdamW(model.parameters(), lr=lr)\n",
    "    scheduler = get_linear_schedule_with_warmup(\n",
    "        optimizer, num_warmup_steps=warmup_steps, num_training_steps=-1\n",
    "    )\n",
    "\n",
    "    train_dataloader = DataLoader(dataset, batch_size=1, shuffle=True)\n",
    "    loss=0\n",
    "    accumulating_batch_count = 0\n",
    "    input_tensor = None\n",
    "\n",
    "    for epoch in range(epochs):\n",
    "\n",
    "        print(f\"Training epoch {epoch}\")\n",
    "        print(loss)\n",
    "        for idx, entry in tqdm(enumerate(train_dataloader)):\n",
    "            (input_tensor, carry_on, remainder) = pack_tensor(entry, input_tensor, 768)\n",
    "\n",
    "            if carry_on and idx != len(train_dataloader) - 1:\n",
    "                continue\n",
    "\n",
    "            #input_tensor = input_tensor.to(device)\n",
    "            outputs = model(input_tensor, labels=input_tensor)\n",
    "            loss = outputs[0]\n",
    "            loss.backward()\n",
    "\n",
    "            if (accumulating_batch_count % batch_size) == 0:\n",
    "                optimizer.step()\n",
    "                scheduler.step()\n",
    "                optimizer.zero_grad()\n",
    "                model.zero_grad()\n",
    "\n",
    "            accumulating_batch_count += 1\n",
    "            input_tensor = None\n",
    "        if save_model_on_epoch:\n",
    "            torch.save(\n",
    "                model.state_dict(),\n",
    "                os.path.join(output_dir, f\"{output_prefix}-{epoch}.pt\"),\n",
    "            )\n",
    "    return model"
   ]
  },
  {
   "cell_type": "code",
   "execution_count": 90,
   "metadata": {
    "colab": {
     "base_uri": "https://localhost:8080/"
    },
    "id": "rlZULJ6uCRgr",
    "outputId": "2a846632-0601-4b8d-92d9-5229fcf184b0"
   },
   "outputs": [
    {
     "name": "stderr",
     "output_type": "stream",
     "text": [
      "/usr/local/lib/python3.9/dist-packages/transformers/optimization.py:391: FutureWarning: This implementation of AdamW is deprecated and will be removed in a future version. Use the PyTorch implementation torch.optim.AdamW instead, or set `no_deprecation_warning=True` to disable this warning\n",
      "  warnings.warn(\n"
     ]
    },
    {
     "name": "stdout",
     "output_type": "stream",
     "text": [
      "Training epoch 0\n",
      "0\n"
     ]
    },
    {
     "name": "stderr",
     "output_type": "stream",
     "text": [
      "315it [10:28,  2.00s/it]\n"
     ]
    },
    {
     "name": "stdout",
     "output_type": "stream",
     "text": [
      "Training epoch 1\n",
      "tensor(4.4171, grad_fn=<NllLossBackward0>)\n"
     ]
    },
    {
     "name": "stderr",
     "output_type": "stream",
     "text": [
      "315it [10:35,  2.02s/it]\n"
     ]
    },
    {
     "name": "stdout",
     "output_type": "stream",
     "text": [
      "Training epoch 2\n",
      "tensor(3.0927, grad_fn=<NllLossBackward0>)\n"
     ]
    },
    {
     "name": "stderr",
     "output_type": "stream",
     "text": [
      "315it [10:34,  2.01s/it]\n"
     ]
    },
    {
     "name": "stdout",
     "output_type": "stream",
     "text": [
      "Training epoch 3\n",
      "tensor(3.3269, grad_fn=<NllLossBackward0>)\n"
     ]
    },
    {
     "name": "stderr",
     "output_type": "stream",
     "text": [
      "315it [10:06,  1.93s/it]\n"
     ]
    },
    {
     "name": "stdout",
     "output_type": "stream",
     "text": [
      "Training epoch 4\n",
      "tensor(4.0313, grad_fn=<NllLossBackward0>)\n"
     ]
    },
    {
     "name": "stderr",
     "output_type": "stream",
     "text": [
      "315it [10:15,  1.95s/it]\n"
     ]
    },
    {
     "name": "stdout",
     "output_type": "stream",
     "text": [
      "Training epoch 5\n",
      "tensor(3.5744, grad_fn=<NllLossBackward0>)\n"
     ]
    },
    {
     "name": "stderr",
     "output_type": "stream",
     "text": [
      "315it [10:15,  1.95s/it]\n"
     ]
    },
    {
     "name": "stdout",
     "output_type": "stream",
     "text": [
      "Training epoch 6\n",
      "tensor(3.4518, grad_fn=<NllLossBackward0>)\n"
     ]
    },
    {
     "name": "stderr",
     "output_type": "stream",
     "text": [
      "315it [10:13,  1.95s/it]\n"
     ]
    },
    {
     "name": "stdout",
     "output_type": "stream",
     "text": [
      "Training epoch 7\n",
      "tensor(3.8574, grad_fn=<NllLossBackward0>)\n"
     ]
    },
    {
     "name": "stderr",
     "output_type": "stream",
     "text": [
      "315it [10:13,  1.95s/it]\n"
     ]
    },
    {
     "name": "stdout",
     "output_type": "stream",
     "text": [
      "Training epoch 8\n",
      "tensor(2.3084, grad_fn=<NllLossBackward0>)\n"
     ]
    },
    {
     "name": "stderr",
     "output_type": "stream",
     "text": [
      "315it [10:15,  1.95s/it]\n"
     ]
    },
    {
     "name": "stdout",
     "output_type": "stream",
     "text": [
      "Training epoch 9\n",
      "tensor(2.5323, grad_fn=<NllLossBackward0>)\n"
     ]
    },
    {
     "name": "stderr",
     "output_type": "stream",
     "text": [
      "315it [10:24,  1.98s/it]\n"
     ]
    }
   ],
   "source": [
    "#Train the model on the specific data we have\n",
    "model = train(dataset, model, tokenizer)\n"
   ]
  },
  {
   "cell_type": "markdown",
   "metadata": {
    "id": "zzCGK9vCPMsE"
   },
   "source": [
    "## Generating the Lyrics"
   ]
  },
  {
   "cell_type": "code",
   "execution_count": 94,
   "metadata": {
    "id": "Y9UeMcivCT69"
   },
   "outputs": [],
   "source": [
    "def generate(\n",
    "    model,\n",
    "    tokenizer,\n",
    "    prompt,\n",
    "    entry_count=10,\n",
    "    entry_length=30, #maximum number of words\n",
    "    top_p=0.8,\n",
    "    temperature=1.,\n",
    "):\n",
    "\n",
    "    model.eval()\n",
    "\n",
    "    generated_num = 0\n",
    "    generated_list = []\n",
    "\n",
    "    filter_value = -float(\"Inf\")\n",
    "\n",
    "    with torch.no_grad():\n",
    "\n",
    "        for entry_idx in trange(entry_count):\n",
    "\n",
    "            entry_finished = False\n",
    "\n",
    "            generated = torch.tensor(tokenizer.encode(prompt)).unsqueeze(0)\n",
    "\n",
    "            for i in range(entry_length):\n",
    "                \n",
    "                outputs = model(generated, labels=generated)\n",
    "                loss, logits = outputs[:2]\n",
    "                logits = logits[:, -1, :] / (temperature if temperature > 0 else 1.0)\n",
    "\n",
    "                sorted_logits, sorted_indices = torch.sort(logits, descending=True)\n",
    "                cumulative_probs = torch.cumsum(F.softmax(sorted_logits, dim=-1), dim=-1)\n",
    "\n",
    "                sorted_indices_to_remove = cumulative_probs > top_p\n",
    "                sorted_indices_to_remove[..., 1:] = sorted_indices_to_remove[\n",
    "                    ..., :-1\n",
    "                ].clone()\n",
    "                sorted_indices_to_remove[..., 0] = 0\n",
    "\n",
    "                indices_to_remove = sorted_indices[sorted_indices_to_remove]\n",
    "                logits[:, indices_to_remove] = filter_value\n",
    "\n",
    "                next_token = torch.multinomial(F.softmax(logits, dim=-1), num_samples=1)\n",
    "                generated = torch.cat((generated, next_token), dim=1)\n",
    "\n",
    "                if next_token in tokenizer.encode(\"<|endoftext|>\"):\n",
    "                    entry_finished = True\n",
    "\n",
    "                if entry_finished:\n",
    "\n",
    "                    generated_num = generated_num + 1\n",
    "\n",
    "                    output_list = list(generated.squeeze().numpy())\n",
    "                    output_text = tokenizer.decode(output_list)\n",
    "                    generated_list.append(output_text)\n",
    "                    break\n",
    "            \n",
    "            if not entry_finished:\n",
    "              output_list = list(generated.squeeze().numpy())\n",
    "              output_text = f\"{tokenizer.decode(output_list)}<|endoftext|>\" \n",
    "              generated_list.append(output_text)\n",
    "                \n",
    "    return generated_list\n",
    "     \n"
   ]
  },
  {
   "cell_type": "code",
   "execution_count": 95,
   "metadata": {
    "id": "iiarRXHeZl3R"
   },
   "outputs": [],
   "source": [
    "#Function to generate multiple sentences. Test data should be a dataframe\n",
    "def text_generation(test_data):\n",
    "  generated_lyrics = []\n",
    "  for i in range(len(test_data)):\n",
    "    x = generate(model, tokenizer, test_data['Lyrics'][i], entry_count=1)\n",
    "    generated_lyrics.append(x)\n",
    "  return generated_lyrics\n"
   ]
  },
  {
   "cell_type": "code",
   "execution_count": 96,
   "metadata": {
    "colab": {
     "base_uri": "https://localhost:8080/"
    },
    "id": "Rk2rHNATZrja",
    "outputId": "64c65600-d536-44ae-bd96-77108aabee25"
   },
   "outputs": [
    {
     "name": "stderr",
     "output_type": "stream",
     "text": [
      "100%|██████████| 1/1 [00:05<00:00,  5.61s/it]\n",
      "100%|██████████| 1/1 [00:17<00:00, 17.31s/it]\n",
      "100%|██████████| 1/1 [00:03<00:00,  3.47s/it]\n",
      "100%|██████████| 1/1 [00:24<00:00, 24.96s/it]\n",
      "100%|██████████| 1/1 [00:20<00:00, 20.98s/it]\n",
      "100%|██████████| 1/1 [00:11<00:00, 11.31s/it]\n",
      "100%|██████████| 1/1 [00:16<00:00, 16.86s/it]\n",
      "100%|██████████| 1/1 [00:17<00:00, 17.02s/it]\n",
      "100%|██████████| 1/1 [00:28<00:00, 28.02s/it]\n",
      "100%|██████████| 1/1 [00:25<00:00, 25.25s/it]\n",
      "100%|██████████| 1/1 [00:00<00:00,  1.67it/s]\n",
      "100%|██████████| 1/1 [00:27<00:00, 27.01s/it]\n",
      "100%|██████████| 1/1 [00:14<00:00, 14.46s/it]\n",
      "100%|██████████| 1/1 [00:14<00:00, 14.99s/it]\n",
      "100%|██████████| 1/1 [00:20<00:00, 20.94s/it]\n",
      "100%|██████████| 1/1 [00:18<00:00, 18.55s/it]\n",
      "100%|██████████| 1/1 [00:12<00:00, 12.09s/it]\n",
      "100%|██████████| 1/1 [01:09<00:00, 69.84s/it]\n",
      "100%|██████████| 1/1 [00:05<00:00,  5.66s/it]\n",
      "100%|██████████| 1/1 [00:26<00:00, 26.21s/it]\n",
      "100%|██████████| 1/1 [00:21<00:00, 21.57s/it]\n",
      "100%|██████████| 1/1 [00:20<00:00, 20.45s/it]\n",
      "100%|██████████| 1/1 [00:16<00:00, 16.06s/it]\n",
      "100%|██████████| 1/1 [00:12<00:00, 12.74s/it]\n",
      "100%|██████████| 1/1 [00:17<00:00, 17.20s/it]\n",
      "100%|██████████| 1/1 [00:08<00:00,  8.42s/it]\n",
      "100%|██████████| 1/1 [00:07<00:00,  7.14s/it]\n",
      "100%|██████████| 1/1 [00:20<00:00, 20.38s/it]\n",
      "100%|██████████| 1/1 [00:16<00:00, 16.92s/it]\n",
      "100%|██████████| 1/1 [00:24<00:00, 24.18s/it]\n",
      "100%|██████████| 1/1 [00:17<00:00, 17.72s/it]\n",
      "100%|██████████| 1/1 [00:20<00:00, 20.04s/it]\n",
      "100%|██████████| 1/1 [00:18<00:00, 18.61s/it]\n",
      "100%|██████████| 1/1 [00:04<00:00,  4.75s/it]\n",
      "100%|██████████| 1/1 [00:51<00:00, 51.76s/it]\n",
      "100%|██████████| 1/1 [00:22<00:00, 22.96s/it]\n",
      "100%|██████████| 1/1 [00:18<00:00, 18.35s/it]\n",
      "100%|██████████| 1/1 [00:19<00:00, 19.91s/it]\n",
      "100%|██████████| 1/1 [00:17<00:00, 17.98s/it]\n",
      "100%|██████████| 1/1 [00:12<00:00, 12.28s/it]\n",
      "100%|██████████| 1/1 [00:26<00:00, 26.49s/it]\n",
      "100%|██████████| 1/1 [00:27<00:00, 27.92s/it]\n",
      "100%|██████████| 1/1 [00:03<00:00,  3.99s/it]\n",
      "100%|██████████| 1/1 [00:22<00:00, 22.05s/it]\n",
      "100%|██████████| 1/1 [00:17<00:00, 17.07s/it]\n",
      "100%|██████████| 1/1 [00:19<00:00, 19.93s/it]\n",
      "100%|██████████| 1/1 [00:23<00:00, 23.70s/it]\n",
      "100%|██████████| 1/1 [00:21<00:00, 21.23s/it]\n",
      "100%|██████████| 1/1 [00:23<00:00, 23.79s/it]\n",
      "100%|██████████| 1/1 [00:18<00:00, 18.02s/it]\n",
      "100%|██████████| 1/1 [00:26<00:00, 26.38s/it]\n",
      "100%|██████████| 1/1 [00:21<00:00, 21.91s/it]\n",
      "100%|██████████| 1/1 [00:18<00:00, 18.41s/it]\n",
      "100%|██████████| 1/1 [00:16<00:00, 16.29s/it]\n",
      "100%|██████████| 1/1 [00:21<00:00, 21.46s/it]\n",
      "100%|██████████| 1/1 [00:27<00:00, 27.41s/it]\n",
      "100%|██████████| 1/1 [00:29<00:00, 29.05s/it]\n",
      "100%|██████████| 1/1 [00:14<00:00, 14.21s/it]\n",
      "100%|██████████| 1/1 [00:22<00:00, 22.52s/it]\n",
      "100%|██████████| 1/1 [00:17<00:00, 17.12s/it]\n",
      "100%|██████████| 1/1 [00:04<00:00,  4.08s/it]\n",
      "100%|██████████| 1/1 [00:27<00:00, 27.99s/it]\n",
      "100%|██████████| 1/1 [00:14<00:00, 14.83s/it]\n",
      "100%|██████████| 1/1 [00:24<00:00, 24.47s/it]\n",
      "100%|██████████| 1/1 [00:23<00:00, 23.83s/it]\n",
      "100%|██████████| 1/1 [00:18<00:00, 18.71s/it]\n",
      "100%|██████████| 1/1 [00:10<00:00, 10.00s/it]\n",
      "100%|██████████| 1/1 [00:21<00:00, 21.59s/it]\n",
      "100%|██████████| 1/1 [00:06<00:00,  6.60s/it]\n",
      "100%|██████████| 1/1 [00:20<00:00, 20.46s/it]\n",
      "100%|██████████| 1/1 [00:21<00:00, 21.06s/it]\n",
      "100%|██████████| 1/1 [00:11<00:00, 11.35s/it]\n",
      "100%|██████████| 1/1 [00:24<00:00, 24.57s/it]\n",
      "100%|██████████| 1/1 [00:24<00:00, 24.50s/it]\n",
      "100%|██████████| 1/1 [00:22<00:00, 22.14s/it]\n",
      "100%|██████████| 1/1 [00:25<00:00, 25.54s/it]\n",
      "100%|██████████| 1/1 [00:19<00:00, 19.36s/it]\n",
      "100%|██████████| 1/1 [00:11<00:00, 11.40s/it]\n",
      "100%|██████████| 1/1 [00:19<00:00, 19.57s/it]\n",
      "100%|██████████| 1/1 [00:15<00:00, 15.48s/it]\n",
      "100%|██████████| 1/1 [00:21<00:00, 21.44s/it]\n",
      "100%|██████████| 1/1 [00:21<00:00, 21.20s/it]\n",
      "100%|██████████| 1/1 [00:26<00:00, 26.90s/it]\n",
      "100%|██████████| 1/1 [00:03<00:00,  3.54s/it]\n",
      "100%|██████████| 1/1 [00:22<00:00, 22.39s/it]\n",
      "100%|██████████| 1/1 [00:17<00:00, 17.63s/it]\n",
      "100%|██████████| 1/1 [00:21<00:00, 21.96s/it]\n",
      "100%|██████████| 1/1 [00:10<00:00, 10.61s/it]\n",
      "100%|██████████| 1/1 [00:19<00:00, 19.36s/it]\n",
      "100%|██████████| 1/1 [00:18<00:00, 18.66s/it]\n",
      "100%|██████████| 1/1 [00:20<00:00, 20.82s/it]\n",
      "100%|██████████| 1/1 [00:24<00:00, 24.17s/it]\n",
      "100%|██████████| 1/1 [00:17<00:00, 17.49s/it]\n",
      "100%|██████████| 1/1 [00:23<00:00, 23.53s/it]\n",
      "100%|██████████| 1/1 [00:22<00:00, 22.07s/it]\n",
      "100%|██████████| 1/1 [00:27<00:00, 27.19s/it]\n",
      "100%|██████████| 1/1 [00:25<00:00, 25.65s/it]\n",
      "100%|██████████| 1/1 [00:20<00:00, 20.38s/it]\n",
      "100%|██████████| 1/1 [00:15<00:00, 15.82s/it]\n",
      "100%|██████████| 1/1 [00:19<00:00, 19.01s/it]\n"
     ]
    },
    {
     "data": {
      "text/plain": [
       "[[\"ready for it i did something bad gorgeous style love story you belong with melook what you made me do end gameking of my heartdelicate shake it offdancing with our hands tied so it goes surprise songblank spacedressbad blood shouldve said nodont blame me fine i'll never tell that liea lace bodysuitfrozen moment loved it live and learnoh good i got a chance to buy you these<|endoftext|>\"],\n",
       " ['there is some unbelievable music that has come out of artists who are from la did you know that like los angeles has put out so many bands and artists that i m such a fan of and i d love to play you some music i m a fan of that s come from la is that okay this one came out in 1981 8 years before i was born and i love this song it s called bette davis eyes her hair is harlow gold her lips sweet surprise her hands are never cold shes got bette davis eyes shell turn her music on you wont have to think twice shes pure as new york snow she s got bette davis eyes and shell tease you shell unease you all the better just to please you shes precocious and she knows just what it takes to make a pro blush she got greta garbo stand off sighs shes got bette davis eyes shell let you take her home it whets her appetite shell lay you on her throne she s got bette davis eyes shell expose you and just knows you off your feet with the crumbs she throws you shes ferocious and she knows just what it takes to make a pro blush her blue eyes and pearls she looks like she put in many years of hard work she lets you play she<|endoftext|>'],\n",
       " ['1 ready for use. In the Arduino IDE, you can clone it to this page and install it as a standard library. Once you have the library, you<|endoftext|>'],\n",
       " ['what a shame didnt wanna be the one that got away yeah big mistake broke the sweetest promise that you never should have made im here on the kitchen floor you call but i wont hear it you said no one else how could you do this babe you really blew this babe we aint gettin through this one babe this is the last time ill ever call you babe this is the last time this is the last time this is the last time ill ever call you babe what a waste takin down the pictures and the plans we made yeah and its strange how your face doesnt look so innocent your secret has its consequence and thats on you babe i break down every time you call were a wreck youre the wreckin ball we said no one else how could you do this babe you really blew this babe we aint gettin through this one babe this is the last time ill ever call you babe this is the last time this is the last time this is the last time since you admitted it i keep picturin her lips on your neck i cant unsee it i hate that because of you i cant love you babe what a shame didnt want to be the one that got away how could you do this babe you really blew this babe we aint gettin through this one babe how could you do this babe this is the last time this is the last time this is the last time ill ever call you babe how could you do this babe im here on the kitchen floor you call but i wont hear it you said im no one else we aint gettin through this one babe i break down every time you call this is the last time were a wreck youre the wreckin ball this is the last time ever ill ever call you babe what a waste takin down the pictures and the plans we made yeah and its strange how your face doesnt look so innocent<|endoftext|>'],\n",
       " ['loving him is like driving a new maserati down a dead end street faster than the wind passionate as sin ending so suddenly loving him is like trying to change your mind once youre already flying through the free fall like the colors in autumn so bright just before they lose it all losing him was blue like id never known missing him was dark grey all alone forgetting him was like trying to know somebody you never met but loving him was red red red but loving him was red red red but loving him was red red red red red red touching him was like realizing all you ever wanted was right there in front of you memorizing him was as easy as knowing all the words to your old favorite song fighting with him was like trying to solve a crossword and realizing theres no right answer regretting him was like wishing you never found out that love could be that strong losing him was blue like id never known missing him was dark grey all alone forgetting him was like trying to know somebody you never met but loving him was red red red but loving him was red red red oohhh burning red red red red red red dinah ally all remembering him comes in flashbacks flashbacks time now gotta let go but moving on from him is impossible when i still see it all in my head losing him was blue like id never known missing him was dark grey all alone forgetting him was like trying to know somebody but loving him was red red red but loving him was red red red but loving him was red red red red red red xxx listening to mike about what he thinks about himself i dont think he should be gone but mike i<|endoftext|>'],\n",
       " [\"8 20 2019 upload welcome video dear lover i cant talk to you when youre like this taylor swift lover benjamin francis leftwich 4am in london dixie chicks easy silence dermot kennedy outnumbered lykke li bad woman jimmy eat world for me this is heaven lana del rey looking for america donna lewis i love you always forever nicki minaj come see about me blondie maria taylor swift you need to calm down clairo alewife phil collins cant stop loving you annie lennox no more i love yous taylor swift the sun has just risen i need you to love her forever please dont hes asking you to marry me hes kissing her pussy and he knows she's got to<|endoftext|>\"],\n",
       " ['cold open the betrayal smashed car welvin da great at the office lucky fiori also at the office futuristic tanning bed armor prep bursting through walls a scene from the movie tron welvin in a plastic car target practice crimson curse cackle inclement weather training boxing roman candle catastrophes crew destructa x finally shootsfinal face offposters and characterscara delevingne starring as mother chucker cindy crawford starring as headmistress ellen pompeo starring as luna ellie goulding starring as destructa x gigi hadid starring as slay z hailee steinfeld starring as the trinity hayley williams starring as the crimson curse jessica alba starring as domino karlie kloss starring as knockout kendrick lamar starring as welvin da great lena dunham starring as lucky fiori lily aldridge starring as frostbyte mariska hargitay starring as justice martha hunt starring as homeslice selena gomez starring as snowflake nemesis slayer lissa nocturne starring as divine marla leyman starring as armadia liz<|endoftext|>'],\n",
       " ['we could leave the christmas lights up til january this is our place we make the rules theres a dazzling haze a mysterious way about you dear have i known you twenty seconds or twenty years can i go where you go can we always be this close forever and ever and i take me out and take me home youre my my my my lover we could let our friends crash in the living room this is our place and we make the call and im highly suspicious that everyone who sees you wants you ive loved you three summers now honey but i want em all can i go where you go can we always be this close forever and ever and i take me out and take me home youre my my my my lover ladies and gentlemen will you please stand with every guitar string scar on my hand i take this magnetic force of a man to be my lover my hearts been borrowed and yours has been blue alls well that ends well to end up with you swear to be overdramatic and true to my lover and youll save all your dirtiest jokes for me and at every table ill save you a seat can i go where you go can we always be this close forever and ever and i take me out and take me home youre my my my my lover we could let our friends crash in the living room this is our place Jewish tradition continues<|endoftext|>'],\n",
       " ['today was a fairytale you were the prince i used to be a damsel in distress you took me by the hand and you picked me up at six today was a fairytale today was a fairytale today was a fairytale i wore a dress you wore a dark grey t shirt you told me i was pretty when i looked like a mess today was a fairytale time slows down whenever youre around can you feel this magic in the air it must have been the way you kissed me fell in love when i saw you standing there it must have been the way today was a fairytale it must have been the way today was a fairytale today was a fairytale youve got a smile that takes me to another planet every move you make everything you say is right today was a fairytale today was a fairytale all that i can say is now its getting so much clearer nothing made sense til the time i saw your face today was a fairytale time slows down whenever youre around yeah but can you feel this magic in the air it must have been the way you kissed me fell in love when i saw you standing there it must have been the way today was a fairytale it must have been the way today was a fairytale time slows down whenever youre around i can feel my heart its beating in my chest did you feel it i cant put this down but can you feel this magic in the air it must have been the way you kissed me fell in love when i saw you standing there it must have been the way but can you feel this magic in the air it must have been the way you kissed me fell in love when i saw you standing there it must have been the way but can you feel this magic in the air it must have been the way you kissed me fell in love when i saw you standing there it<|endoftext|>'],\n",
       " [\"june 2019 update taylor swift you need to calm down twin shadow saturdays ciara thinkin bout you ajr 100 bad days taylor swift me mumford sons woman shy fx rudeboy lovesong khalid free spirit lizzo juice tove lo glad hes gone adam lambert new eyes katy perry never really over billy porter love yourself the national light years lany pancakes johan everybodys cool but me doja cat juicy king princess cheap queen dermot kennedy lost bon iver hey ma carlie hanson back in my arms maren morris the bones virginia to vegas just friends fitz and the tantrums dont ever let em lana del rey venice bitch nina nesbitt last december kiiara open my mouth jessie reyez great one james blake cant believe the way we flow k flay this baby dont cry lykke li utopia julia michaels what a time sufjan stevens love yourself blake rose lost oliver tank i love you tayla parx i want you the japanese house follow my girl angelo de augustine tomb bastille those nights alex lahey i want to live with you illenium jon bellion good things fall apart dennis lloyd never go back panic at the disco hey look ma i made it todrick hall chapstick ryan hurd to a t amy shark mess her up the head and the heart honeybee eryn allen there is something special about love you're just such a sweetheart do you know if you got me it would make a lovely wedding\\nsweetheart is<|endoftext|>\"],\n",
       " ['i used to rule the world seas would rise when i gave the word now in the morning i sleep alone sweep the streets i used to own i used to roll the dice feel the fear in my enemys eyes listen as the crowd would sing now the old king is dead long live the king one minute i held the keys next the doors were closed on me and i discovered that my castles stand upon pillars of salt pillars of sand i hear jerusalem bells a ringing roman cavalry choirs are singing be my mirror my sword and shield my missionaries in a foreign field for some reason i cant explain once you go there was never never an honest word but that was when i ruled the world it was a wicked and wild wind blew down the doors to let me in shattered windows and the sound of drums people couldnt believe what id become revolutionaries wait for my head on a silver plate just a puppet on a lonely string oh who would ever wanna be king i hear jerusalem bells a ringing roman cavalry choirs are singing be my mirror my sword and shield my missionaries in a foreign field for some reason i cant explain i know saint peter wont call my name never an honest word but that was when i ruled the world for some reason i cant explain<|endoftext|>'],\n",
       " ['salt air and the rust on your door i never needed anything more whispers of are you sure never have i ever before but i can see us lost in the memory august slipped away into a moment in time cause it was never mine and i can see us twisted in bedsheets august sipped away like a bottle of wine cause you were never mine your back beneath the sun wishin i could write my name on it will you call when youre back at school i remember thinkin i had you but i can see us lost in the memory august slipped away into a moment in time cause it was never mine and i can see us twisted in bedsheets august sipped away like a bottle of wine cause you were never mine back when we were still changin for the better wanting was enough for me it was enough to live for the hope of it all cancel plans just in case youd call and say meet me behind the mall so much for summer love and saying us cause you werent mine to lose you werent mine to lose no but i can see us lost in the memory august slipped away into a moment in time cause it was never mine and i can see us twisted in bedsheets august sipped away like a bottle of wine cause you were never mine cause you were never mine never mine but do you remember remember when i pulled up and said get in the car and then canceled my plans just in case youd call back when i was livin for the hope of it all for the hope of it all meet me behind the mall remember when i pulled up and said get in the car and then canceled my plans just in case youd call back when i was livin for the hope of it all for the hope of it all ill make you miss it its a new and exciting time with you remember you<|endoftext|>'],\n",
       " ['i remember tears streaming down your face when i said ill never let you go when all those shadows almost killed your light i remember you said dont leave me here alone but all thats dead and gone and passed tonight just close your eyes the sun is going down youll be alright no one can hurt you now come morning light you and ill be safe and sound dont you dare look out your window darling everythings on fire the war outside your door keeps raging on hold on to this lullaby even when the musics gone gone just close your eyes the sun is going down youll be alright no one can hurt you now come morning light you and ill be safe and sound oooh oooh oooh oooh oooh oooh oooh oooh just close your eyes youll be alright come morning light you and ill be safe and sound dont you dare look out your window darling everythings on fire the war outside your door keeps raging on hold on to this lull<|endoftext|>'],\n",
       " ['baby this is what you came for lightning strikes every time she moves and everybodys watching her but shes looking at you oh oh you oh oh you oh oh you oh oh you oh oh you oh oh oh oh lightning this is what you came for lightning strikes every time she moves and everybodys watching her but shes looking at you oh oh you oh oh you oh oh you oh oh you oh oh you oh oh you oh oh you oh oh you oh oh you oh oh you oh oh you oh oh we go fast til they cant replay who knows why its gotta be this way we say nothing more than we need i see your face when we leave lightning this is what you came for lightning strikes every time she moves and everybodys watching her but shes looking at you oh oh you oh oh you oh oh you oh oh you oh oh you oh oh oh oh you oh you oh oh you oh you oh you oh you oh you oh you oh you oh you oh you oh you oh you oh you oh you<|endoftext|>'],\n",
       " ['heres to the tour that taught me that your real friends really dont care about the he said she said heres to the moments when weve forgotten all about the things that scare us the things were insecure about and in spite of them we jumped around together under flashing lights fireworks and confetti to the times i learned by watching you sing along to every song that my greatest triumph in life has been finding the ones who like me for me and that even in your worst times they can see the best in you heres to the musical family i get to share the stage with and all the things theyve sacrificed in their lives to be able to sing play and dance as well as they do heres to our extraordinary crew and the days they spend away from the ones they love so that we can stand under the lights and play for you heres to the people who work at these stadiums and help clean up the glitter on the floor after the party heres to getting smarter and harder in the nick of time but still remaining delicate enough to care deeply for the ones you can trust and brave enough to stay when its hard or its wrong or were making mistakes heres to life teaching us lessons and us learning growing dancing and changing together everything ive learned about a reputation and how little it really means when defined by those who do not know you ive learned from that and pack it in your sneakers that make you stand out with something you didnt mean to be wearing you knowing what you stood for you but sometimes being<|endoftext|>'],\n",
       " ['should have been different but it wasnt different was it same old story dear john and so long should have fit like a glove should have fit like a ring like a diamond ring a token of true love should have all worked out but it didnt she should be here now but she isnt theres your trouble theres your trouble you keep seeing double with the wrong one you cant see i love you you cant see she doesnt but you just keep holding on theres your trouble so now youre thinking bout all youre missing how deep youre sinking round and round and dragging down why dont you cash in your chips why dont you call it a loss not such a big loss chalk it up better luck could have been true love but it wasnt it should all add up but it doesnt theres your trouble theres your trouble you keep seeing double with the wrong one you cant see i love you you cant see she doesnt but you just keep holding on theres your trouble should have all worked out but it didnt she should be here now but she isnt theres your trouble theres your trouble you keep seeing double with the wrong one you cant see i love you cant see she doesnt but you just keep holding on theres your trouble you should have all worked out but it didnt she<|endoftext|>'],\n",
       " [\"i think i think when its all over it just comes back in flashes you know its like a kaleidoscope of memories it just all comes back but he never does i think part of me knew the second i saw him that this would happen its not really anything he said or anything he did it was the feeling that came along with it and the crazy thing is i dont know if im ever gonna feel that way again but i dont know if i should i knew his world moved too fast and burned too bright but i just thought how can the devil be pulling you toward someone who looks so much like an angel when he smiles at you maybe he knew that when he saw me i guess i would be like him knowing that when you walk past his window its so comforting and quiet to me i think it's the only thing i wanna know when<|endoftext|>\"],\n",
       " ['a barátnőddel telefonálsz dühös ki van akadva valamin amit mondtál mert ő nem érti úgy a humorod ahogy én a szobámban vagyok ez egy tipikus kedd éjszaka olyan zenét hallgatok amit ő nem szeret és soha sem fogja úgy tudni a történeted ahogy én mert ő rövid szoknyákat hord én meg pólókat hordok ő a szurkolócsapat kapitánya és én meg a lelátón ülök arról a napról álmodva amikor felébredsz és rájössz hogy amit kerestél itt volt az egész idő alatt ha meg tudnád látni hogy én vagyok az aki megért téged itt volt végig szóval miért nem tudod látni hozzám tartozol hozzám tartozol séta az utcákon veled és a kikopott farmeroddal nem tudok nem arra gondolni hogy ennek így kellene lenni nevetve a parkban a padon magamban gondolva hé nеm egyszerű ez és van еgy olyan mosolyod ami képes beragyogni ezt az egész várost nem láttam már egy ideje mióta ő elrontotta kedved azt mondod jól vagy jobban ismerlek ennél hé mit csinálsz egy ilyen lánnyal ő magassarkúkat hord én meg tornacipőket hordok ő szurkolócsapat kapitánya és én meg a lelátón ülök arról a napról álmodva amikor felébredsz és rájössz hogy amit kerestél itt volt az egész idő alatt ha meg tudnád látni hogy én vagyok az aki megért téged itt volt végig szóval miért nem tudod látni hozzám tartozol készenlétben állva és a hátsó ajtódnál várva egész idő alatt hogy nem tudtad felismerni bébi hozzám tartozol hozzám tartozol oh emlékszem ahogy eljöttél kocsival a házamhoz az éjszaka közepén én vagyok az aki megnevettet téged amikor tudod hogy el fogod sírni magad tudom a kedvenc számaid és mesélsz nekem az álmaidról azt gondolom hogy tudom hova tartozol azt gondolom hogy én vagyok az nem tudod látni hogy én vagyok az aki megért téged itt volt végig szóval miért nem tudod látni hozzám tartozol készenlétben állva és a hátsó ajtódnál várva egész idő alatt ha meg tudnád látni hogy én vagyok az aki megnevettet téged am<|endoftext|>'],\n",
       " ['1 new romantics 2 22 3 blank space 4 style 5 fifteen 6 you belong with me 7 holy ground 8 we are never ever getting back together bad blood 9 love story 10 this is good for you 11 just watch me 12 24 cool girl 13 beauty is beautiful 14 five to six 15 if I never love you again 16 p.s<|endoftext|>'],\n",
       " ['vintage tee brand new phone high heels on cobblestones when you are young they assume you know nothing sequin smile black lipstick sensual politics when you are young they assume you know nothing but i knew you dancin in your levis drunk under a streetlight i i knew you hand under my sweatshirt baby kiss it better i and when i felt like i was an old cardigan under someones bed you put me on and said i was your favorite a friend to all is a friend to none chase two girls lose the one when you are young thеy assume you know nothing but i knew you playing hide and seek and giving mе your weekends i i knew you your heartbeat on the high line once in twenty lifetimes i and when i felt like i was an old cardigan under someones bed you put me on and said i was your favorite to kiss in cars and downtown bars was all we needed you drew stars around my scars but now im bleedin cause i knew you steppin on the last train marked me like a bloodstain i i knew you tried to change the ending peter losing wendy i i knew you leavin like a father running like water i and when you are young they assume you know nothing but i knew youd linger like a tattoo kiss i knew youd haunt all of my what ifs the smell of smoke would hang around this long cause i knew everything when i was young i knew id curse you for the longest time chasin shadows in the grocery line i knew youd miss me once the thrill expired and youd be standin in my front porch light and i knew youd come back to me youd come back to me and youd come back to me and youd come back and when i couldnt see you anymore you and i you and i you and i you and i you and i you and i you and i you and i you<|endoftext|>'],\n",
       " ['shes looking in the mirror the moments getting nearer she thinks about it as she walks her walk up and down the staircase make up fresh on her face she thinks about it as she talks her talk school dance first chance always been a dreamer theres one guy shes shy sees him through the mirror and everybody looks at her she thinks about it blue dress angel face looking in the mirror shoes purse hair tied back and you should see her shes got her magic floating through the air peace love one thing leads into another dream big aim small man you got to love her shes got her hopes up got them up to there wondering what to wear shes standing in her bedroom hell be pulling up soon she thinks about it when she sees headlights looking out the window shes got her diary to show that shes been waiting for this all her life first date cant wait looking in the mirror heart all wrapped up wait until he sees her hes looking right at her she thinks about it sixteen blue jeans abercrombie t shirt shoes purse hair tied back and you should see her shes got her magic floating through the air the years went by the mirror saw her cry she got up again she got up again the wind blew by the small town lights she got up again move out find out where the world can take her bright lights late nights living for the greater move to paris living on a prayer peace love one thing leads into another dream big aim small man you got to love her shes got her hopes up got them up to there shes got her magic floating through the air peace love one thing leads into another dream big goal small man you got to love her shes got her hopes up<|endoftext|>'],\n",
       " ['everybodys waiting everybodys watching even when youre sleeping keep your ey eyes open the tricky thing is yesterday we were just children playing soldiers just pretending dreaming dreams with happy endings in backyards winning battles with our wooden swords but now weve stepped into a cruel world where everybody stands and keeps score keep your eyes open everybodys waiting for you to break down everybodys watching to see the fallout even when youre sleeping sleeping keep your ey eyes open keep your ey eyes open keep your ey eyes open so here you are two steps ahead and staying on guard every lesson forms a new scar they never thought youd make it this far but turn around oh theyve surrounded you its a showdown and nobody comes to save you now but youve got something they dont yeah youve got something they dont youve just got to keep your eyes open everybodys waiting for you to break down everybodys watching to see the fallout even when youre sleeping sleeping keep your ey eyes open keep your ey eyes open keep your ey eyes keep your feet ready heartbeat steady keep your eyes open keep your aim locked the night goes dark keep your eyes open keep your eyes open keep your eyes open keep your eyes open everybodys waiting for you to break down everybodys watching to see the fallout even when youre sleeping sleeping keep your ey eyes open keep your ey eyes open keep your ey eyes open keep your eyes open keep your eyes open keep your eyes open keep your ey eyes open keep your eyes<|endoftext|>'],\n",
       " ['i could go back to every laugh but i dont wanna go there anymore and i know all the steps up to your door but i dont wanna go there anymore talk to the wind talk to the sky talk to the man with the reasons why and let me know what you find ill leave my window open cause im too tired at night to call your name just know im right here hoping that youll come in with the rain i could stand up and sing you a song but i dont wanna have to go that far and i ive got you down i know you by heart and you dont even know where i start talk to yourself talk to the tears talk to the man who put you here and dont wait for the sky to clear ill leave my window open cause im too tired at night to call your name just know im right here hoping that youll come in with the rain ive watched you so long screamed your name i dont know what else i can say but ill leave my window open cause im too tired at night for all these games just know im right here hoping that youll come in with the rain i could stand up and sing you a song but i dont wanna have to go that far and i am glad you<|endoftext|>'],\n",
       " ['i remember tears streaming down your face when i said ill never let you go when all those shadows almost killed your light i remember you said dont leave me here alone but all thats dead and gone and passed tonight just close your eyes the sun is going down youll be alright no one can hurt you now come morning light you and ill be safe and sound dont you dare look out your window darling everythings on fire the war outside our door keeps raging on hold on to this lullaby even when musics gone gone just close your eyes the sun is going down youll be alright no one can hurt you now come morning light you and ill be safe and sound ooh ooh ooh ooh oh oh just close your eyes the sun is going down youll be alright no one can hurt you now come morning light Neurological studies and a miracle cure for amyotrophic<|endoftext|>'],\n",
       " ['all is quiet in the world tonight catching stars and fireflies the summer sings a lullaby with just me and my baby on the hood of his daddys car pass around his old guitar bet mamas wondering where we are its just me and my baby the world is spinning round cause look just what ive found ooh lifes so sweet right here ooh keeping it young and crazy ooh just want to stay right here cause nothings quite like being with my baby driving home by the river side wishing i could slow down time taking pictures in my mind both me and my baby the car pulls up and im home too late we didnt take that interstate back roads was a better way for me and my baby the closer that we get oh i cant leave yet ooh lifes so sweet right here ooh keeping it young and crazy ooh just want to stay right here cause nothings quite like being with my baby look at what weve found so turn that car around ooh lifes so sweet right here ooh keeping it young and crazy ooh just want to stay right here cause nothings quite like being with my baby look at what weve found so turn that car<|endoftext|>'],\n",
       " ['you cant start a fire you cant start a fire without a spark this guns for hire even if were just dancing in the dark this guns for hire even if were just dancing in the dark weve gotta hold on to what weve got it doesnt make a difference if we make it or not weve got each other and thats a lot for love well give it a shot whoa were half way there whoa livin on a fuckin lease time we got it all i am getting Authentic Radios with you on the radio we got it all a story about me and<|endoftext|>'],\n",
       " ['act 1 1 you belong with me 2 our song 3 tell me why 4 teardrops on my guitar 5 fearless act 2 6 forever and always 7 hey stephen 8 fifteen 9 tim mcgraw 10 white horse act 3 11 love story 12 the way i loved you 13 ray still living 14 secret right 5 15 rummage brandy 16 peachy band 17 blue lily blues 18 not many songs you ever wanted 19<|endoftext|>'],\n",
       " ['combat im ready for combat i say i dont want that but what if i do cause cruelty wins in the movies ive got a hundred thrown out speeches i almost said to you easy they come easy they go i jump from the train i ride off alone i never grew up its getting so old help me hold on to you ive been the archer ive been the prey who could ever leave me darling but who could stay dark side i search for your dark side but what if im alright right right right here and i cut off my nose just to spite my face then i hate my reflection for years and years i wake in the night i pace like a ghost the room is on fire invisible smoke and all of my heroes die all alone help me hold on to you ive been the archer ive been the prey screaming who could ever leave me darling but who could stay cause they see right through me they see right through me they see right through can you see right through me they see right through they see right through me i see right through me i see right through me all the kings horses all the kings men couldnt put me together again cause all of my enemies started out friends help me hold on to you ive been the archer ive been the prey who could ever leave me darling but who could stay cause they see right through me they see right through me they see right through i see right through me all the kings horses all the kings men couldnt<|endoftext|>'],\n",
       " ['i think of you every single evening as i lay awake at night i try to think try to walk away with you me in and i say honey baby dont do anything crazy around us say that everything will be fine oh honey baby oh how can you blame me when i say i wanna make you mine cause everybody else in the world is driving me crazy except you honey baby oh flying high i can see his smiling as we walk down by the drives take my hand take my breath away cause you make me feel like flying honey baby dont do anything crazy around us say that everything will be fine oh honey baby oh how can you blame me when i say i wanna make you mine cause everybody else in the world is driving me crazy except you honey baby oh you are everything ill ever need oh you are everything i wanna be drive me crazy have me baby all i really wanna say is honey baby dont do anything crazy around us say that everything will be fine oh honey baby oh how can you blame me when i say i wanna make you mine cause everybody else in the world is driving engineersinsert blame you honey baby what does this make me feel like if i say<|endoftext|>'],\n",
       " ['say youre sorry that face of an angel comes out just when you need it to as i paced back and forth all this time cause i honestly believed in you holdin on the days drag on stupid girl i shoulda known i shoulda known that im not a princess this aint a fairytale im not the one youll sweep off her feet lead her up the stairwell this aint hollywood this is a small town i was a dreamer before you went and let me down now its too late for you and your white horse to come around maybe i was naive got lost in your eyes and never really had a chance my mistake i didnt know to be in love you had to fight to have the upper hand i had so many dreams about you and me happy endings now i know that im not a princess this aint a fairytale im not the one youll sweep off her feet lead her up the stairwell this aint hollywood this is a small town i was a dreamer before you went and let me down now its too late for you and your white horse to come around and there you are on your knees beggin for forgiveness beggin for me just like i always wanted but im so sorry cause im not your princess this aint our fairytale im gonna find someone someday who might actually treat me well this is a big world that was a small town there in my rear view mirror disappearing now and its too late for you and your white horse now its too late for you and your white horse to come around and there you are with you waiting for the time that is no longer a minor wonder lindsey maybe some day youre gonna start catching<|endoftext|>'],\n",
       " ['beneath the chandelier of stars and atmosphere tangled like the roots on the ground the windows opened up the wind is blowing and were both not making a sound it s like i m melting on into you give me a reason why we should ever move and tell me you ll never leave me and i m not crazy and this is really happening that this is really happening could this be better you write me letters though you see me every day you tend to treat me like my name is up in lights it really blows me away lock me up in a dark room and i still can t take my eyes off you tell me you ll never leave me and i m not crazy and this is really happening that this is really happening all those kisses up against your car for all those wishes on planes we thought were stars memories like photographs oh baby here we are tell me you ll never leave me and i m not crazy and oh this is really happening oh oh baby tell me you ll always need me that i drive you crazy and this is really happening oh that this is really happening all those kisses up against your car for all those wishes on planes we thought were stars memories like photographs oh baby here we are tell me you<|endoftext|>'],\n",
       " ['i dont like your little game dont like your tilted stage the role you made me play fool no i dont like you i dont like your perfect crime how you laugh when you lie you said the gun was mine isnt cool no i dont like you i got smarter i got harder in the nick of time honey rose up from the dead i do it all the time got a list of names and yours is in red underlined check it once then i check it twice oh look what you made me do look what you just made me do what you made me do i dont like your kingdom keys they once belonged to me asked me for a place to sleep locked me out and threw a feast the world goes on another drama but all i think about is karma the world moves on but one things for sure maybe i got mine but youll all get yours i got smarter i got harder in the nick of time honey rose up from the dead i do it all the time got a list of names and yours is in red underlined check it once then i check it twice oh look what you made me do look what you just made me do what you made me do i dont trust nobody and nobody trust me ill be the actor starring in your bad dreams i dont trust nobody nobody trusts me ill be the actor starring in your bad dreams we never had a single word to say no when i wanted to you came with us for an hour at a time and then suddenly<|endoftext|>'],\n",
       " ['it keeps me awake the look on your face the moment you heard the news youre screaming inside and frozen in time you did all that you could do the game was rigged the ref got tricked the wrong ones think they re right you were outnumbered this time but only the young only the young only the young only the young can run can run so run and run and run so every day now you brace for the sound youve only heard on tv you go to class scared wondering where the best hiding spot would be and the big bad man and his big bad clan their hands are stained with red oh how quickly they forget they arent gonna help us too busy helping themselves they arent gonna change this we gotta do it ourselves they think that its over but its just begun only one thing can save us only the young only the young only the young only the young only the young only the young only the young only the young only the young only the young only the young only the young can run dont say youre too tired to fight its just a matter of time up theres the finish line dont say youre too tired to fight its just a matter of time and its now time for a fight with your friends if its not there will be no one to kill you and its gonna<|endoftext|>'],\n",
       " ['city of lover 1 me 2 blank space 3 i knew you were trouble 4 the archer 5 love story 6 delicate 7 death by a thousand cuts 8 cornelia street 9 the man 10 all those days 11 the one true good 12 soul going his way 13 seven five star six stars seven stars seven stars seven stars seven stars seven stars seven stars<|endoftext|>'],\n",
       " ['azt mondod sajnálod az az angyali arc pont akkor jön elő amikor szükséged van rá ahogy fel alá járkáltam egész idő alatt mert őszintén hittem benned kitartva a napok elhúzódnak bolond lány tudnom kellett volna tudnom kellett volna nem egy hercegnő vagyok ez nem egy tündérmese nem én vagyok az akit leveszel a lábáról akit felvezetsz a lépcsőn ez nem hollywood ez egy kis város álmodozó voltam mielőtt elmentél és cserben hagytál most már túl késő számodra a fehér lovaddal hogy újra eljöjj bébi naív voltam elvesztem a szemeidben és soha nem volt igazán esélyem az én hibám nem tudtam hogy ahhoz hogy szerelmes légy ennyit kell veszekedni hogy felülkerekedj annyi álmom volt rólad és rólam boldog befejezések most már tudom nem egy hercegnő vagyok ez nem egy tündérmese nem én vagyok az akit leveszel a lábáról akit felvezetsz a lépcsőn ez nem hollywood ez egy kis város álmodozó voltam mielőtt elmentél és cserben hagytál most már túl késő számodra a fehér lovaddal hogy újra eljöjj és tessék itt térdelsz bocsánatért könyörögve értem könyörögve pont úgy ahogy mindig is akartam de annyira sajnálom mert nem vagyok a hercegnőd ez nem egy tündérmese találni fogok egy napon valakit aki talán tényleg jól bánik velem ez egy nagy világ az egy kis város volt ami a visszapillantó tükrömben eltűnik most és már túlkéső számodra a fehér lovaddal most már túlkéső számodra a fehér lovaddal az az angyali arc pont akkor jön elő amikor szükséged van rá ahogy fel<|endoftext|>'],\n",
       " ['what if ribbons and bows didnt mean a thing would the song still survive without five golden rings would you still wanna kiss without mistletoe what would happen if god never let it snow what would happen if christmas carols told a lie tell me what would you find youd see that today holds something special something holy not superficial so heres to the birthday boy who saved our lives its something we all try to ignore and put a wreath up on your door so heres something you should know that is for sure christmas must be something more what if angels did not pay attention to all the things that we wished they would always do what if happiness came in a cardboard box then i think there is something we all forgot what would happen if presents all went away tell me what would you find youd see that today holds something special something holy not superficial so heres to the birthday boy who saved our lives its something we all try to ignore and put a wreath up on your door so heres something you should know that is for sure christmas must be something more we get so caught up in all of it business and relationships hundred mile an hour lives and its this time of year and everybodys here it seems the last thing on your mind is that the day holds something special something holy not superficial so heres to jesus christ who saved our lives its something we all try to ignore and put a wreath up on your door but heres something you should know that is for sure christmas must be something more than just a photo collection and one of the best things youve ever seen there might be something for you to buy but heres<|endoftext|>'],\n",
       " ['you were what i wanted when i wanted what i just couldnt have you were country lovin really somethin for three months and a half everybody said that you were bad news but baby i was betting on you so i guess i owe my friends ten dollars and a six pack got myself a big country serving of payback i guess im gonna have to listen to my mamas i told you so but you aint worth all that ten dollars and a six pack i said let them say were crazy you said lets go fishing tonight the midnight moon was blazing baby i was looking into your eyes everything changed when you took me to town caught you staring every other girl down so i guess i owe my friends ten dollars and a six pack got myself a big country serving of payback i guess im gonna have to listen to my mamas i told you so but you aint worth all that ten dollars and a six pack cant believe the time you lost me cant believe what it cost me i owe my friends ten dollars and a six pack got myself a big country serving of payback had to go and listen to my mamas i told you so you aint never been through that you aint forgiven him everything his father made him couldnt help but once you saw the difference between the two you had to make it you a special moment you didnt<|endoftext|>'],\n",
       " ['is it romantic how all my elegies eulogize me im not cut out for all these cynical clones these hunters with cell phones take me to the lakes where all the poets went to die i dont belong and my beloved neither do you those windermere peaks look like a perfect place to cry im setting off but not without my muse what should be over burrowed under my skin in heart stopping waves of hurt ive come too far to watch some namedropping sleaze tell me what are my words worth take me to the lakes where all the poets went to die i dont belong and my beloved neither do you those windermere peaks look like a perfect place to cry im setting off but not without my muse i want auroras and sad prose i want to watch wisteria grow right over my bare feet cause i havent moved in years and i want you right here a red rose grew up out of ice frozen ground with no one around to tweet it while i bathe in cliffside pools with my calamitous love and insurmountable grief take me to the lakes where all the poets went to die i dont belong and my beloved neither do you those windermere peaks look like a perfect place to cry im setting off but not without my muse i want auroras and sad prose i want to watch wisteria<|endoftext|>'],\n",
       " ['i don t need a lot but theres one thing love has taught me it s to never expect too much don t need a believable touch i just need you i just need you and i might i found life why should we be wasting time you don t know what you missed when i look into your eyes like this and you should be in front of me seeing everything to see looking at you check out this view think of a quiet beach think of how the waves crash down think about a summer s eve no offense to them but they aint got nothing on you walking with you in the light or in the dark well nothing shadows who you are and you don t know what you missed when i look into your eyes like this and you should be in front of me seeing everything to see looking at you check out this view i look outside the window everyday see something new but all i ever wanted was a window looking at you at you and you don t know what you missed when i look into your eyes like this and you should be in front of me seeing everything to see you don t know what you missed when i look into your eyes like this and you should be in front of me seeing everything to see looking at you check out this picture like the picture i always wanted to see but couldn<|endoftext|>'],\n",
       " ['i used to fly didnt matter where id been cause id seen the sky i wanna tell you why but somehow i know i would break down and cry i know you cant see me here but i am not alone im lying here in invisible arms and i wont be alone tonight you you know i would die before i let them see me see me cry please dont leave tonight oh let me down slowly show me a light i know you cant see me here but i am not alone im lying here in invisible arms and i wont be alone tonight oh let me think im strong please dont bring me down i need you tonight i know you cant see me here but i am not alone im lying here in invisible arms and i wont be alone tonight oh let me cry please dont leave tonight oh let me down slowly show me a light i know you cant see me here but<|endoftext|>'],\n",
       " [\"rebekah rode up on the afternoon train it was sunny her saltbox house on the coast took her mind off st louis bill was the heir to the standard oil name and money and the town said how did a middle class divorcée do it the wedding was charming if a little gauche theres only so far new money goes they picked out a home and called it holiday house their parties were tasteful if a little loud the doctor had told him to settle down it must have been her fault his heart gave out and they said there goes the last great american dynasty who knows if she never showed up what couldve been there goes the maddest woman this town has ever seen she had a marvelous time ruining everything rebekah gave up on the rhode island set forever flew in all her bitch pack friends from the city filled the pool with champagne and swam with the big names and blew through the money on the boys and the ballet and losing on card game bets with dalí and they said there goes the last great american dynasty who knows if she never showed up what couldve been there goes the most shameless woman this town has ever seen she had a marvelous time ruining everything they say she was seen on occasion pacing the rocks staring out at the midnight sea and in a feud with her neighbor she stole his dog and dyed it key lime green fifty years is a long time holiday house sat quietly on that beach free of women with madness their men and bad habits and then it was bought by me who knows if i never showed up what couldve been there goes the loudest woman this town has ever seen i had a marvelous time ruining everything they say i was seen on occasion breaking a dead phone the darlin for all they knew he'd be waiting for him sat on a bicycle lying<|endoftext|>\"],\n",
       " ['vintage tee brand new phone high heels on cobblestones when you are young they assume you know nothing sequin smile black lipstick sensual politics when you are young they assume you know nothing but i knew you dancin in your levis drunk under a streetlight i i knew you hand under my sweatshirt baby kiss it better i and when i felt like i was an old cardigan under someones bed you put me on and said i was your favorite a friend to all is a friend to none chase two girls lose the one when you are young they assume you know nothing but i knew you playing hide and seek and giving me your weekends i i knew you your heartbeat on the high line once in twenty lifetimes i and when i felt like i was an old cardigan under someones bed you put me on and said i was your favorite to kiss in cars and downtown bars was all we needed you drew stars around my scars but now im bleedin cause i knew you steppin on the last train marked me like a bloodstain i i knew you tried to change the ending peter losing wendy i i knew you leavin like a father running like water i cause when you are young they assume you know nothing but i knew youd linger like a tattoo kiss i knew youd haunt all of my what ifs the smell of smoke would hang around this long cause i knew everything when i was young i knew id curse you for the longest time chasin shadows in the grocery line i knew youd miss me once the thrill expired and youd be standin in my front porch light and i knew youd come back to me youd come back to me and youd come back to me and youd come back and when i felt like i was an old cardigan under someones bed you put me on and said i was your favorite to kiss in cars and downtown bars was<|endoftext|>'],\n",
       " ['i remember the eyes of the kid in the crowd who cut in front of the nearest elevator when he was seven years old and had a good day. What is wrong with that kid today? Was he doing okay<|endoftext|>'],\n",
       " ['once the last drop of rain has dried off the pavement shouldnt i find a stain but i never do the way the tires turn stones on old county roads they leave em muddy underneath reminds me of you you find graffiti on the walls of old bathroom stalls you know you can scratch it right off its how it used to be but like the dollar in your pocket its been spent and traded in you cant change where its been reminds me of me i lived and i learned had you got burned held out and held on god knows too long and wasted time lost tears swore that id get out of here but no amount of freedom gets you clean ive still got you all over me the best and worst day of june was the one that i met you with your hands in your pockets and your dont you wish you had me grin well i did so i smiled and i melted like a child now every breath of air i breathe reminds me of then and i lived and i learned had you got burned held out and held on god knows too long and wasted time lost tears swore that id get out of here but no amount of freedom gets you clean ive still got you all over me i lived and i learned and found out what it was to turn around and see that we were never really meant to be so i lied and i cried and i watched a part of myself die cause no amount of freedom gets you clean ive still got you all over me the best and worst day of june was the one that i met you with your hands in your pockets and<|endoftext|>'],\n",
       " ['so youre leaving in the morning on the early train i could say everythings alright and i could pretend and say goodbye got your ticket got your suitcase got your leaving smile i could say thats the way it goes and i could pretend and you wont know that i was lying cause i cant stop loving you no i cant stop loving you no i wont stop loving you why should i we took a taxi to the station not a word was said and i saw you walk across the road for maybe the last time i dont know feeling humble i heard a rumble on the railway track and when i hear that whistle blow ill walk away and you wont know that ill be crying cause i cant stop loving you no i cant stop loving you no i wont stop loving you why should i ill always be here by your side i never wanted to say goodbye im always here if you change change your mind so youre leaving in the morning on the early train i could say everythings alright and i could pretend and say goodbye but that would be lying cause i cant stop loving you no i cant stop loving you no i wont stop loving you why should i know our lives would end in a mess we always<|endoftext|>'],\n",
       " ['i got a lying smile i never put out for you cause i guess i never felt like i really needed to and they say little girls have big dreams and nothing in the world was gonna come between me and you and it was a long time coming i waited half my life just to find someone like you i spent a long time finding out love hangs around after you walk out not knowing itd be a long time going they say its better to have lost than never to have loved at all and i say whoever said that didnt have too far to fall and they say little girls are so naive that wasnt how it was supposed to be with me and you and it was a long time coming i waited half my life just to find someone like you i spend a long time finding out love hangs around after you walk out not knowing it will be a long time going ive burned my bridges had sleepless nights washed my sins on the neon lights and im still not over you and it was a long time coming i waited half my life just to find someone like you i spend a long time finding out love hangs around after you walk out not knowing it will be a long time going a long time going and it will be a long time long time going ive lost everything that once held me back was gone and you know me and i wont hold it against you forever you never know where i want to<|endoftext|>'],\n",
       " ['i need you now read letters that i wrote on the wall and the message that i left when i called i need you now words i said drowned out by the rain waiting there for you but you never came my world s a little colder now but i m keeping warm somehow so here you are at my window guess nobody told you i don t need you don t need you and i waited so frustrated who s gonna hold you i don t need you don t need you now i need you now words i heard you whisper to me we were walking down a one way street you need me now that s what you ve been telling my friends but i ve come too far to go back there again my heart my mind and numbers have changed you might as well forget my name so here you are at my window guess nobody told you i don t need you don t need you and i waited so frustrated who s gonna hold you i don t need you don t need you now i need you now read letters that i wrote on the wall and the message that i left when i called so here you are at my window guess nobody told you i don t need you don t need you and i waited so frustrated who s gonna hold you i don t need you don t need you now and i don t look for your car i don t wonder where you are i don t dream about you cause i don t need you now i don t dream about the way that i never heard you say i see you on the horizon love you ever so small but i see you all around me i heard you whisper to me we were walking down a one way<|endoftext|>'],\n",
       " [\"loving him is like driving a new maserati down a dead end street faster than the wind passionate as sin ending so suddenly loving him is like trying to change your mind once youre already flying through the freefall like the colors in autumn so bright just before they lose it all losing him was blue like id never known missing him was dark grey all alone forgetting him was like trying to know somebody youve never met but loving him was red loving him was red touching him was like realizing all you ever wanted was right there in front of you memorizing him was as easy as knowing all the words to your old favorite song fighting with him was like trying to solve a crossword and realizing theres no right answer regretting him was like wishing you never found out that love could be that strong losing him was blue like id never known missing him was dark grey all alone forgetting him was like trying to know somebody youve never met but loving him was red oh red burning red remembering him comes in flashbacks and echoes tell myself its time now gotta let go but moving on from him is impossible when i still see it all in my head in burning red burning it was red losing him was blue like id never known missing him was dark grey all alone forgetting him was like trying to know somebody you never met cause loving him was red yeah yeah red were burning red and thats why hes spinning round your bed talking about kissing him when i see him now like like ever screaming 'i miss you a great deal seeing you at last' or i'm<|endoftext|>\"],\n",
       " ['friday night beneath the stars in a field behind your yard you and i are painting pictures in the sky and sometimes we dont say a thing just listen to the crickets sing everything i need is right here by my side and i know everything about you i dont wanna live without you im only up when youre not down dont wanna fly if youre still on the ground its like no matter what i do well you drive me crazy half the time the other half im only tryna let you know that what i feel is true and im only me when im with you just a small town boy and girl living in a crazy world tryna figure out what is and isnt true and i dont try to hide my tears my secrets or my deepest fears through it all nobody gets me like you do and you know everything about me you say that you cant live without me im only up when youre not down dont wanna fly if youre still on the ground its like no matter what i do well you drive me crazy half the time the other half im only tryna let you know that what i feel is true and im only me when im with you when im with anybody else its so hard to be myself and only you can tell that im only up when youre not down dont wanna fly if youre still on the ground its like no matter what i do well you drive me crazy half the time the other half im only tryna let you know that what i feel is true and im only me when im with you just a small town boy and girl living in a crazy world tryna figure out what is and isnt true and<|endoftext|>'],\n",
       " ['here you are now fresh from your war back from the edge of time and all that you were stripped to the bone i thought youd want to know that when you feel the world is crashing all around your feet come running headlong into my arms breathless ill never judge you i can only love you come now running headlong into my arms breathless breathless lay down your guns too weak to run nothing can harm you here your precious heart broken and scarred somehow you made it through i only ask that you wont go again when you feel the world is crashing all around your feet come running headlong into my arms breathless ill never judge you i can only love you come now running headlong into my arms breathless im so glad to see you smiling so good to hear your laugh i think that youve found you even missed yourself im only asking this because i think that truth be told oh youll never go again again again when you feel the world is crashing all around your feet come running headlong into my arms breathless ill never judge you i can only love you come now running headlong into my arms breathless im so glad to see you smiling so good to hear your laugh i think that youve found you even<|endoftext|>'],\n",
       " ['it wasnt just like a movie the rain didnt soak through my clothes down to my skin im drivin away and i i guess you could say this is the last time ill drive this way again lost in the gray and i try to grab at the fray cause i i still love you but i cant bye bye to everything i thought was on my side bye bye baby i want you back but its come down to nothing and all i have is your sympathy cause you took me home but you just couldnt keep me bye bye baby bye bye baby the picture frame is empty on the dresser vacant just like me i see your writing on the dash then back to your hesitation i was so sure of everything everything i thought wed always have guess i never doubted it then the here and the now floods in feels like im becoming a part of your past bye bye to everything i thought was on my side bye bye baby i want you back but its come down to nothing and all i have is your sympathy cause you took me home but you just couldnt keep me bye bye baby and theres so much that i cant touch youre all i want but its not enough this time and all the pages are just slipping through my hands and im so scared of how this ends bye bye to everything i thought was on my side bye bye baby i want you back but its come down to nothing and all i have is your sympathy cause you took me home but you just couldnt keep me bye bye to everything i thought was on my side bye bye baby i want you back but its come down to nothing and all i have is your sympathy cause you took me home but you just couldnt keep me bye bye baby and theres so much that i cant touch youre all i want but its not enough this time and all the pages are<|endoftext|>'],\n",
       " ['hes got a nice little life hes gonna live it but on friday nights he plays that mandolin painted red and he said its not the best i know but its mine im gonna make it mine people there cant help but care about the friendly music of a guy whos getting by from their applause hes got a song that moves along hes got his local crowd tonight at angelinas family bar and grill hes got his heart on his sleeve the songs he plays just living free but who knows what goes through his mind when he plays a song it brings along everybody saying whos that guy who plays the mandolin mandolin oh yeah mandolin got a car got a scar like everyone hes got a few but everybody loves that mandolin got his problems bills to pay somehow that boy finds a way through paychecks in tip jars yeah hes got his heart on his sleeve the songs he plays just living free but who knows what goes through his mind when he plays a song it brings along everybody saying whos that guy who plays the mandolin mandolin oh yeah mandolin oh hes the kind of guy who never really wanted fame his feet are planted firmly on the ground he never wanted people to remember his name he never wanted word to get around that he found heaven on earth hes got his heart on his sleeve the songs he plays just living free but who knows what goes through his mind when he plays a song it brings along everybody saying whos that guy who plays the mandolin mandolin oh yeah mandolin oh hes the kind of guy who never really wanted fame his feet<|endoftext|>'],\n",
       " ['walked into a chair leg as i was thinking bout you your face jumped right in my way as things lately do oh baby cant you see the thought of you makes a mess of me walked into a chair leg as i was thinking bout you and now i cant walk straight cant talk straight cant think about anything but the way it should be it could be and till you come round again ill be doin what i usually do thinkin bout you oh ah i get lost when i drive around town thinkin bout your smile always ending up your side of town and i dont know why must be somethin under this hood nobodys strong like you walked into a chair leg as i was thinking bout you cant walk straight cant talk straight cant think about anything but the way it should be it could be and till you come round again ill be doin what i usually do thinkin bout you your eyes are the color of the great big sea the one i go swimmin in every time you look at me cant walk straight cant talk straight cant think about anything but the way it should be it could be and till you come round again ill be doin what i usually do thinkin bout you get lost when i drive around town when you can look into me and i dont know why i<|endoftext|>'],\n",
       " ['i stay out too late got nothing in my brain thats what people say thats what people say i go on too many dates but i cant make them stay at least thats what people say thats what people say but i keep cruising cant stop wont stop moving its like i got this music in my mind saying its gonna be alright i never miss a beat im lightning on my feet and thats what they don t see thats what they don t see players gonna play play play play play and the haters gonna hate hate hate hate hate baby im just gonna shake shake shake shake shake i shake it off i shake it off heartbreakers gonna break fakers gonna fake im just gonna shake i shake it off i shake it off i i shake it off i shake it off i i shake it off i shake it off i i shake it off i shake it off i i shake it off i shake it off i i shake it off i shake it off i i shake it off i shake it off i shake it off i shake it off i shake it off i shake it off im not mad im not mad im mad im just gonna shake<|endoftext|>'],\n",
       " ['if you love me then i love you swear by the freckles on the moon and maybe this will be enough id like to keep you til im old but if i cant at least youll know that baby perfect have i loved do you remember the stupid things we used to do before september stole me away from you the time we got your truck stuck in the creek cause baby roads werent wild enough for you and me sayin if you love me then i love you swear by the freckles on the moon and maybe this will be enough id like to keep you til im old but if i cant at least youll know that baby perfect have i loved i used to see you by the bridge we used to cross i found the feeling of trying to get lost you would smile that smile that i tried so hard to forget its hard to douse a fire that i still havent put out yet and if you love me then i love you swear by the freckles on the moon and maybe this will be enough id like to keep you til im old but if i cant at least youll know that baby perfect have i loved love was all we knew and faith was growing on the vines words were all we had and for one summer you were mine sayin if you love me then i love you swear by the freckles on the moon and maybe this will be enough id like to keep you til im old but if i cant at least youll know that baby perfect have i loved i used to see you by the bridge we<|endoftext|>'],\n",
       " ['knew he was a killer first time that i saw him wondered how many girls he had loved and left haunted but if hes a ghost then i can be a phantom holdin him for ransom some some boys are tryin too hard he dont try at all though younger than my exes but he act like such a man so i see nothing better i keep him forever like a vendetta ta i i i see how this is gon go touch me and youll never be alone i island breeze and lights down low no one has to know in the middle of the night in my dreams you should see the things we do baby in the middle of the night in my dreams i know im gonna be with you so ill take my time are you ready for it knew i was a robber first time that he saw me stealing hearts and running off and never sayin sorry but if im a thief then he can join the heist and well move to an island and and he can be my jailer burton to this taylor every love ive known in comparison is a failure i forget their names now im so very tame now never be the same now now i i i see how this is gon go touch me and youll never be alone i island breeze and lights down low no one has to know in the middle of the night in my dreams you should see the things we do baby yeah in the middle of the night in my dreams i know im gonna be with you so i take my time are you ready for it night in my dreams wed do baby yeah in the middle of the night baby let the games begin let the games begin let the games begin baby let the games begin let the games begin let the games begin let the games begin let the games begin let the games begin let the games begin let the games begin let the games begin let the games<|endoftext|>'],\n",
       " ['walking through a crowd the village is aglow kaleidoscope of loud heartbeats under coats everybody here wanted something more searching for a sound we hadnt heard before and it said welcome to new york its been waiting for you welcome to new york welcome to new york welcome to new york its been waiting for you welcome to new york welcome to new york its a new soundtrack i could dance to this beat beat forevermore the lights are so bright but they never blind me me welcome to new york its been waiting for you welcome to new york welcome to new york when we first dropped our bags on apartment floors took our broken hearts put them in a drawer everybody here was someone else before and you can want who you want boys and boys and girls and girls welcome to new york its been waiting for you welcome to new york welcome to new york welcome to new york its been waiting for you welcome to new york welcome to new york its a new soundtrack i could dance to this beat beat forevermore the lights are so bright but they never blind me me welcome to new york its been waiting for you welcome to new york welcome to new york like any great love it keeps you guessing like any real love its ever changing like any true love it drives you crazy but you know you wouldnt change anything anything anything welcome to new york its been waiting for you welcome to new york welcome to new york welcome to new york its been waiting for you welcome to new york welcome to new york its a new soundtrack i could dance to this beat the lights are so bright but they never blind me welcome to new york its been waiting for you welcome to new york the lights are so bright but they never blind me i could dance to this beat the lights are so bright but they never blind me i could dance to this beat the lights are so bright but<|endoftext|>'],\n",
       " ['please take down the mistletoe cause i dont want to think about that right now cause everything i want is miles away in a snow covered little town my mommas in the kitchen worrying about me seasons greetings hope youre well well im doing alright if you were wondering lately i can never tell i know this shouldnt be a lonely time but there were christmases when you were mine ive been doing fine without you really up until the nights got cold and everybodys here except you baby seems like everyones got someone to hold but for me its just a lonely time cause there were christmases when you were mine merry christmas everybody thatll have to be something i just say this year ill bet you got your mom another sweater and were your cousins late again when you were putting up the lights this year did you notice one less pair of hands i know this shouldnt be a lonely time but there were christmases when you were mine youd like you got a little deer hunt ground under your arm for a reason i was just wondering how long your<|endoftext|>'],\n",
       " ['you should take it as a compliment that i got drunk and made fun of the way you talk oh you should think about the consequence of your magnetic field being a little too strong and i got a girlfriend shes older than us shes in the club doing i dont know what youre so cool it makes me hate you so much whiskey on ice sunset and vine youve ruined my life by not being mine youre so gorgeous i cant say anything to your face cause look at your face and im so furious at you for making me feel this way but what can i say youre gorgeous oh you should take it as a compliment that im talking to everyone here but you oh you should think about the consequence of you touching my hand in a darkened room the darkened room if youve got a boyfriend im jealous of him but if youre single thats honestly worse cause youre so gorgeous it actually hurts ocean blue eyes looking in mine i feel like i might sink and drown and die youre so gorgeous i cant say anything to your face cause look at your face and im so furious at you for making me feel this way but what can i say youre gorgeous you make me so happy it turns back to sad theres nothing i hate more than what i cant have and you are so gorgeous it makes me so mad oh you make me so happy it turns back to sad yeah theres nothing i hate more than what i cant have guess ill just stumble on home to my cats alone unless you wanna come along oh youre so gorgeous i cant say anything to your face cause look at your face and im so furious at you for making me feel this way but what can i say youre gorgeous you make me so happy it turns back to sad<|endoftext|>'],\n",
       " ['i like the way you wanted me every night for so long baby i like the way you needed me every time the things got rocky yeah i was believing in you was i mistaken do you mean do you mean what you say when you say our love could last forever well id rather you be mean than love and lie id rather hear the truth than have to say goodbye id rather take a blow at least then i would know but baby dont you break my heart slow i like the way youd hold me every night for so long baby i like the way youd sing to me every time the things got rocky yeah i was believing in you was i mistaken do you say do you say what you mean when you say our love could last forever oh yeah yeah youd run around and lead me on forever while i stay at home still thinking were together i want our love to last forever but id rather you be mean than love and lie id rather hear the truth than have to say goodbye and id rather take a blow at least then i would know but baby dont you break my heart slow i like the way youd hold me every night for so long baby i like the way<|endoftext|>'],\n",
       " ['theres a girl that you want she s everything that i am not and you cant stop thinking about her theres some awesome facts about her so im going to give you some s to do im getting busy and im going to make her jealous or something so im going<|endoftext|>'],\n",
       " ['vintage tee brand new phone high heels on cobblestones when you are young they assume you know nothing sequin smile black lipstick sensual politics when you are young they assume you know nothing but i knew you dancin in your levis drunk under a streetlight i i knew you hand under my sweatshirt baby kiss it better i and when i felt like i was an old cardigan under someones bed you put me on and said i was your favorite a friend to all is a friend to none chase two girls lose the one when you are young they assume you know nothing but i knew you playing hide and seek and giving me your weekends i i knew you your heartbeat on the high line once in twenty lifetimes i and when i felt like i was an old cardigan under someones bed you put me on and said i was your favorite to kiss in cars and downtown bars was all we needed you drew stars around my scars but now im bleedin cause i knew you steppin on the last train marked me like a bloodstain i i knew you tried to change the ending peter losing wendy i i knew you leavin like a father running like water i and when you are young they assume you know nothing but i knew youd linger like a tattoo kiss i knew youd haunt all of my what ifs the smell of smoke would hang around this long cause i knew everything when i was young i knew id curse you for the longest time chasin shadows in the grocery line i knew youd miss me once the thrill expired and youd be standin in my front porch light and i knew youd come back to me youd come back to me and youd come back to me and youd come back and when i felt like i was an old cardigan under someones bed you put me on and said i was your favorite to kiss in shoes you putentric were<|endoftext|>'],\n",
       " ['your feet under the table i love it when theyre touching mine your hands make the crisps at the cradle to tell me everything is fine all i see is you looking at me do you know when you go you make the sweetest sight at the window if you had never come out of the blue i would have stayed up and made up you you smile just like a picture it doesnt even need a frame sometimes i wait to answer just to hear you say my name and all i want is just what ive got do you know when you go you make the sweetest sight at the window if you had never come out of the blue i would have stayed up and made up you id never let you go even if i could cause i never couldve dreamed you up this good do you know when you go you make the sweetest sight at the window if you had never come out of the blue id never let you go even if i could cause i never couldve dreamed you up this good do you know when you go you make<|endoftext|>'],\n",
       " ['my winter nights are taken up by static stress and holiday shopping traffic but i close my eyes and im somewhere else just like magic in my heart is a christmas tree farm where the people would come to dance under sparkling lights bundled up in their mittens and coats and the cider would flow and i just wanna be there tonight sweet dreams of holly and ribbon mistakes are forgiven and everythin is icy and blue and you would be there too under the mistletoe watchin the fire glow and tellin me i love you just bein in your arms takes me back to that little farm where every wish comes true in my heart is a christmas tree farm theres a light in the barn we run inside out from the cold in the town kids are dreamin of sleighs and theyre warm and theyre safe they wake to see a blanket of snow sweet dreams of holly and ribbon mistakes are forgiven and everythin is icy and blue and you would be there too under the mistletoe watchin the fire glow and tellin me i love you just bein in your arms takes me back to that little farm where every wish comes true baby yeah and when im feelin alone you remind me of home oh baby baby merry christmas and when the world isnt fair i pretend that were there baby baby merry christmas under the mistletoe watching the fire glow and tellin me i love you oh baby baby merry christmas oh baby baby merry christmas oh baby baby merry christmas i love you oh baby baby merry christmas oh baby baby merry christmas we made my child we love you oh baby merry christmas oh baby merry christmas our baby happy christ<|endoftext|>'],\n",
       " ['do you remember the day i leaned up against your car and it started rolling down the street you screamed and ran after it and tried to open the door and it ran over your foot and i was too busy laughing on the ground to see it would take brad pitt to leave you it takes five seconds to need you when im mad at all the lovebirds cause they dont know to play our song i wish that pretty girls couldnt see you i wish that all your roads would lead you right to me cause thats where you belong until brad pitt comes along do you remember the time we watched carrie and you said it reminded you of me and i threw the remote at you and you said my point exactly and later on that night under the neon city lights you paid a homeless guy to sing a song to me it would take brad pitt to leave you it takes five seconds to need you when im mad at all the lovebirds cause they dont know to play our song i wish that pretty girls couldnt see you i wish that all your roads would lead you right to me cause thats where you belong until brad pitt comes along you call me lucky cause i lose everything but i swear id be careful with it if you gave me a ring it would take brad pitt to leave you it takes five seconds to need you when im mad at all the lovebirds cause they dont know to play our song i wish that pretty girls couldnt see you i wish that all your roads would lead you right to me cause thats where you belong until brad pitt comes along you call me lucky cause i lose everything<|endoftext|>'],\n",
       " ['ive been having a hard time adjusting i had the shiniest wheels now theyre rusting i didnt know if youd care if i came back i have a lot of regrets about that pulled the car off the road to the lookout couldve followed my fears all the way down and maybe i dont quite know what to say but im here in your doorway i just wanted you to know that this is me trying i just wanted you to know that this is me trying they told me all of my cages were mental so i got wasted like all my potential and my words shoot to kill when im mad i have a lot of regrets about that i was so ahead of the curve the curve became a sphere fell behind all my classmates and i ended up here pouring out my heart to a stranger but i didnt pour the whiskey i just wanted you to know that this is me trying i just wanted you to know that this is me trying at least im trying and its hard to be at a party when i feel like an open wound its hard to be anywhere these days when all i want is you youre a flashback in a film reel on the one screen in my town and i just wanted you to know that this is me trying i just wanted you to know that this is me trying at least im trying and its hard to be at a party when i<|endoftext|>'],\n",
       " ['ooh baby give me one more chance oh won t you please let me back in your heart oh darling i was blind to let you go now that i see you in her arms i want you back i want you back i want you back i want you back ooh ooh baby i want you back i want you back i want you back oh woah oh ooh baby give me one more chance won t you please let me back in your heart oh darling i was blind to let you go now that i see you in her arms i want you back i want you back oh woah oh oh baby give me one more chance won t<|endoftext|>'],\n",
       " ['this is wrong but i cant help but feel like there ain t nothing more right babe misty morning comes again and i cant help but wish i could see your face and i knew from the first note played id be breaking all my rules to see you you smile that beautiful smile and all the girls in the front row scream your name so dim that spotlight tell me things like i cant keep my eyes off of you im no one special just another wide eyed girl whos desperately in love with you give me a photograph to hang on my wall superstar morning lonelinеss comes around when im not dreaming about you whеn my world wakes up today youll be in another town and i knew when i saw your face id be counting down the ways to see you you smile that beautiful smile and all the girls in the front row scream your name so dim that spotlight tell me things like i cant take my eyes off of you im no one special just another wide eyed girl whos desperately in love with you give me a photograph to hang on my wall superstar you played in bars you play guitar and im invisible and everyone knows who you are and youll never see you sing me to sleep every night from the radio so dim that spotlight tell me things like i cant take my eyes off of you im no one special just another wide eyed girl whos desperately in love with you give me a photograph to hang on my wall\\n\\ntajlah from streetbros: good luck with your<|endoftext|>'],\n",
       " ['fearless tour fearless tour setlist fearless tour costumes youre not sorry what goes around comes around speak now tour speak now tour setlist speak now tour costumes back to december apologize youre not sorry drops of jupiter bette davis eyes red tour red tour setlist red tour costumes stay stay stay hooves forever trump look on for ya show time baby elephant the joker inside us a half ton of shoes deep goin to the disco gift up for<|endoftext|>'],\n",
       " ['standing on the border looking out into the great unknown i can feel my heart beating faster as i step out on my own theres a new horizon and the promise of favorable wind im heading out tonight traveling light im gonna start all over again and buy a one way ticket on a west bound train see how far i can go cause im gonna go out dancing in the pouring rain and talk to someone i dont know i will face the world around me knowing that im strong enough to let you go and i will fall in love again because i can gonna climb the mountain and look the eagle in the eye i wont let fear clip my wings and tell me how high i can fly how could i have ever believed that love had to be so blind when freedom was waiting down at the station all i had to do was make up my mind well i have walked through the fire and crawled on my knees through the valley of the shadow of doubt then the truth came shining like a light on me and now i can see my way out buy a one way ticket on a west bound train see how far i can go cause im gonna go out dancing in the pouring rain and talk to someone i dont know buy a one way ticket on a west bound train im gonna have my chance to make a great big leap and one way ticket to kyork we can all live forever in peace and peace we can do this cuz<|endoftext|>'],\n",
       " ['days go by i wonder if you hear me cant you read between the lines now im standing still i am disappearing take this chance ill make you mine dont you wonder why you change in time makes you feel so empty inside but loves got me cornered in the back of the room im spinning around im spinning around and all i see is someone i dont know loves got me tangled tired me too no sign of a wall sign of wall spinning me around and baby all i see is you he tells lies are you really thinking that you deserve another try when you see these eyes you see another planet dont ask how but fate decides dont you wonder why you change in time makes you feel so empty inside but loves got me cornered in the back of the room im spinning around im spinning around and all i see is someone i dont know loves got me tangled tired me too no sign of a wall sign of wall spinning me around and baby all i see is you spinning and turning and living and learning i should be able to handle this make it or break it move it or shake it do it or fake it girl youve got to make it but loves got me cornered in the back of the room im spinning around im spinning around and all i see is someone i dont know loves got me tangled tired me too no sign of a wall sign of wall spinning me around and baby all i see is you spinning and turning and living and learning i should be able to handle this make it or break it move it or shake it do it or fake it<|endoftext|>'],\n",
       " ['i know that im a handful baby uh i know i never think before i jump and youre the kind of guy the ladies want i know that i went psycho on the phone i never leave well enough alone and troubles gonna follow where i go but one of these things is not like the others like a rainbow with all of the colors baby doll when it comes to a lover i promise that youll never find another like me me e e ooh ooh ooh ooh im the only one of me baby thats the fun of me eeh eeh eeh ooh ooh ooh ooh youre the one and that you wont go wrong baby if im missing my love youre always waiting for me and a crazy girl for some reason ok ok i guess<|endoftext|>'],\n",
       " [\"theres something bout the way the street looks when its just rained theres a glow off the pavement you walk me to the car and you know i wanna ask you to dance right there in the middle of the parking lot yeah oh yeah were driving down the road i wonder if you know im trying so hard not to get caught up now but youre just so cool run your hands through your hair absent mindedly making me want you and i dont know how it gets better than this you take my hand and drag me head first fearless and i dont know why but with you id dance in a storm in my best dress fеarless so baby drive slow til we run out of road in this onе horse town i wanna stay right here in this passengers seat you put your eyes on me in this moment now capture it remember it cause i dont know how it gets better than this you take my hand and drag me head first fearless and i dont know why but with you id dance in a storm in my best dress fearless oh oh well you stood there with me in the doorway my hands shake im not usually this way but you pull me in and im a little more brave its the first kiss its flawless really something its fearless oh yeah cause i dont know how it gets better than this you take my hand and drag me head first fearless and i dont know why but with you id dance in a storm in my best dress fearless cause i dont know how it gets better than this you take my hand and drag me head first fearless and i dont know why but with you ur little brother in the way but so far your face so dark hes like a thief thats like nothing i've seen hes like<|endoftext|>\"],\n",
       " ['thought id end up with sean but he wasnt a match wrote some songs about ricky now i listen and laugh even almost got married and for pete im so thankful wish i could say thank you to malcolm cause he was an angel round and around and around and around we go oh now tell me now tell me now tell me now you know since you been gone thank you next thank you next now youre just somebody that i used to know im so moving on thank you next now youre just somebody that i used to know heres the thing we started out friends it was cool but it was all pretend yeah yeah since you been gone one taught me love one taught me patience one taught me pain now im so amazing yeah around and around and around and around we go oh now tell me now tell me now tell me now you know since you been gone thank you next thank you next now youre just somebody that i used to know im so moving on thank you next now youre just somebody that i used to know since you been gone thank you next thank you next now youre just somebody that i used to know im so moving on thanks to you now i get now i get what i want since youve been gone we are never ever ever getting back together we are never ever ever getting back together you go talk to your friends talk to my friends talk to me but we are never ever ever ever getting back together we are never ever ever getting back together we are never ever ever getting back together we are never ever getting back together we are never ever getting back together\\n\\nAnonymous 02/14/15 (Wed) 07:33:<|endoftext|>'],\n",
       " ['put your lips close to mine as long as they don t touch out of focus eye to eye till the gravity s too much and i ll do anything you say if you say it with your hands and i d be smart to walk away but you re quicksand this slope is treacherous this path is reckless this slope is treacherous and i i i like it i can t decide if it s a choice getting swept away i hear the sound of my own voice asking you to stay and all we are is skin and bone trained to get along forever going with the flow but you re friction this slope is treacherous this path is reckless this slope is treacherous i i i like it two headlights shine through the sleepless night and i will get you get you alone your name has echoed through my mind and i just think you should think you should know that nothing safe is worth the drive and i would follow you follow you home i ll follow you follow you home this hope is treacherous this daydream is dangerous this hope is treacherous i i i i i i i i i two headlights shine through the sleepless night and i will get you get you alone your name has echoed through my mind and i just think you should think you should know that nothing safe is worth the drive and i would follow you follow you home i ll follow you follow you home i ll follow you follow you home i ll follow you follow you home you come on down and take it easy you come on down and take it easy you come on down and take it easy three headlights<|endoftext|>'],\n",
       " ['rebekah rode up on the afternoon train it was sunny her saltbox house on the coast took her mind off st louis bill was the heir to the standard oil name and money and the town said how did a middle class divorcée do it the wedding was charming if a little gauche theres only so far new money goes they picked out a home and called it holiday house their parties were tasteful if a little loud the doctor had told him to settle down it must have been her fault his heart gave out and they said there goes the last great american dynasty who knows if she never showed up what couldve been there goes the maddest woman this town has ever seen she had a marvelous time ruining everything rebekah gave up on the rhode island set forever flew in all her bitch pack friends from the city filled the pool with champagne and swam with the big names and blew through the money on the boys and the ballet and losing on card game bets with dalí and they said there goes the last great american dynasty who knows if she never showed up what couldve been there goes the most shameless woman this town has ever seen she had a marvelous time ruining everything they say she was seen on occasion pacing the rocks staring out at the midnight sea and in a feud with her neighbor she stole his dog and dyed it key lime green fifty years is a long time holiday house sat quietly on that beach free of women with madness their men and bad habits and then it was bought by me who knows if i never showed up what couldve been there goes the loudest woman this town has ever seen i had a marvelous time ruining everything they say she was seen on occasion walking the beaten path waving her hand dancing to dark pop star hits like fireflies dancing on the wild side getting dancing<|endoftext|>'],\n",
       " ['open in gym taylor swift is bopping her head she puts her headphones in taylor man i hate cardio taylor opens apple music taylor activity playlists running gymflow drake and future jumpman by drake and future starts playing taylor starts mouthing the words she is running on a treadmill if young metro dont trust you im gon shoot you yeah yeah halloween im gon shoot you yeah taylor starts rapping the song out loud jumpman jumpman jumpman them boys up to something they just spent like two or three weeks out the country them boys up to something they just not just bluffing you dont have to call i hit my dance like usher woo i just found my tempo like im dj mustard woo i hit that ginobili with my left hand up like wo taylor falls face first onto the treadmill while it is still running it carries her off and throws her onto the floor face down meanwhile jumpman is still playing lobster and céline for all my babies that i miss chicken fingers french fries for them that wanna disscut to black advertising screen jumpman is still playing but it is just drake rapping now distractingly good all of a sudden I remember in the past im out that dana is back from the nurse right then and he is on his way out with her a<|endoftext|>'],\n",
       " ['i remember tears streaming down your face when i said ill never let you go when all those shadows almost killed your light i remember you said dont leave me here alone but all thats dead and gone and passed tonight just close your eyes the sun is going down youll be alright no one can hurt you now come morning light you and ill be safe and sound dont you dare look out your window darling everythings on fire the war outside our door keeps raging on hold onto this lullaby even when the musics gone just close your eyes the sun is going down youll be alright no one can hurt you now come morning light you and ill be safe and sound dont you dare look out your window darling everythings on fire the war outside our door keeps raging on hold onto this<|endoftext|>'],\n",
       " ['the buttons of my coat were tangled in my hair in doctors office lighting i didnt tell you i was scared that was the first time we were there holy orange bottles each night i pray to you desperate people find faith so now i pray to jesus too and i say to you ooh ah soon youll get better ooh ah soon youll get better ooh ah youll get better soon cause you have to i know delusion when i see it in the mirror you like the nicer nurses you make the best of a bad deal i just pretend it isnt real ill paint the kitchen neon ill brighten up the sky i know ill never get it theres not a day that i wont try and i say to you ooh ah soon youll get better ooh ah soon youll get better ooh ah youll get better soon cause you have to and i hate to make this all about me but who am i supposed to talk to what am i supposed to do if theres no you this wont go back to normal if it ever was its been years of hoping and i keep saying it because cause i have to ooh ah youll get better ooh ah soon youll get better ooh ah youll get better soon ooh ah youll get better soon cause you have to and i hate to make this allcairves ill see how these scarves make you laugh ill see how<|endoftext|>'],\n",
       " ['2007 tim mcgraw 2008 our song teardrops on my guitar picture to burn change shouldve said no fearless youre not sorry hey stephen breathe the way i loved you white horse 2009 love story crazier you belong with me come in with the rain superstar forever always the other side of the door untouchable jump then fall fifteen today was a fairytale 2010 two is better than one breathless mine half of my heart speak now back to december mean long live never grow up enchanted last kiss better than revenge dear john innocent the story of us haunted sparks fly 2011 superman if this was a movie ours 2012 safe sound eyes open we are never ever getting back together ronan begin again state of grace stay stay stay all too well i almost do 2013 i knew you were trouble the moment i knew 22 both of us highway dont care everything has changed sweeter than fiction red 2014 shake it off out of the clouds hope for the best dont believe youre doing it right whisper this book i am no more my song say my prayer you know i remember when we<|endoftext|>'],\n",
       " ['me and britney used to sit on the front porch drinking lemonade talking bout things no one else was ever supposed to hear in the summer shade she said she was gonna be a movie star and i said she was crazy catching dreams and fireflies in a jar just me and britney oh oh we were babies we were beautiful and free oh oh there was nothing that was out of reach for me and britney she never made it to hollywood but she made it to memphis and this little old town just hasn t been the same since that boy she ran off with well i thought he was crazy maybe i was just jealous that hed come between me and britney oh oh she was in love she was beautiful and free oh oh she was always so much braver than me when the phone rang in the middle of the night before she said a word i knew it was her she said i m sorry for waking you up but i didn t know who else to call or where else to go me and britney sat down on the front porch talking about love and how it changes things changes people and it changes names and everything but me and britney oh oh we re not as young but we re still beautiful and free oh oh even when we re old we re still going to be me and britney sitting down on the porch talking about love and how it changes things changes people and it changes names and everything but me and britney oh oh we re<|endoftext|>'],\n",
       " ['so were gonna have the band take a little tiny break and im gonna play you a song that uh i wrote this when i was like thirteen years old and just moved to nashville and i knew that i wanted to end up making music and on a record label but i didnt know how i was going to get there and i wrote this song about it i dont know what i want so dont ask me cause im still trying to figure it out dont know whats down this road im just walking trying to see through the rain coming down even though im not the only one who feels the way i do im alone on my own and thats all i know ill be strong ill be wrong oh but life goes on oh im just a girl trying to find a place in this world got the radio on my old blue jeans and im wearing my heart on my sleeve im feeling lucky today got the sunshine could you tell me what more do i need and tomorrows just a mystery oh yeah but thats ok im alone on my own and thats all i know ill be strong ill be wrong oh but life goes on oh im just a girl trying to find a place in this world im alone on my own and thats all i know ill be strong ill be wrong oh but life goes on oh im alone on my own and thats all i know ill be strong ill be strong ill be strong ill be strong oh but life goes on oh im alone on my own<|endoftext|>'],\n",
       " ['i would be complex i would be cool theyd say i played the field before i found someone to commit to and that would be okay for me to do every conquest i had made would make me more of a boss to you id be a fearless leader id be an alpha type when everyone believes ya whats that like im so sick of running as fast as i can wondering if id get there quicker if i was a man and im so sick of them coming at me again cause if i was a man then id be the man id be the man id be the man theyd say i hustled put in the work they wouldnt shake their heads and question how much of this i deserve what i was wearing or if i was rude could all be separated from my good ideas and power moves and they would toast to me oh let the players play id be just like leo in saint tropez im so sick of running as fast as i can wondering if id get there quicker if i was a man and im so sick of them coming at me again cause if i was a man then id be the man id be the man id be the man yeah whats it like to brag about raking in dollars and getting bitches and models and its all good if youre bad its okay if youre mad if i was out flashing my dollars id be a bitch not a baller theyd paint me out to be bad so its okay that im mad im so sick of running as fast as i can wondering if id get there quicker if i was a man you know that im so sick of them coming at me again cause if i was a man then id be the man id be the man yeah yeah id be the man yeah it is what it is then its what it is then its what it is now it is then its what it is now it is now im so<|endoftext|>'],\n",
       " ['i m getting older and less sure of what you like about me anyway how can a lady like you want me to feel better and not worry about me feeling better just sit here and watch a movie and enjoy the life you have chosen for<|endoftext|>'],\n",
       " ['the drought was the very worst when the flowers that wed grown together died of thirst it was months and months of back and forth youre still all over me like a wine stained dress i cant wear anymore hung my head as i lost the war and the sky turned black like a perfect storm rain came pouring down when i was drowning thats when i could finally breathe and by morning gone was any trace of you i think i am finally clean there was nothing left to do when the butterflies turned to dust that covered my whole room so i punched a hole in the roof let the flood carry away all my pictures of you the water filled my lungs i screamed so loud but no one heard a thing rain came pouring down when i was drowning thats when i could finally breathe and by morning gone was any trace of you i think i am finally clean i think i am finally clean oh oh oh oh oh oh said i think i am finally clean oh oh oh oh oh oh ten months sober i must admit just because youre clean dont mean you dont miss it ten months older i wont give in now that im clean im never gonna risk it the drought was the very worst when the flowers that wed grown together died of thirst the rain came pouring down when i was drowning thats when i could finally breathe and by morning gone was any trace of you i think i am finally clean rain came pouring down when i was drowning thats when i could finally breathe and by morning gone was any trace of you i think i am finally clean oh oh oh oh oh oh oh oh oh oh oh oh i think i am finally clean oh oh oh oh oh oh<|endoftext|>'],\n",
       " ['i wake up i stretch out i wonder what youre doin right now yeah i slept in my makeup again tell myself i must be crazy thinkin bout him i find myself something decent to wear take the towel out of my hair about that time you call me and im reminded without you id be a stranger in an all night diner waiting for a love to find her lonely like a harbor light thats never seen a boat like a line in an old love letter no one ever wrote i go to work work all day im a walking tape recorder of everything you say walk to the car dig out my keys start thinkin if you were with anyone but me im a stranger in an all night diner waiting for a love to find her lonely like a harbor light thats never seen a boat like a line in an old love letter no one ever wrote there you are on the street just standing there waiting on me i show you my new shoes you say you love them nd baby without you im a stranger in an all night diner waiting for a love to find her lonely like a harbor light thats never seen a boat like a line in an old love letter no one ever wrote there you are on the street just standing there waiting on me you say you love them nd baby without you im<|endoftext|>'],\n",
       " ['she walks to school with her arms crossed its just another day at 10 o clock she hears this screaming then finally she sees them its scary how things change and i saw the story on the news i saw the footage from the roof i sat down and cried didnt she call you didnt she need you bad enough was there some reason im not aware of did you not write it down just one more thing to do where were you and didnt she pray too he kissed his wife goodbye and took the earliest flight so he could be home that night to put his kids to sleep down the aisle three men walked and said were here to die for our god he stood up and said thats funny cause my god died for me i put the magazine down i read his words out loud i sat down and cried and didnt he call you didnt he need you bad enough was there some reason im not aware of did you not write it down just one more thing to do where were you and didnt he pray to oh the taxis pulled up on the very day of they rode 100 floors up just to come back down they never thought theyd see the day that the towers up in flames there was nothing left to say when it all came down and didnt they call you didnt they need you bad enough was there some reason im not aware of did you not write it down just one more thing to do where were you where were you and didnt he call you didnt they need you bad enough was there some reason im not aware of did you not write it down just one more thing<|endoftext|>'],\n",
       " ['i remember tears streaming down your face when i said ill never let you go when all those shadows almost killed your light i remember you said dont leave me here alone but all thats dead and gone and passed tonight just close your eyes the sun is going down youll be alright no one can hurt you now come morning light you and ill be safe and sound dont you dare look out your window darling everythings on fire the war outside our door keeps raging on hold on to this lullaby even when the musics gone gone just close your eyes the sun is going down youll be alright no one can hurt you now come morning light you and ill be safe and sound dont you dare look out your window darling everythings on fire the war outside our door keeps raging on hold on to this lullaby even<|endoftext|>'],\n",
       " ['oh we were standing in an empty room the moonlight was falling you were holding my hand when the car pulled up for you and i could have spent a life with you but those days are over you were calling my name when your face faded from view wasnt it you that told me the sun would always chase the day wasnt it you that told me angels fly in the air tonight saying wasnt it just like swimming out on the lake stars collide in the air so light or was it just like those promises that you made on our last night oh i remember waking up with you the days doing nothing you meant more to me then than you ever knew you were going to be a doctor a movie star poet at a nobel seminar hope the the world never tore that out of you tell me whatever happened to the things you loved and the songs we played and the indian days whatever happened to the things you gave away like harold and martin singing i was waving as you drove away the sunlight was falling you were riding backwards in a dusty window pane angels fly in the air tonight was it just like the promises that we made and stars collide in the air so light was it just like that song was the most you could say to me tell me anything that ever happened to me love but stars collide in the air so light was it you<|endoftext|>'],\n",
       " ['theres a little girl in this little town with a little too much heart to go around live forever never say never you could do better thats what she says mama named her lucky on a starlit night a rabbit foot in her pocket she dances in spite of the fact that shes different and yet shes the same and she says do do do do do do do do do do do do do do do do do do do do do do do do do do do do do lucky you lucky you she sings her little song she walks along a little pathway headed for the skies left to travels lives they unravel mind over matter thats what she says mama named her lucky on a starlit night a rabbit foot in her pocket she dances in spite of the fact that shes different and yet shes the same and she says do do do do do do do do do do do do do do do do do do do do do do do do do do do do do lucky you lucky you maybe shell sing you do do do do maybe shell bring you into the skies honey shell love you funny how some view angels above you arent so far away mama named her lucky on a starlit night a rabbit foot in her pocket she dances in spite of the fact that shes different and yet shes the same and she says do do do do do do do do do do do do<|endoftext|>'],\n",
       " ['so the clip that youre about to hear is my preparation for a writing session um i was writing with two writers i hadnt ever worked with before so i wanted to come in with an idea that was pretty much all there melody and lyrics um and so i had this idea called i forgot that you existed and i wanted it to be really simple i thought it might be a really fun way to open the album like basically kind of shrugging off a lot of things that youve been through that have been causing a lot of struggle and pain and just one day you wake up and you realize youre indifferent to whatever caused you that pain and so this is a clip of me just trying to tinker around on the piano trying to figure out what i wanted to do with it and you can hear the end result on the album but this is where it started i forgot that you existed thought id miss you but i didnt and it was so nice i forgot that you existed i forgot that you existed thought id miss you but i didnt and it was so nice i forgot that you existed id miss you but i didnt and it was so nice so peaceful and how many nights i how you did me how many days did i wait thinking bout how you did me wrong wrong wrong i forgot that you existed i thought id miss you but i didnt and it was so nice i forgot that you existed i forgot that you existed i forgot that you existed thought id miss you<|endoftext|>'],\n",
       " ['what did you think id say to that does a scorpion sting when fighting back they strike to kill and you know i will you know i will what do you sing on your drive home do you see my face in the neighbors lawn does she smile or does she mouth fuck you forever every time you call me crazy i get more crazy what about that and when you say i seem angry i get more angry and theres nothing like a mad woman what a shame she went mad no one likes a mad woman you made her like that and youll poke that bear til her claws come out and you find something to wrap your noose around and theres nothing like a mad woman now i breathe flames each time i talk my cannons all firin at your yacht they say move on but you know i wont and women like hunting witches too doing your dirtiest work for you its obvious that wanting me dead has really brought you two together every time you call me crazy i get more crazy what about that and when you say i seem angry i get more angry and theres nothing like a mad woman what a shame she went mad no one likes a mad woman you made her like that and youll poke that bear til her claws come out and you find something to wrap your noose around and theres nothing like a mad woman im taking my time taking my time cause you took everything from me watching you climb watching you climb over people like me the master of spin has a couple side flings good wives always know she should be mad should be scathing yes maybe she could be mad but I know my mind is everything a liar I always thought you were the one who was that crazy you never understood why<|endoftext|>'],\n",
       " [\"a b c see my face everywhere i put my glass bottle down and stab you every single day just like bad romance poker face everyday but not for me not ash or your face he says he needs its or hell die touching on my inner thigh i thought he was weird when i met him but now hes riding on his bike watching other girls strike he cant even look at his skin without him looking at girls i just say what the heck is wrong with you yeah he knows what he did i just say f u to everybody when they naughty at the party they tardy talking bout еveryone who wants to walk all around them i said it loud and clеar talking bout my ex your weird and nasty all around your body right there everywhere i touch everyday everywhere i say it you lay down i get on top lay that stuff down hoe i just wanna see it please it walking out my way its your day wait a minute right next to me i said it i just say f u to everybody when they naughty at the party they tardy talking bout everyone who wants to walk all around them yeah i hit you on the head i won't even bother telling you why dont you let me see how sad you were thinking so bad after all those years<|endoftext|>\"],\n",
       " ['what do you say when you just know that hes the one and you want to go fast but hes taking it slow and what do you do when hes next to you but hes a little bit shy well heres something you can try hey hey what do you say we go walking down the river all together its a warm may beautiful day and i feel like i could talk to you forever with the sun shining bright it feels just like a day when everythings going to go just right i know it will be a sweet memory for you and me someday what do you say what do you see when you look in his eyes theres something there that he cant disguise no matter how he tries and what do you feel when you know its real and you cant sit still if you dont own up will yeah hey hey what do you say we go walking down the river all together its a warm may beautiful day and i feel like i could talk to you forever with the sun shining bright it feels just like a day when everythings going to go just right i know it will be a sweet memory for you and me someday what do you say my imaginations running away just dreaming about what i want you to say hey hey what do you say we go walking down the river all together its a warm may beautiful day and i feel like i could talk to you forever with the sun shining bright it feels just like a day when everythings going to go just right i know it will be a sweet memory for you and me someday what do you say my imaginations running away just dreaming about what i want you to say hey hey what do you say my best<|endoftext|>'],\n",
       " ['how many days did i spend thinkin bout how you did me wrong wrong wrong lived in the shade you were throwin til all of my sunshine was gone gone gone and i couldnt get away from you in my feelings more than drake so yeah your name on my lips tongue tied free rent livin in my mind but then something happened one magical night i forgot that you existed and i thought that it would kill me but it didnt and it was so nice so peaceful and quiet i forgot that you existed it isnt love it isnt hate its just indifference i forgot that you got out some popcorn as soon as my rep starting going down down down laughed on the schoolyard as soon as i tripped up and hit the ground ground ground and i wouldve stuck around for ya wouldve fought the whole town so yeah wouldve been right there front row even if nobody came to your show but you showed who you are then one magical night i forgot that you existed and i thought that it would kill me but it didnt and it was so nice so peaceful and quiet i forgot that you existed it isnt love it isnt hate its just indifference i forgot that you sent me a clear message taught me some hard lessons i just forget what they were its all just a blur i forgot that you existed and i thought that it would kill me but it didnt and it was so nice so peaceful and quiet i forgot that you existed i was here through all of my difficulties and every victory and dream i ever had and some miracle that you had brought to me but oh well its over and<|endoftext|>'],\n",
       " ['its jingleball there s santa hats everywhere youre never too far away from one and you know i was wondering if maybe you wanted me to sing a song that i wrote my winter nights are taken up by static stress and holiday shopping traffic but i close my eyes and im somewhere else just like magic in my heart is a christmas tree farm where the people would come to dance under sparkling lights bundled up in their mittens and coats and the cider would flow and i just wanna be there tonight sweet dreams of holly and ribbon mistakes are forgiven and everythin is icy and blue and you would be there too under the mistletoe watchin the fire glow and tellin me i love you just bein in your arms takes me back to that little farm where every wish comes true in my heart is a christmas tree farm theres a light in the barn we run inside out from the cold in the town kids are dreamin of sleighs and theyre warm and theyre safe they wake to see a blanket of snow sweet dreams of holly and ribbon mistakes are forgiven and everythin is icy and blue and you would be there too under the mistletoe watchin the fire glow and tellin me i love you just bein in your arms takes me back to that little farm where every wish comes true baby yeah and when im feelin alone you remind me of home oh baby baby merry christmas and when the world isnt fair i pretend that we re there baby baby merry christmas under the mistletoe watching the fire glow and tellin me i love you oh baby baby merry christmas oh baby baby merry christmas oh baby baby merry christmas i love you oh baby baby merry christmas i love you oh baby merry christmas i love you oh baby merry christmas i love you baby merry christmas\\n\\n123 -<|endoftext|>'],\n",
       " ['never be so kind you forget to be clever never be so clever you forget to be kind and if i didnt know better id think you were talking to me now if i didnt know better id think you were still around what died didnt stay dead what died didnt stay dead youre alive youre alive in my head what died didnt stay dead what died didnt stay dead youre alive so alive never be so politе you forget your power nevеr wield such power you forget to be polite and if i didnt know better id think you were listening to me now if i didnt know better id think you were still around what died didnt stay dead what died didnt stay dead youre alive youre alive in my head what died didnt stay dead what died didnt stay dead youre alive so alive the autumn chill that wakes me up you loved the amber skies so much long limbs and frozen swims youd always go past where our feet could touch and i complained the whole way there the car ride back and up the stairs i shouldve asked you questions i shouldve asked you how to be asked you to write it down for me shouldve kept every grocery store receipt cause every scrap of you would be taken from me watched as you signed your name marjorie all your closets of backlogged dreams and how you left them all to me what died didnt stay dead what died didnt stay dead youre alive youre alive in my head what died didnt stay dead what died didnt stay dead youre alive so alive and if i didnt know better id think you were singing to me now if i didnt know better id think you were still around what died didnt stay dead what died didnt stay dead youre alive youre alive in my head what died didnt stay dead what died didnt<|endoftext|>'],\n",
       " ['here we go again i kinda wanna be more than friends so take it easy on me im afraid youre never satisfied here we go again were sick like animals we play pretend so take it easy and im afraid i wont get out alive no i wont sleep tonight oh oh i want some more oh oh what are you waiting for take a bite of my heart tonight oh oh i want some more oh oh what are you waiting for say goodbye to my heart tonight neon trees here we are again i feel the chemicals kickin in its getting heavy and i wanna run and hide i wanna run and hide i do it every time youre killin me now and i wont be denied by you the animal inside of you oh oh i want some more oh oh what are you waiting for take a bite of my heart tonight oh oh i want some more oh oh what are you waiting for say goodbye to my heart tonight hush hush the world is quiet hush hush we both cant fight it its us that made this mess why cant you understand well i wont sleep tonight oh oh oh oh oh oh oh oh i want some more oh oh what are you waiting for take a bite of my heart tonight oh oh i want some more oh oh what are you waiting for take a bite of my heart tonight oh oh oh oh oh oh oh oh oh oh oh oh oh oh oh oh oh oh<|endoftext|>'],\n",
       " ['let go of the ones who hurt you let go of the ones you outgrow let go of the words they hurl your way as you re walking out the door the only thing cut and dry in this hedge maze life is the fact that their words will cut but your tears will dry they don t tell you this when you are young you can t hold on to everything can t show up for everyone you pick your poison or your cure phone numbers you know by heart and the ones you don t answer any more hold on to the faint recognition in the eye of a stranger as it catches you in its lustrous net how quickly we become intertwined how wonderful it is to forget all the times your intuition failed you but it hasn t killed you yet hold on to childlike whims and moonlight swims and your blazing self respect and if you drive the roads of this town ones you ve gone down so many times before flashback to all the times life nearly ran you off the road but what could you miss when the wall of ice took you down t bare in the shadow of a lost state and you walked on again yours makes its<|endoftext|>'],\n",
       " ['the buttons of my coat were tangled in my hair in doctors office lighting i didnt tell you i was scared that was the first time we were there holy orange bottles each night i pray to you desperate people find faith so now i pray to jesus too and i say to you ooh ah soon youll get better ooh ah soon youll get better ooh ah youll get better soon cause you have to i know delusion when i see it in the mirror you like the nicer nurses you make the best of a bad deal i just pretend it isnt real ill paint the kitchen neon ill brighten up the sky i know ill never get it theres not a day that i wont try and i say to you ooh ah soon youll get better ooh ah soon youll get better ooh ah youll get better soon cause you have to and i hate to make this all about me but who am i supposed to talk to what am i supposed to do if theres no you this wont go back to normal if it ever was its been years of hoping and i keep saying it because cause i dont think im going to make it through but now i know you dont care about me you want me to love you and say a few bad things but<|endoftext|>']]"
      ]
     },
     "execution_count": 96,
     "metadata": {},
     "output_type": "execute_result"
    }
   ],
   "source": [
    "generated_lyrics = text_generation(test_set)\n",
    "generated_lyrics"
   ]
  },
  {
   "cell_type": "code",
   "execution_count": 97,
   "metadata": {
    "id": "E5WZyN4YZy1F"
   },
   "outputs": [],
   "source": [
    "my_generations=[]\n",
    "\n",
    "for i in range(len(generated_lyrics)):\n",
    "  a = test_set['Lyrics'][i].split()[-30:] #Get the matching string we want (30 words)\n",
    "  b = ' '.join(a)\n",
    "  c = ' '.join(generated_lyrics[i]) #Get all that comes after the matching string\n",
    "  my_generations.append(c.split(b)[-1])"
   ]
  },
  {
   "cell_type": "code",
   "execution_count": 98,
   "metadata": {
    "colab": {
     "base_uri": "https://localhost:8080/",
     "height": 206
    },
    "id": "v8kms9ANf93n",
    "outputId": "fcdfd931-c9e1-4e8a-dd85-e52cf876f236"
   },
   "outputs": [
    {
     "data": {
      "text/html": [
       "\n",
       "  <div id=\"df-2d5c7f8c-921e-4856-821a-82f97357e5bf\">\n",
       "    <div class=\"colab-df-container\">\n",
       "      <div>\n",
       "<style scoped>\n",
       "    .dataframe tbody tr th:only-of-type {\n",
       "        vertical-align: middle;\n",
       "    }\n",
       "\n",
       "    .dataframe tbody tr th {\n",
       "        vertical-align: top;\n",
       "    }\n",
       "\n",
       "    .dataframe thead th {\n",
       "        text-align: right;\n",
       "    }\n",
       "</style>\n",
       "<table border=\"1\" class=\"dataframe\">\n",
       "  <thead>\n",
       "    <tr style=\"text-align: right;\">\n",
       "      <th></th>\n",
       "      <th>index</th>\n",
       "      <th>All_Songs</th>\n",
       "      <th>True_end_lyrics</th>\n",
       "      <th>Lyrics</th>\n",
       "      <th>Generated_lyrics</th>\n",
       "    </tr>\n",
       "  </thead>\n",
       "  <tbody>\n",
       "    <tr>\n",
       "      <th>0</th>\n",
       "      <td>292</td>\n",
       "      <td>ready for it i did something bad gorgeous sty...</td>\n",
       "      <td>long live new years daygetaway carwe are never...</td>\n",
       "      <td>ready for it i did something bad gorgeous styl...</td>\n",
       "      <td>fine i'll never tell that liea lace bodysuitf...</td>\n",
       "    </tr>\n",
       "    <tr>\n",
       "      <th>1</th>\n",
       "      <td>406</td>\n",
       "      <td>there is some unbelievable music that has come...</td>\n",
       "      <td>what it takes to make a pro blush all the boys...</td>\n",
       "      <td>there is some unbelievable music that has come...</td>\n",
       "      <td>what it takes to make a pro blush her blue ey...</td>\n",
       "    </tr>\n",
       "    <tr>\n",
       "      <th>2</th>\n",
       "      <td>568</td>\n",
       "      <td>1 ready for it 2 gorgeous 3 look what you made...</td>\n",
       "      <td>for it 2 gorgeous 3 look what you made me do 4...</td>\n",
       "      <td>1 ready</td>\n",
       "      <td>for use. In the Arduino IDE, you can clone it...</td>\n",
       "    </tr>\n",
       "    <tr>\n",
       "      <th>3</th>\n",
       "      <td>689</td>\n",
       "      <td>what a shame didnt wanna be the one that got a...</td>\n",
       "      <td>this is the last time you said no one else thi...</td>\n",
       "      <td>what a shame didnt wanna be the one that got a...</td>\n",
       "      <td>ever ill ever call you babe what a waste taki...</td>\n",
       "    </tr>\n",
       "    <tr>\n",
       "      <th>4</th>\n",
       "      <td>193</td>\n",
       "      <td>loving him is like driving a new maserati down...</td>\n",
       "      <td>was red red red red red red loving him is like...</td>\n",
       "      <td>loving him is like driving a new maserati down...</td>\n",
       "      <td>was red red red red red red xxx listening to ...</td>\n",
       "    </tr>\n",
       "  </tbody>\n",
       "</table>\n",
       "</div>\n",
       "      <button class=\"colab-df-convert\" onclick=\"convertToInteractive('df-2d5c7f8c-921e-4856-821a-82f97357e5bf')\"\n",
       "              title=\"Convert this dataframe to an interactive table.\"\n",
       "              style=\"display:none;\">\n",
       "        \n",
       "  <svg xmlns=\"http://www.w3.org/2000/svg\" height=\"24px\"viewBox=\"0 0 24 24\"\n",
       "       width=\"24px\">\n",
       "    <path d=\"M0 0h24v24H0V0z\" fill=\"none\"/>\n",
       "    <path d=\"M18.56 5.44l.94 2.06.94-2.06 2.06-.94-2.06-.94-.94-2.06-.94 2.06-2.06.94zm-11 1L8.5 8.5l.94-2.06 2.06-.94-2.06-.94L8.5 2.5l-.94 2.06-2.06.94zm10 10l.94 2.06.94-2.06 2.06-.94-2.06-.94-.94-2.06-.94 2.06-2.06.94z\"/><path d=\"M17.41 7.96l-1.37-1.37c-.4-.4-.92-.59-1.43-.59-.52 0-1.04.2-1.43.59L10.3 9.45l-7.72 7.72c-.78.78-.78 2.05 0 2.83L4 21.41c.39.39.9.59 1.41.59.51 0 1.02-.2 1.41-.59l7.78-7.78 2.81-2.81c.8-.78.8-2.07 0-2.86zM5.41 20L4 18.59l7.72-7.72 1.47 1.35L5.41 20z\"/>\n",
       "  </svg>\n",
       "      </button>\n",
       "      \n",
       "  <style>\n",
       "    .colab-df-container {\n",
       "      display:flex;\n",
       "      flex-wrap:wrap;\n",
       "      gap: 12px;\n",
       "    }\n",
       "\n",
       "    .colab-df-convert {\n",
       "      background-color: #E8F0FE;\n",
       "      border: none;\n",
       "      border-radius: 50%;\n",
       "      cursor: pointer;\n",
       "      display: none;\n",
       "      fill: #1967D2;\n",
       "      height: 32px;\n",
       "      padding: 0 0 0 0;\n",
       "      width: 32px;\n",
       "    }\n",
       "\n",
       "    .colab-df-convert:hover {\n",
       "      background-color: #E2EBFA;\n",
       "      box-shadow: 0px 1px 2px rgba(60, 64, 67, 0.3), 0px 1px 3px 1px rgba(60, 64, 67, 0.15);\n",
       "      fill: #174EA6;\n",
       "    }\n",
       "\n",
       "    [theme=dark] .colab-df-convert {\n",
       "      background-color: #3B4455;\n",
       "      fill: #D2E3FC;\n",
       "    }\n",
       "\n",
       "    [theme=dark] .colab-df-convert:hover {\n",
       "      background-color: #434B5C;\n",
       "      box-shadow: 0px 1px 3px 1px rgba(0, 0, 0, 0.15);\n",
       "      filter: drop-shadow(0px 1px 2px rgba(0, 0, 0, 0.3));\n",
       "      fill: #FFFFFF;\n",
       "    }\n",
       "  </style>\n",
       "\n",
       "      <script>\n",
       "        const buttonEl =\n",
       "          document.querySelector('#df-2d5c7f8c-921e-4856-821a-82f97357e5bf button.colab-df-convert');\n",
       "        buttonEl.style.display =\n",
       "          google.colab.kernel.accessAllowed ? 'block' : 'none';\n",
       "\n",
       "        async function convertToInteractive(key) {\n",
       "          const element = document.querySelector('#df-2d5c7f8c-921e-4856-821a-82f97357e5bf');\n",
       "          const dataTable =\n",
       "            await google.colab.kernel.invokeFunction('convertToInteractive',\n",
       "                                                     [key], {});\n",
       "          if (!dataTable) return;\n",
       "\n",
       "          const docLinkHtml = 'Like what you see? Visit the ' +\n",
       "            '<a target=\"_blank\" href=https://colab.research.google.com/notebooks/data_table.ipynb>data table notebook</a>'\n",
       "            + ' to learn more about interactive tables.';\n",
       "          element.innerHTML = '';\n",
       "          dataTable['output_type'] = 'display_data';\n",
       "          await google.colab.output.renderOutput(dataTable, element);\n",
       "          const docLink = document.createElement('div');\n",
       "          docLink.innerHTML = docLinkHtml;\n",
       "          element.appendChild(docLink);\n",
       "        }\n",
       "      </script>\n",
       "    </div>\n",
       "  </div>\n",
       "  "
      ],
      "text/plain": [
       "   index                                          All_Songs  \\\n",
       "0    292   ready for it i did something bad gorgeous sty...   \n",
       "1    406  there is some unbelievable music that has come...   \n",
       "2    568  1 ready for it 2 gorgeous 3 look what you made...   \n",
       "3    689  what a shame didnt wanna be the one that got a...   \n",
       "4    193  loving him is like driving a new maserati down...   \n",
       "\n",
       "                                     True_end_lyrics  \\\n",
       "0  long live new years daygetaway carwe are never...   \n",
       "1  what it takes to make a pro blush all the boys...   \n",
       "2  for it 2 gorgeous 3 look what you made me do 4...   \n",
       "3  this is the last time you said no one else thi...   \n",
       "4  was red red red red red red loving him is like...   \n",
       "\n",
       "                                              Lyrics  \\\n",
       "0  ready for it i did something bad gorgeous styl...   \n",
       "1  there is some unbelievable music that has come...   \n",
       "2                                            1 ready   \n",
       "3  what a shame didnt wanna be the one that got a...   \n",
       "4  loving him is like driving a new maserati down...   \n",
       "\n",
       "                                    Generated_lyrics  \n",
       "0   fine i'll never tell that liea lace bodysuitf...  \n",
       "1   what it takes to make a pro blush her blue ey...  \n",
       "2   for use. In the Arduino IDE, you can clone it...  \n",
       "3   ever ill ever call you babe what a waste taki...  \n",
       "4   was red red red red red red xxx listening to ...  "
      ]
     },
     "execution_count": 98,
     "metadata": {},
     "output_type": "execute_result"
    }
   ],
   "source": [
    "test_set['Generated_lyrics'] = my_generations\n",
    "test_set.head()"
   ]
  },
  {
   "cell_type": "code",
   "execution_count": 100,
   "metadata": {
    "colab": {
     "base_uri": "https://localhost:8080/",
     "height": 337
    },
    "id": "HCDWcAVHrrPM",
    "outputId": "07964530-ef12-4482-9af1-d31f9af8865f"
   },
   "outputs": [
    {
     "data": {
      "text/html": [
       "\n",
       "  <div id=\"df-7d5eeec3-19e3-4432-919b-fe4d66399c77\">\n",
       "    <div class=\"colab-df-container\">\n",
       "      <div>\n",
       "<style scoped>\n",
       "    .dataframe tbody tr th:only-of-type {\n",
       "        vertical-align: middle;\n",
       "    }\n",
       "\n",
       "    .dataframe tbody tr th {\n",
       "        vertical-align: top;\n",
       "    }\n",
       "\n",
       "    .dataframe thead th {\n",
       "        text-align: right;\n",
       "    }\n",
       "</style>\n",
       "<table border=\"1\" class=\"dataframe\">\n",
       "  <thead>\n",
       "    <tr style=\"text-align: right;\">\n",
       "      <th></th>\n",
       "      <th>Unnamed: 0</th>\n",
       "      <th>index</th>\n",
       "      <th>All_Songs</th>\n",
       "      <th>True_end_lyrics</th>\n",
       "      <th>Lyrics</th>\n",
       "      <th>Generated_lyrics</th>\n",
       "    </tr>\n",
       "  </thead>\n",
       "  <tbody>\n",
       "    <tr>\n",
       "      <th>0</th>\n",
       "      <td>0</td>\n",
       "      <td>292</td>\n",
       "      <td>ready for it i did something bad gorgeous sty...</td>\n",
       "      <td>long live new years daygetaway carwe are never...</td>\n",
       "      <td>ready for it i did something bad gorgeous styl...</td>\n",
       "      <td>fine i'll never tell that liea lace bodysuitf...</td>\n",
       "    </tr>\n",
       "    <tr>\n",
       "      <th>1</th>\n",
       "      <td>1</td>\n",
       "      <td>406</td>\n",
       "      <td>there is some unbelievable music that has come...</td>\n",
       "      <td>what it takes to make a pro blush all the boys...</td>\n",
       "      <td>there is some unbelievable music that has come...</td>\n",
       "      <td>what it takes to make a pro blush her blue ey...</td>\n",
       "    </tr>\n",
       "    <tr>\n",
       "      <th>2</th>\n",
       "      <td>2</td>\n",
       "      <td>568</td>\n",
       "      <td>1 ready for it 2 gorgeous 3 look what you made...</td>\n",
       "      <td>for it 2 gorgeous 3 look what you made me do 4...</td>\n",
       "      <td>1 ready</td>\n",
       "      <td>for use. In the Arduino IDE, you can clone it...</td>\n",
       "    </tr>\n",
       "    <tr>\n",
       "      <th>3</th>\n",
       "      <td>3</td>\n",
       "      <td>689</td>\n",
       "      <td>what a shame didnt wanna be the one that got a...</td>\n",
       "      <td>this is the last time you said no one else thi...</td>\n",
       "      <td>what a shame didnt wanna be the one that got a...</td>\n",
       "      <td>ever ill ever call you babe what a waste taki...</td>\n",
       "    </tr>\n",
       "    <tr>\n",
       "      <th>4</th>\n",
       "      <td>4</td>\n",
       "      <td>193</td>\n",
       "      <td>loving him is like driving a new maserati down...</td>\n",
       "      <td>was red red red red red red loving him is like...</td>\n",
       "      <td>loving him is like driving a new maserati down...</td>\n",
       "      <td>was red red red red red red xxx listening to ...</td>\n",
       "    </tr>\n",
       "  </tbody>\n",
       "</table>\n",
       "</div>\n",
       "      <button class=\"colab-df-convert\" onclick=\"convertToInteractive('df-7d5eeec3-19e3-4432-919b-fe4d66399c77')\"\n",
       "              title=\"Convert this dataframe to an interactive table.\"\n",
       "              style=\"display:none;\">\n",
       "        \n",
       "  <svg xmlns=\"http://www.w3.org/2000/svg\" height=\"24px\"viewBox=\"0 0 24 24\"\n",
       "       width=\"24px\">\n",
       "    <path d=\"M0 0h24v24H0V0z\" fill=\"none\"/>\n",
       "    <path d=\"M18.56 5.44l.94 2.06.94-2.06 2.06-.94-2.06-.94-.94-2.06-.94 2.06-2.06.94zm-11 1L8.5 8.5l.94-2.06 2.06-.94-2.06-.94L8.5 2.5l-.94 2.06-2.06.94zm10 10l.94 2.06.94-2.06 2.06-.94-2.06-.94-.94-2.06-.94 2.06-2.06.94z\"/><path d=\"M17.41 7.96l-1.37-1.37c-.4-.4-.92-.59-1.43-.59-.52 0-1.04.2-1.43.59L10.3 9.45l-7.72 7.72c-.78.78-.78 2.05 0 2.83L4 21.41c.39.39.9.59 1.41.59.51 0 1.02-.2 1.41-.59l7.78-7.78 2.81-2.81c.8-.78.8-2.07 0-2.86zM5.41 20L4 18.59l7.72-7.72 1.47 1.35L5.41 20z\"/>\n",
       "  </svg>\n",
       "      </button>\n",
       "      \n",
       "  <style>\n",
       "    .colab-df-container {\n",
       "      display:flex;\n",
       "      flex-wrap:wrap;\n",
       "      gap: 12px;\n",
       "    }\n",
       "\n",
       "    .colab-df-convert {\n",
       "      background-color: #E8F0FE;\n",
       "      border: none;\n",
       "      border-radius: 50%;\n",
       "      cursor: pointer;\n",
       "      display: none;\n",
       "      fill: #1967D2;\n",
       "      height: 32px;\n",
       "      padding: 0 0 0 0;\n",
       "      width: 32px;\n",
       "    }\n",
       "\n",
       "    .colab-df-convert:hover {\n",
       "      background-color: #E2EBFA;\n",
       "      box-shadow: 0px 1px 2px rgba(60, 64, 67, 0.3), 0px 1px 3px 1px rgba(60, 64, 67, 0.15);\n",
       "      fill: #174EA6;\n",
       "    }\n",
       "\n",
       "    [theme=dark] .colab-df-convert {\n",
       "      background-color: #3B4455;\n",
       "      fill: #D2E3FC;\n",
       "    }\n",
       "\n",
       "    [theme=dark] .colab-df-convert:hover {\n",
       "      background-color: #434B5C;\n",
       "      box-shadow: 0px 1px 3px 1px rgba(0, 0, 0, 0.15);\n",
       "      filter: drop-shadow(0px 1px 2px rgba(0, 0, 0, 0.3));\n",
       "      fill: #FFFFFF;\n",
       "    }\n",
       "  </style>\n",
       "\n",
       "      <script>\n",
       "        const buttonEl =\n",
       "          document.querySelector('#df-7d5eeec3-19e3-4432-919b-fe4d66399c77 button.colab-df-convert');\n",
       "        buttonEl.style.display =\n",
       "          google.colab.kernel.accessAllowed ? 'block' : 'none';\n",
       "\n",
       "        async function convertToInteractive(key) {\n",
       "          const element = document.querySelector('#df-7d5eeec3-19e3-4432-919b-fe4d66399c77');\n",
       "          const dataTable =\n",
       "            await google.colab.kernel.invokeFunction('convertToInteractive',\n",
       "                                                     [key], {});\n",
       "          if (!dataTable) return;\n",
       "\n",
       "          const docLinkHtml = 'Like what you see? Visit the ' +\n",
       "            '<a target=\"_blank\" href=https://colab.research.google.com/notebooks/data_table.ipynb>data table notebook</a>'\n",
       "            + ' to learn more about interactive tables.';\n",
       "          element.innerHTML = '';\n",
       "          dataTable['output_type'] = 'display_data';\n",
       "          await google.colab.output.renderOutput(dataTable, element);\n",
       "          const docLink = document.createElement('div');\n",
       "          docLink.innerHTML = docLinkHtml;\n",
       "          element.appendChild(docLink);\n",
       "        }\n",
       "      </script>\n",
       "    </div>\n",
       "  </div>\n",
       "  "
      ],
      "text/plain": [
       "   Unnamed: 0  index                                          All_Songs  \\\n",
       "0           0    292   ready for it i did something bad gorgeous sty...   \n",
       "1           1    406  there is some unbelievable music that has come...   \n",
       "2           2    568  1 ready for it 2 gorgeous 3 look what you made...   \n",
       "3           3    689  what a shame didnt wanna be the one that got a...   \n",
       "4           4    193  loving him is like driving a new maserati down...   \n",
       "\n",
       "                                     True_end_lyrics  \\\n",
       "0  long live new years daygetaway carwe are never...   \n",
       "1  what it takes to make a pro blush all the boys...   \n",
       "2  for it 2 gorgeous 3 look what you made me do 4...   \n",
       "3  this is the last time you said no one else thi...   \n",
       "4  was red red red red red red loving him is like...   \n",
       "\n",
       "                                              Lyrics  \\\n",
       "0  ready for it i did something bad gorgeous styl...   \n",
       "1  there is some unbelievable music that has come...   \n",
       "2                                            1 ready   \n",
       "3  what a shame didnt wanna be the one that got a...   \n",
       "4  loving him is like driving a new maserati down...   \n",
       "\n",
       "                                    Generated_lyrics  \n",
       "0   fine i'll never tell that liea lace bodysuitf...  \n",
       "1   what it takes to make a pro blush her blue ey...  \n",
       "2   for use. In the Arduino IDE, you can clone it...  \n",
       "3   ever ill ever call you babe what a waste taki...  \n",
       "4   was red red red red red red xxx listening to ...  "
      ]
     },
     "execution_count": 100,
     "metadata": {},
     "output_type": "execute_result"
    }
   ],
   "source": [
    "test_set.to_csv(\"Final_Generated_1.csv\")\n",
    "df = pd.read_csv('Final_Generated_1.csv')\n",
    "df.head()"
   ]
  },
  {
   "cell_type": "code",
   "execution_count": 101,
   "metadata": {
    "id": "TBG0l5Vcrv6e"
   },
   "outputs": [],
   "source": [
    "import torch\n",
    "import torchtext\n",
    "from torchtext.data.metrics import bleu_score\n",
    "import pandas as pd\n",
    "\n",
    "# Load the data from the two columns of the dataframe\n",
    "df = pd.read_csv('Final_Generated_1.csv')\n",
    "preds = df['Generated_lyrics'].tolist()\n",
    "refs = df['True_end_lyrics'].tolist()"
   ]
  },
  {
   "cell_type": "code",
   "execution_count": 102,
   "metadata": {
    "colab": {
     "base_uri": "https://localhost:8080/",
     "height": 36
    },
    "id": "DQRUH5O4soA6",
    "outputId": "657f2175-ae2c-4c7b-f19a-7c7de11c7ed5"
   },
   "outputs": [
    {
     "data": {
      "application/vnd.google.colaboratory.intrinsic+json": {
       "type": "string"
      },
      "text/plain": [
       "\" fine i'll never tell that liea lace bodysuitfrozen moment loved it live and learnoh good i got a chance to buy you these<|endoftext|>\""
      ]
     },
     "execution_count": 102,
     "metadata": {},
     "output_type": "execute_result"
    }
   ],
   "source": [
    "preds[0]"
   ]
  },
  {
   "cell_type": "code",
   "execution_count": 103,
   "metadata": {
    "colab": {
     "base_uri": "https://localhost:8080/",
     "height": 36
    },
    "id": "A7oGO5HqtdlB",
    "outputId": "9df9d94b-5eed-4530-8a08-03c5628f6898"
   },
   "outputs": [
    {
     "data": {
      "application/vnd.google.colaboratory.intrinsic+json": {
       "type": "string"
      },
      "text/plain": [
       "'long live new years daygetaway carwe are never ever getting back together this is why we cant have nice things'"
      ]
     },
     "execution_count": 103,
     "metadata": {},
     "output_type": "execute_result"
    }
   ],
   "source": [
    "refs[0]"
   ]
  },
  {
   "cell_type": "markdown",
   "metadata": {
    "id": "8RsuzRYiC1LR"
   },
   "source": [
    "# Evaluation Metrics:"
   ]
  },
  {
   "cell_type": "code",
   "execution_count": 104,
   "metadata": {
    "colab": {
     "base_uri": "https://localhost:8080/"
    },
    "id": "t4-f_Xfdu96Y",
    "outputId": "b81c86af-e7e4-4633-af72-d77a1e133141"
   },
   "outputs": [
    {
     "name": "stdout",
     "output_type": "stream",
     "text": [
      "Looking in indexes: https://pypi.org/simple, https://us-python.pkg.dev/colab-wheels/public/simple/\n",
      "Requirement already satisfied: torchmetrics in /usr/local/lib/python3.9/dist-packages (0.11.4)\n",
      "Requirement already satisfied: packaging in /usr/local/lib/python3.9/dist-packages (from torchmetrics) (23.0)\n",
      "Requirement already satisfied: torch>=1.8.1 in /usr/local/lib/python3.9/dist-packages (from torchmetrics) (2.0.0+cu118)\n",
      "Requirement already satisfied: numpy>=1.17.2 in /usr/local/lib/python3.9/dist-packages (from torchmetrics) (1.22.4)\n",
      "Requirement already satisfied: jinja2 in /usr/local/lib/python3.9/dist-packages (from torch>=1.8.1->torchmetrics) (3.1.2)\n",
      "Requirement already satisfied: triton==2.0.0 in /usr/local/lib/python3.9/dist-packages (from torch>=1.8.1->torchmetrics) (2.0.0)\n",
      "Requirement already satisfied: filelock in /usr/local/lib/python3.9/dist-packages (from torch>=1.8.1->torchmetrics) (3.11.0)\n",
      "Requirement already satisfied: typing-extensions in /usr/local/lib/python3.9/dist-packages (from torch>=1.8.1->torchmetrics) (4.5.0)\n",
      "Requirement already satisfied: sympy in /usr/local/lib/python3.9/dist-packages (from torch>=1.8.1->torchmetrics) (1.11.1)\n",
      "Requirement already satisfied: networkx in /usr/local/lib/python3.9/dist-packages (from torch>=1.8.1->torchmetrics) (3.1)\n",
      "Requirement already satisfied: cmake in /usr/local/lib/python3.9/dist-packages (from triton==2.0.0->torch>=1.8.1->torchmetrics) (3.25.2)\n",
      "Requirement already satisfied: lit in /usr/local/lib/python3.9/dist-packages (from triton==2.0.0->torch>=1.8.1->torchmetrics) (16.0.1)\n",
      "Requirement already satisfied: MarkupSafe>=2.0 in /usr/local/lib/python3.9/dist-packages (from jinja2->torch>=1.8.1->torchmetrics) (2.1.2)\n",
      "Requirement already satisfied: mpmath>=0.19 in /usr/local/lib/python3.9/dist-packages (from sympy->torch>=1.8.1->torchmetrics) (1.3.0)\n"
     ]
    }
   ],
   "source": [
    "!pip install torchmetrics\n"
   ]
  },
  {
   "cell_type": "code",
   "execution_count": 105,
   "metadata": {
    "colab": {
     "base_uri": "https://localhost:8080/",
     "height": 406
    },
    "id": "w5XFDAeFtApn",
    "outputId": "e57e77d6-5386-4002-ece2-812d8e820fa9"
   },
   "outputs": [
    {
     "data": {
      "text/html": [
       "\n",
       "  <div id=\"df-a668d2bc-1846-4c9c-b1b1-b661d6198e0a\">\n",
       "    <div class=\"colab-df-container\">\n",
       "      <div>\n",
       "<style scoped>\n",
       "    .dataframe tbody tr th:only-of-type {\n",
       "        vertical-align: middle;\n",
       "    }\n",
       "\n",
       "    .dataframe tbody tr th {\n",
       "        vertical-align: top;\n",
       "    }\n",
       "\n",
       "    .dataframe thead th {\n",
       "        text-align: right;\n",
       "    }\n",
       "</style>\n",
       "<table border=\"1\" class=\"dataframe\">\n",
       "  <thead>\n",
       "    <tr style=\"text-align: right;\">\n",
       "      <th></th>\n",
       "      <th>Unnamed: 0</th>\n",
       "      <th>index</th>\n",
       "      <th>All_Songs</th>\n",
       "      <th>True_end_lyrics</th>\n",
       "      <th>Lyrics</th>\n",
       "      <th>Generated_lyrics</th>\n",
       "      <th>rouge_score_fmeasure</th>\n",
       "      <th>rouge_score_precision</th>\n",
       "      <th>rouge_score_recall</th>\n",
       "    </tr>\n",
       "  </thead>\n",
       "  <tbody>\n",
       "    <tr>\n",
       "      <th>0</th>\n",
       "      <td>0</td>\n",
       "      <td>292</td>\n",
       "      <td>ready for it i did something bad gorgeous sty...</td>\n",
       "      <td>long live new years daygetaway carwe are never...</td>\n",
       "      <td>ready for it i did something bad gorgeous styl...</td>\n",
       "      <td>fine i'll never tell that liea lace bodysuitf...</td>\n",
       "      <td>0.044444</td>\n",
       "      <td>0.040000</td>\n",
       "      <td>0.05</td>\n",
       "    </tr>\n",
       "    <tr>\n",
       "      <th>1</th>\n",
       "      <td>1</td>\n",
       "      <td>406</td>\n",
       "      <td>there is some unbelievable music that has come...</td>\n",
       "      <td>what it takes to make a pro blush all the boys...</td>\n",
       "      <td>there is some unbelievable music that has come...</td>\n",
       "      <td>what it takes to make a pro blush her blue ey...</td>\n",
       "      <td>0.360000</td>\n",
       "      <td>0.300000</td>\n",
       "      <td>0.45</td>\n",
       "    </tr>\n",
       "    <tr>\n",
       "      <th>2</th>\n",
       "      <td>2</td>\n",
       "      <td>568</td>\n",
       "      <td>1 ready for it 2 gorgeous 3 look what you made...</td>\n",
       "      <td>for it 2 gorgeous 3 look what you made me do 4...</td>\n",
       "      <td>1 ready</td>\n",
       "      <td>for use. In the Arduino IDE, you can clone it...</td>\n",
       "      <td>0.170213</td>\n",
       "      <td>0.148148</td>\n",
       "      <td>0.20</td>\n",
       "    </tr>\n",
       "    <tr>\n",
       "      <th>3</th>\n",
       "      <td>3</td>\n",
       "      <td>689</td>\n",
       "      <td>what a shame didnt wanna be the one that got a...</td>\n",
       "      <td>this is the last time you said no one else thi...</td>\n",
       "      <td>what a shame didnt wanna be the one that got a...</td>\n",
       "      <td>ever ill ever call you babe what a waste taki...</td>\n",
       "      <td>0.160000</td>\n",
       "      <td>0.133333</td>\n",
       "      <td>0.20</td>\n",
       "    </tr>\n",
       "    <tr>\n",
       "      <th>4</th>\n",
       "      <td>4</td>\n",
       "      <td>193</td>\n",
       "      <td>loving him is like driving a new maserati down...</td>\n",
       "      <td>was red red red red red red loving him is like...</td>\n",
       "      <td>loving him is like driving a new maserati down...</td>\n",
       "      <td>was red red red red red red xxx listening to ...</td>\n",
       "      <td>0.291667</td>\n",
       "      <td>0.250000</td>\n",
       "      <td>0.35</td>\n",
       "    </tr>\n",
       "  </tbody>\n",
       "</table>\n",
       "</div>\n",
       "      <button class=\"colab-df-convert\" onclick=\"convertToInteractive('df-a668d2bc-1846-4c9c-b1b1-b661d6198e0a')\"\n",
       "              title=\"Convert this dataframe to an interactive table.\"\n",
       "              style=\"display:none;\">\n",
       "        \n",
       "  <svg xmlns=\"http://www.w3.org/2000/svg\" height=\"24px\"viewBox=\"0 0 24 24\"\n",
       "       width=\"24px\">\n",
       "    <path d=\"M0 0h24v24H0V0z\" fill=\"none\"/>\n",
       "    <path d=\"M18.56 5.44l.94 2.06.94-2.06 2.06-.94-2.06-.94-.94-2.06-.94 2.06-2.06.94zm-11 1L8.5 8.5l.94-2.06 2.06-.94-2.06-.94L8.5 2.5l-.94 2.06-2.06.94zm10 10l.94 2.06.94-2.06 2.06-.94-2.06-.94-.94-2.06-.94 2.06-2.06.94z\"/><path d=\"M17.41 7.96l-1.37-1.37c-.4-.4-.92-.59-1.43-.59-.52 0-1.04.2-1.43.59L10.3 9.45l-7.72 7.72c-.78.78-.78 2.05 0 2.83L4 21.41c.39.39.9.59 1.41.59.51 0 1.02-.2 1.41-.59l7.78-7.78 2.81-2.81c.8-.78.8-2.07 0-2.86zM5.41 20L4 18.59l7.72-7.72 1.47 1.35L5.41 20z\"/>\n",
       "  </svg>\n",
       "      </button>\n",
       "      \n",
       "  <style>\n",
       "    .colab-df-container {\n",
       "      display:flex;\n",
       "      flex-wrap:wrap;\n",
       "      gap: 12px;\n",
       "    }\n",
       "\n",
       "    .colab-df-convert {\n",
       "      background-color: #E8F0FE;\n",
       "      border: none;\n",
       "      border-radius: 50%;\n",
       "      cursor: pointer;\n",
       "      display: none;\n",
       "      fill: #1967D2;\n",
       "      height: 32px;\n",
       "      padding: 0 0 0 0;\n",
       "      width: 32px;\n",
       "    }\n",
       "\n",
       "    .colab-df-convert:hover {\n",
       "      background-color: #E2EBFA;\n",
       "      box-shadow: 0px 1px 2px rgba(60, 64, 67, 0.3), 0px 1px 3px 1px rgba(60, 64, 67, 0.15);\n",
       "      fill: #174EA6;\n",
       "    }\n",
       "\n",
       "    [theme=dark] .colab-df-convert {\n",
       "      background-color: #3B4455;\n",
       "      fill: #D2E3FC;\n",
       "    }\n",
       "\n",
       "    [theme=dark] .colab-df-convert:hover {\n",
       "      background-color: #434B5C;\n",
       "      box-shadow: 0px 1px 3px 1px rgba(0, 0, 0, 0.15);\n",
       "      filter: drop-shadow(0px 1px 2px rgba(0, 0, 0, 0.3));\n",
       "      fill: #FFFFFF;\n",
       "    }\n",
       "  </style>\n",
       "\n",
       "      <script>\n",
       "        const buttonEl =\n",
       "          document.querySelector('#df-a668d2bc-1846-4c9c-b1b1-b661d6198e0a button.colab-df-convert');\n",
       "        buttonEl.style.display =\n",
       "          google.colab.kernel.accessAllowed ? 'block' : 'none';\n",
       "\n",
       "        async function convertToInteractive(key) {\n",
       "          const element = document.querySelector('#df-a668d2bc-1846-4c9c-b1b1-b661d6198e0a');\n",
       "          const dataTable =\n",
       "            await google.colab.kernel.invokeFunction('convertToInteractive',\n",
       "                                                     [key], {});\n",
       "          if (!dataTable) return;\n",
       "\n",
       "          const docLinkHtml = 'Like what you see? Visit the ' +\n",
       "            '<a target=\"_blank\" href=https://colab.research.google.com/notebooks/data_table.ipynb>data table notebook</a>'\n",
       "            + ' to learn more about interactive tables.';\n",
       "          element.innerHTML = '';\n",
       "          dataTable['output_type'] = 'display_data';\n",
       "          await google.colab.output.renderOutput(dataTable, element);\n",
       "          const docLink = document.createElement('div');\n",
       "          docLink.innerHTML = docLinkHtml;\n",
       "          element.appendChild(docLink);\n",
       "        }\n",
       "      </script>\n",
       "    </div>\n",
       "  </div>\n",
       "  "
      ],
      "text/plain": [
       "   Unnamed: 0  index                                          All_Songs  \\\n",
       "0           0    292   ready for it i did something bad gorgeous sty...   \n",
       "1           1    406  there is some unbelievable music that has come...   \n",
       "2           2    568  1 ready for it 2 gorgeous 3 look what you made...   \n",
       "3           3    689  what a shame didnt wanna be the one that got a...   \n",
       "4           4    193  loving him is like driving a new maserati down...   \n",
       "\n",
       "                                     True_end_lyrics  \\\n",
       "0  long live new years daygetaway carwe are never...   \n",
       "1  what it takes to make a pro blush all the boys...   \n",
       "2  for it 2 gorgeous 3 look what you made me do 4...   \n",
       "3  this is the last time you said no one else thi...   \n",
       "4  was red red red red red red loving him is like...   \n",
       "\n",
       "                                              Lyrics  \\\n",
       "0  ready for it i did something bad gorgeous styl...   \n",
       "1  there is some unbelievable music that has come...   \n",
       "2                                            1 ready   \n",
       "3  what a shame didnt wanna be the one that got a...   \n",
       "4  loving him is like driving a new maserati down...   \n",
       "\n",
       "                                    Generated_lyrics  rouge_score_fmeasure  \\\n",
       "0   fine i'll never tell that liea lace bodysuitf...              0.044444   \n",
       "1   what it takes to make a pro blush her blue ey...              0.360000   \n",
       "2   for use. In the Arduino IDE, you can clone it...              0.170213   \n",
       "3   ever ill ever call you babe what a waste taki...              0.160000   \n",
       "4   was red red red red red red xxx listening to ...              0.291667   \n",
       "\n",
       "   rouge_score_precision  rouge_score_recall  \n",
       "0               0.040000                0.05  \n",
       "1               0.300000                0.45  \n",
       "2               0.148148                0.20  \n",
       "3               0.133333                0.20  \n",
       "4               0.250000                0.35  "
      ]
     },
     "execution_count": 105,
     "metadata": {},
     "output_type": "execute_result"
    }
   ],
   "source": [
    "import pandas as pd\n",
    "from torchmetrics.text.rouge import ROUGEScore\n",
    "\n",
    "# Define a function to calculate Torch Rouge score for a pair of strings\n",
    "def cc(ref, pred, app):\n",
    "    rg = ROUGEScore()\n",
    "    return rg(pred, ref)[app].item()\n",
    "\n",
    "# Apply the function to each row of the DataFrame to calculate the Rouge score\n",
    "df['rouge_score_fmeasure'] = df.apply(lambda row: cc(row['True_end_lyrics'], row['Generated_lyrics'], \"rougeLsum_fmeasure\"), axis=1)\n",
    "df['rouge_score_precision'] = df.apply(lambda row: cc(row['True_end_lyrics'], row['Generated_lyrics'], \"rougeLsum_precision\"), axis=1)\n",
    "df['rouge_score_recall'] = df.apply(lambda row: cc(row['True_end_lyrics'], row['Generated_lyrics'], \"rougeLsum_recall\"), axis=1)\n",
    "\n",
    "# Print the updated DataFrame\n",
    "df.head()\n"
   ]
  },
  {
   "cell_type": "code",
   "execution_count": 107,
   "metadata": {
    "colab": {
     "base_uri": "https://localhost:8080/"
    },
    "id": "uCZYrMX1ChUM",
    "outputId": "fe2634bb-5d5d-4aa2-8945-e7ed06d3841e"
   },
   "outputs": [
    {
     "name": "stdout",
     "output_type": "stream",
     "text": [
      "Rouge F-Measure: 0.313116654753685\n",
      "Rouge Precision: 0.26482994094491\n",
      "Rouge Recall: 0.3878714295849204\n"
     ]
    }
   ],
   "source": [
    "#Mean of f_measure\n",
    "print(\"Rouge F-Measure:\", df['rouge_score_fmeasure'].mean())\n",
    "#Mean of Precision\n",
    "print(\"Rouge Precision:\", df['rouge_score_precision'].mean())\n",
    "#Mean of Recall\n",
    "print(\"Rouge Recall:\", df['rouge_score_recall'].mean())"
   ]
  },
  {
   "cell_type": "code",
   "execution_count": 108,
   "metadata": {
    "id": "IAKCqEMmu3ED"
   },
   "outputs": [],
   "source": [
    "df.to_csv(\"taylor_songs_results_final.csv\")"
   ]
  }
 ],
 "metadata": {
  "accelerator": "GPU",
  "colab": {
   "machine_shape": "hm",
   "provenance": []
  },
  "gpuClass": "standard",
  "kernelspec": {
   "display_name": "Python 3 (ipykernel)",
   "language": "python",
   "name": "python3"
  },
  "language_info": {
   "codemirror_mode": {
    "name": "ipython",
    "version": 3
   },
   "file_extension": ".py",
   "mimetype": "text/x-python",
   "name": "python",
   "nbconvert_exporter": "python",
   "pygments_lexer": "ipython3",
   "version": "3.9.12"
  },
  "widgets": {
   "application/vnd.jupyter.widget-state+json": {
    "1bf058a79d5e40a498c14458f86bfeaf": {
     "model_module": "@jupyter-widgets/controls",
     "model_module_version": "1.5.0",
     "model_name": "DescriptionStyleModel",
     "state": {
      "_model_module": "@jupyter-widgets/controls",
      "_model_module_version": "1.5.0",
      "_model_name": "DescriptionStyleModel",
      "_view_count": null,
      "_view_module": "@jupyter-widgets/base",
      "_view_module_version": "1.2.0",
      "_view_name": "StyleView",
      "description_width": ""
     }
    },
    "221a57d6208b4e98a3953c13db97ff58": {
     "model_module": "@jupyter-widgets/base",
     "model_module_version": "1.2.0",
     "model_name": "LayoutModel",
     "state": {
      "_model_module": "@jupyter-widgets/base",
      "_model_module_version": "1.2.0",
      "_model_name": "LayoutModel",
      "_view_count": null,
      "_view_module": "@jupyter-widgets/base",
      "_view_module_version": "1.2.0",
      "_view_name": "LayoutView",
      "align_content": null,
      "align_items": null,
      "align_self": null,
      "border": null,
      "bottom": null,
      "display": null,
      "flex": null,
      "flex_flow": null,
      "grid_area": null,
      "grid_auto_columns": null,
      "grid_auto_flow": null,
      "grid_auto_rows": null,
      "grid_column": null,
      "grid_gap": null,
      "grid_row": null,
      "grid_template_areas": null,
      "grid_template_columns": null,
      "grid_template_rows": null,
      "height": null,
      "justify_content": null,
      "justify_items": null,
      "left": null,
      "margin": null,
      "max_height": null,
      "max_width": null,
      "min_height": null,
      "min_width": null,
      "object_fit": null,
      "object_position": null,
      "order": null,
      "overflow": null,
      "overflow_x": null,
      "overflow_y": null,
      "padding": null,
      "right": null,
      "top": null,
      "visibility": null,
      "width": null
     }
    },
    "244ec3777ab942699df4ad59054644a7": {
     "model_module": "@jupyter-widgets/base",
     "model_module_version": "1.2.0",
     "model_name": "LayoutModel",
     "state": {
      "_model_module": "@jupyter-widgets/base",
      "_model_module_version": "1.2.0",
      "_model_name": "LayoutModel",
      "_view_count": null,
      "_view_module": "@jupyter-widgets/base",
      "_view_module_version": "1.2.0",
      "_view_name": "LayoutView",
      "align_content": null,
      "align_items": null,
      "align_self": null,
      "border": null,
      "bottom": null,
      "display": null,
      "flex": null,
      "flex_flow": null,
      "grid_area": null,
      "grid_auto_columns": null,
      "grid_auto_flow": null,
      "grid_auto_rows": null,
      "grid_column": null,
      "grid_gap": null,
      "grid_row": null,
      "grid_template_areas": null,
      "grid_template_columns": null,
      "grid_template_rows": null,
      "height": null,
      "justify_content": null,
      "justify_items": null,
      "left": null,
      "margin": null,
      "max_height": null,
      "max_width": null,
      "min_height": null,
      "min_width": null,
      "object_fit": null,
      "object_position": null,
      "order": null,
      "overflow": null,
      "overflow_x": null,
      "overflow_y": null,
      "padding": null,
      "right": null,
      "top": null,
      "visibility": null,
      "width": null
     }
    },
    "454cfcc34a724393bcbc8b378e99c51c": {
     "model_module": "@jupyter-widgets/controls",
     "model_module_version": "1.5.0",
     "model_name": "HBoxModel",
     "state": {
      "_dom_classes": [],
      "_model_module": "@jupyter-widgets/controls",
      "_model_module_version": "1.5.0",
      "_model_name": "HBoxModel",
      "_view_count": null,
      "_view_module": "@jupyter-widgets/controls",
      "_view_module_version": "1.5.0",
      "_view_name": "HBoxView",
      "box_style": "",
      "children": [
       "IPY_MODEL_4c23c79ba8bc47be887cc15d304dc3d4",
       "IPY_MODEL_d7ee0c3a7e26474b97fb3ca9ba9e3f14",
       "IPY_MODEL_db1806e0b2254280809e9283466dfdfc"
      ],
      "layout": "IPY_MODEL_244ec3777ab942699df4ad59054644a7"
     }
    },
    "4c23c79ba8bc47be887cc15d304dc3d4": {
     "model_module": "@jupyter-widgets/controls",
     "model_module_version": "1.5.0",
     "model_name": "HTMLModel",
     "state": {
      "_dom_classes": [],
      "_model_module": "@jupyter-widgets/controls",
      "_model_module_version": "1.5.0",
      "_model_name": "HTMLModel",
      "_view_count": null,
      "_view_module": "@jupyter-widgets/controls",
      "_view_module_version": "1.5.0",
      "_view_name": "HTMLView",
      "description": "",
      "description_tooltip": null,
      "layout": "IPY_MODEL_946f31fd8b554b06ae80d95d828035ec",
      "placeholder": "​",
      "style": "IPY_MODEL_1bf058a79d5e40a498c14458f86bfeaf",
      "value": "100%"
     }
    },
    "946f31fd8b554b06ae80d95d828035ec": {
     "model_module": "@jupyter-widgets/base",
     "model_module_version": "1.2.0",
     "model_name": "LayoutModel",
     "state": {
      "_model_module": "@jupyter-widgets/base",
      "_model_module_version": "1.2.0",
      "_model_name": "LayoutModel",
      "_view_count": null,
      "_view_module": "@jupyter-widgets/base",
      "_view_module_version": "1.2.0",
      "_view_name": "LayoutView",
      "align_content": null,
      "align_items": null,
      "align_self": null,
      "border": null,
      "bottom": null,
      "display": null,
      "flex": null,
      "flex_flow": null,
      "grid_area": null,
      "grid_auto_columns": null,
      "grid_auto_flow": null,
      "grid_auto_rows": null,
      "grid_column": null,
      "grid_gap": null,
      "grid_row": null,
      "grid_template_areas": null,
      "grid_template_columns": null,
      "grid_template_rows": null,
      "height": null,
      "justify_content": null,
      "justify_items": null,
      "left": null,
      "margin": null,
      "max_height": null,
      "max_width": null,
      "min_height": null,
      "min_width": null,
      "object_fit": null,
      "object_position": null,
      "order": null,
      "overflow": null,
      "overflow_x": null,
      "overflow_y": null,
      "padding": null,
      "right": null,
      "top": null,
      "visibility": null,
      "width": null
     }
    },
    "9481fcc48bfd4b038e6b7e088575d8a4": {
     "model_module": "@jupyter-widgets/controls",
     "model_module_version": "1.5.0",
     "model_name": "DescriptionStyleModel",
     "state": {
      "_model_module": "@jupyter-widgets/controls",
      "_model_module_version": "1.5.0",
      "_model_name": "DescriptionStyleModel",
      "_view_count": null,
      "_view_module": "@jupyter-widgets/base",
      "_view_module_version": "1.2.0",
      "_view_name": "StyleView",
      "description_width": ""
     }
    },
    "af7b865cfbc9487ca90280c92ae0f8f4": {
     "model_module": "@jupyter-widgets/base",
     "model_module_version": "1.2.0",
     "model_name": "LayoutModel",
     "state": {
      "_model_module": "@jupyter-widgets/base",
      "_model_module_version": "1.2.0",
      "_model_name": "LayoutModel",
      "_view_count": null,
      "_view_module": "@jupyter-widgets/base",
      "_view_module_version": "1.2.0",
      "_view_name": "LayoutView",
      "align_content": null,
      "align_items": null,
      "align_self": null,
      "border": null,
      "bottom": null,
      "display": null,
      "flex": null,
      "flex_flow": null,
      "grid_area": null,
      "grid_auto_columns": null,
      "grid_auto_flow": null,
      "grid_auto_rows": null,
      "grid_column": null,
      "grid_gap": null,
      "grid_row": null,
      "grid_template_areas": null,
      "grid_template_columns": null,
      "grid_template_rows": null,
      "height": null,
      "justify_content": null,
      "justify_items": null,
      "left": null,
      "margin": null,
      "max_height": null,
      "max_width": null,
      "min_height": null,
      "min_width": null,
      "object_fit": null,
      "object_position": null,
      "order": null,
      "overflow": null,
      "overflow_x": null,
      "overflow_y": null,
      "padding": null,
      "right": null,
      "top": null,
      "visibility": null,
      "width": null
     }
    },
    "bccbcf263824438f9587428232145793": {
     "model_module": "@jupyter-widgets/controls",
     "model_module_version": "1.5.0",
     "model_name": "ProgressStyleModel",
     "state": {
      "_model_module": "@jupyter-widgets/controls",
      "_model_module_version": "1.5.0",
      "_model_name": "ProgressStyleModel",
      "_view_count": null,
      "_view_module": "@jupyter-widgets/base",
      "_view_module_version": "1.2.0",
      "_view_name": "StyleView",
      "bar_color": null,
      "description_width": ""
     }
    },
    "d7ee0c3a7e26474b97fb3ca9ba9e3f14": {
     "model_module": "@jupyter-widgets/controls",
     "model_module_version": "1.5.0",
     "model_name": "FloatProgressModel",
     "state": {
      "_dom_classes": [],
      "_model_module": "@jupyter-widgets/controls",
      "_model_module_version": "1.5.0",
      "_model_name": "FloatProgressModel",
      "_view_count": null,
      "_view_module": "@jupyter-widgets/controls",
      "_view_module_version": "1.5.0",
      "_view_name": "ProgressView",
      "bar_style": "success",
      "description": "",
      "description_tooltip": null,
      "layout": "IPY_MODEL_221a57d6208b4e98a3953c13db97ff58",
      "max": 1,
      "min": 0,
      "orientation": "horizontal",
      "style": "IPY_MODEL_bccbcf263824438f9587428232145793",
      "value": 1
     }
    },
    "db1806e0b2254280809e9283466dfdfc": {
     "model_module": "@jupyter-widgets/controls",
     "model_module_version": "1.5.0",
     "model_name": "HTMLModel",
     "state": {
      "_dom_classes": [],
      "_model_module": "@jupyter-widgets/controls",
      "_model_module_version": "1.5.0",
      "_model_name": "HTMLModel",
      "_view_count": null,
      "_view_module": "@jupyter-widgets/controls",
      "_view_module_version": "1.5.0",
      "_view_name": "HTMLView",
      "description": "",
      "description_tooltip": null,
      "layout": "IPY_MODEL_af7b865cfbc9487ca90280c92ae0f8f4",
      "placeholder": "​",
      "style": "IPY_MODEL_9481fcc48bfd4b038e6b7e088575d8a4",
      "value": " 1/1 [00:00&lt;00:00, 57.79it/s]"
     }
    }
   }
  }
 },
 "nbformat": 4,
 "nbformat_minor": 1
}
